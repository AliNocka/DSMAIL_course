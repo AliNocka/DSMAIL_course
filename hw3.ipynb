{
  "nbformat": 4,
  "nbformat_minor": 0,
  "metadata": {
    "colab": {
      "name": "language_recognition_1.ipynb",
      "provenance": [],
      "collapsed_sections": []
    },
    "kernelspec": {
      "name": "python3",
      "display_name": "Python 3"
    },
    "widgets": {
      "application/vnd.jupyter.widget-state+json": {
        "4d9b8558e9ac459985aa53779f6d9095": {
          "model_module": "@jupyter-widgets/controls",
          "model_name": "HBoxModel",
          "state": {
            "_view_name": "HBoxView",
            "_dom_classes": [],
            "_model_name": "HBoxModel",
            "_view_module": "@jupyter-widgets/controls",
            "_model_module_version": "1.5.0",
            "_view_count": null,
            "_view_module_version": "1.5.0",
            "box_style": "",
            "layout": "IPY_MODEL_b2503d0afa054b0dbb8bfa912e435f0d",
            "_model_module": "@jupyter-widgets/controls",
            "children": [
              "IPY_MODEL_c414b4c584c7459fa676b2d5688cc803",
              "IPY_MODEL_cdd98fbea2af4b81828e1bfb147ec930"
            ]
          }
        },
        "b2503d0afa054b0dbb8bfa912e435f0d": {
          "model_module": "@jupyter-widgets/base",
          "model_name": "LayoutModel",
          "state": {
            "_view_name": "LayoutView",
            "grid_template_rows": null,
            "right": null,
            "justify_content": null,
            "_view_module": "@jupyter-widgets/base",
            "overflow": null,
            "_model_module_version": "1.2.0",
            "_view_count": null,
            "flex_flow": null,
            "width": null,
            "min_width": null,
            "border": null,
            "align_items": null,
            "bottom": null,
            "_model_module": "@jupyter-widgets/base",
            "top": null,
            "grid_column": null,
            "overflow_y": null,
            "overflow_x": null,
            "grid_auto_flow": null,
            "grid_area": null,
            "grid_template_columns": null,
            "flex": null,
            "_model_name": "LayoutModel",
            "justify_items": null,
            "grid_row": null,
            "max_height": null,
            "align_content": null,
            "visibility": null,
            "align_self": null,
            "height": null,
            "min_height": null,
            "padding": null,
            "grid_auto_rows": null,
            "grid_gap": null,
            "max_width": null,
            "order": null,
            "_view_module_version": "1.2.0",
            "grid_template_areas": null,
            "object_position": null,
            "object_fit": null,
            "grid_auto_columns": null,
            "margin": null,
            "display": null,
            "left": null
          }
        },
        "c414b4c584c7459fa676b2d5688cc803": {
          "model_module": "@jupyter-widgets/controls",
          "model_name": "FloatProgressModel",
          "state": {
            "_view_name": "ProgressView",
            "style": "IPY_MODEL_89e6a4c03eb54f75853ca363fd612759",
            "_dom_classes": [],
            "description": "100%",
            "_model_name": "FloatProgressModel",
            "bar_style": "success",
            "max": 92,
            "_view_module": "@jupyter-widgets/controls",
            "_model_module_version": "1.5.0",
            "value": 92,
            "_view_count": null,
            "_view_module_version": "1.5.0",
            "orientation": "horizontal",
            "min": 0,
            "description_tooltip": null,
            "_model_module": "@jupyter-widgets/controls",
            "layout": "IPY_MODEL_3ff56b38fae64e5ea61f3aab6ed6ef8a"
          }
        },
        "cdd98fbea2af4b81828e1bfb147ec930": {
          "model_module": "@jupyter-widgets/controls",
          "model_name": "HTMLModel",
          "state": {
            "_view_name": "HTMLView",
            "style": "IPY_MODEL_edd443a8741b4878829286990565f756",
            "_dom_classes": [],
            "description": "",
            "_model_name": "HTMLModel",
            "placeholder": "​",
            "_view_module": "@jupyter-widgets/controls",
            "_model_module_version": "1.5.0",
            "value": " 92/92 [03:33&lt;00:00,  2.32s/it]",
            "_view_count": null,
            "_view_module_version": "1.5.0",
            "description_tooltip": null,
            "_model_module": "@jupyter-widgets/controls",
            "layout": "IPY_MODEL_0519cd502a0c40fb87a8b81bb2fef162"
          }
        },
        "89e6a4c03eb54f75853ca363fd612759": {
          "model_module": "@jupyter-widgets/controls",
          "model_name": "ProgressStyleModel",
          "state": {
            "_view_name": "StyleView",
            "_model_name": "ProgressStyleModel",
            "description_width": "initial",
            "_view_module": "@jupyter-widgets/base",
            "_model_module_version": "1.5.0",
            "_view_count": null,
            "_view_module_version": "1.2.0",
            "bar_color": null,
            "_model_module": "@jupyter-widgets/controls"
          }
        },
        "3ff56b38fae64e5ea61f3aab6ed6ef8a": {
          "model_module": "@jupyter-widgets/base",
          "model_name": "LayoutModel",
          "state": {
            "_view_name": "LayoutView",
            "grid_template_rows": null,
            "right": null,
            "justify_content": null,
            "_view_module": "@jupyter-widgets/base",
            "overflow": null,
            "_model_module_version": "1.2.0",
            "_view_count": null,
            "flex_flow": null,
            "width": null,
            "min_width": null,
            "border": null,
            "align_items": null,
            "bottom": null,
            "_model_module": "@jupyter-widgets/base",
            "top": null,
            "grid_column": null,
            "overflow_y": null,
            "overflow_x": null,
            "grid_auto_flow": null,
            "grid_area": null,
            "grid_template_columns": null,
            "flex": null,
            "_model_name": "LayoutModel",
            "justify_items": null,
            "grid_row": null,
            "max_height": null,
            "align_content": null,
            "visibility": null,
            "align_self": null,
            "height": null,
            "min_height": null,
            "padding": null,
            "grid_auto_rows": null,
            "grid_gap": null,
            "max_width": null,
            "order": null,
            "_view_module_version": "1.2.0",
            "grid_template_areas": null,
            "object_position": null,
            "object_fit": null,
            "grid_auto_columns": null,
            "margin": null,
            "display": null,
            "left": null
          }
        },
        "edd443a8741b4878829286990565f756": {
          "model_module": "@jupyter-widgets/controls",
          "model_name": "DescriptionStyleModel",
          "state": {
            "_view_name": "StyleView",
            "_model_name": "DescriptionStyleModel",
            "description_width": "",
            "_view_module": "@jupyter-widgets/base",
            "_model_module_version": "1.5.0",
            "_view_count": null,
            "_view_module_version": "1.2.0",
            "_model_module": "@jupyter-widgets/controls"
          }
        },
        "0519cd502a0c40fb87a8b81bb2fef162": {
          "model_module": "@jupyter-widgets/base",
          "model_name": "LayoutModel",
          "state": {
            "_view_name": "LayoutView",
            "grid_template_rows": null,
            "right": null,
            "justify_content": null,
            "_view_module": "@jupyter-widgets/base",
            "overflow": null,
            "_model_module_version": "1.2.0",
            "_view_count": null,
            "flex_flow": null,
            "width": null,
            "min_width": null,
            "border": null,
            "align_items": null,
            "bottom": null,
            "_model_module": "@jupyter-widgets/base",
            "top": null,
            "grid_column": null,
            "overflow_y": null,
            "overflow_x": null,
            "grid_auto_flow": null,
            "grid_area": null,
            "grid_template_columns": null,
            "flex": null,
            "_model_name": "LayoutModel",
            "justify_items": null,
            "grid_row": null,
            "max_height": null,
            "align_content": null,
            "visibility": null,
            "align_self": null,
            "height": null,
            "min_height": null,
            "padding": null,
            "grid_auto_rows": null,
            "grid_gap": null,
            "max_width": null,
            "order": null,
            "_view_module_version": "1.2.0",
            "grid_template_areas": null,
            "object_position": null,
            "object_fit": null,
            "grid_auto_columns": null,
            "margin": null,
            "display": null,
            "left": null
          }
        }
      }
    }
  },
  "cells": [
    {
      "cell_type": "code",
      "metadata": {
        "ExecuteTime": {
          "end_time": "2020-11-01T09:25:08.828691Z",
          "start_time": "2020-11-01T09:25:08.748449Z"
        },
        "id": "lIWq2E4uPFek"
      },
      "source": [
        "import pandas as pd\n",
        "import matplotlib.pyplot as plt\n",
        "plt.style.use('ggplot')\n",
        "\n",
        "\n",
        "from sklearn.model_selection import train_test_split\n",
        "from sklearn.preprocessing  import LabelEncoder\n",
        "from sklearn.feature_extraction.text import TfidfVectorizer\n",
        "from sklearn.linear_model import SGDClassifier\n",
        "from sklearn.pipeline import Pipeline\n",
        "from sklearn.metrics import balanced_accuracy_score\n",
        "from sklearn.utils import resample\n",
        "from sklearn.metrics import classification_report\n",
        "from sklearn.feature_extraction.text import CountVectorizer"
      ],
      "execution_count": 1,
      "outputs": []
    },
    {
      "cell_type": "code",
      "metadata": {
        "id": "Oz64x-RjZtdy"
      },
      "source": [
        "# Загружаем данные, если хотим что-то обновить\n",
        "\n",
        "df = pd.read_csv('train.csv')\n",
        "df_test = pd.read_csv('test.csv')"
      ],
      "execution_count": 2,
      "outputs": []
    },
    {
      "cell_type": "code",
      "metadata": {
        "id": "pY79PLGXzoW9",
        "outputId": "3a40f65f-8a00-4159-faed-8f18d7774733",
        "colab": {
          "base_uri": "https://localhost:8080/"
        }
      },
      "source": [
        "print(df.shape)\n",
        "print(df_test.shape)"
      ],
      "execution_count": 4,
      "outputs": [
        {
          "output_type": "stream",
          "text": [
            "(3159633, 2)\n",
            "(2784634, 2)\n"
          ],
          "name": "stdout"
        }
      ]
    },
    {
      "cell_type": "code",
      "metadata": {
        "id": "FNxRrja0EZPG",
        "outputId": "a90dc171-84b1-4e41-b762-c83d48398a24",
        "colab": {
          "base_uri": "https://localhost:8080/"
        }
      },
      "source": [
        "# Дропаем дубликаты в трейне\n",
        "\n",
        "df.drop_duplicates(inplace=True, ignore_index=True)\n",
        "print(df.shape)"
      ],
      "execution_count": 3,
      "outputs": [
        {
          "output_type": "stream",
          "text": [
            "(2741628, 2)\n"
          ],
          "name": "stdout"
        }
      ]
    },
    {
      "cell_type": "code",
      "metadata": {
        "id": "qWgna1AHpAox"
      },
      "source": [
        "# Дропаем слишком короткие предложения\n",
        "\n",
        "df.drop(df[df['sentence'].str.len() <= 5].index, inplace=True)"
      ],
      "execution_count": 4,
      "outputs": []
    },
    {
      "cell_type": "markdown",
      "metadata": {
        "id": "6IVPOBoHbFni"
      },
      "source": [
        "Распределения языков"
      ]
    },
    {
      "cell_type": "code",
      "metadata": {
        "id": "u0FsbRS2Z8c5",
        "outputId": "703a83e1-75f7-4cda-a987-c8a6e727afbd",
        "colab": {
          "base_uri": "https://localhost:8080/",
          "height": 545
        }
      },
      "source": [
        "df.head(16)"
      ],
      "execution_count": 12,
      "outputs": [
        {
          "output_type": "execute_result",
          "data": {
            "text/html": [
              "<div>\n",
              "<style scoped>\n",
              "    .dataframe tbody tr th:only-of-type {\n",
              "        vertical-align: middle;\n",
              "    }\n",
              "\n",
              "    .dataframe tbody tr th {\n",
              "        vertical-align: top;\n",
              "    }\n",
              "\n",
              "    .dataframe thead th {\n",
              "        text-align: right;\n",
              "    }\n",
              "</style>\n",
              "<table border=\"1\" class=\"dataframe\">\n",
              "  <thead>\n",
              "    <tr style=\"text-align: right;\">\n",
              "      <th></th>\n",
              "      <th>sentence</th>\n",
              "      <th>language</th>\n",
              "    </tr>\n",
              "  </thead>\n",
              "  <tbody>\n",
              "    <tr>\n",
              "      <th>0</th>\n",
              "      <td>Pensez à la communication , le discours , les ...</td>\n",
              "      <td>fr</td>\n",
              "    </tr>\n",
              "    <tr>\n",
              "      <th>1</th>\n",
              "      <td>Můžete si ji pronajmout , vzít na splátky , ko...</td>\n",
              "      <td>cs</td>\n",
              "    </tr>\n",
              "    <tr>\n",
              "      <th>2</th>\n",
              "      <td>Každý starosta pochopil , že když mají tyto fo...</td>\n",
              "      <td>cs</td>\n",
              "    </tr>\n",
              "    <tr>\n",
              "      <th>3</th>\n",
              "      <td>Det är ytterligare bevis , men ändå — Jag krit...</td>\n",
              "      <td>sv</td>\n",
              "    </tr>\n",
              "    <tr>\n",
              "      <th>4</th>\n",
              "      <td>كان الأمر لا يصدق .</td>\n",
              "      <td>ar</td>\n",
              "    </tr>\n",
              "    <tr>\n",
              "      <th>5</th>\n",
              "      <td>Na primjer , pjesnik ga opisuje ovako .</td>\n",
              "      <td>hr</td>\n",
              "    </tr>\n",
              "    <tr>\n",
              "      <th>6</th>\n",
              "      <td>Semua rerumputan itu sekarang menutupi tanah s...</td>\n",
              "      <td>id</td>\n",
              "    </tr>\n",
              "    <tr>\n",
              "      <th>7</th>\n",
              "      <td>Det är en enorm utmaning för oss att göra det .</td>\n",
              "      <td>sv</td>\n",
              "    </tr>\n",
              "    <tr>\n",
              "      <th>8</th>\n",
              "      <td>Ono što ćete vidjeti - trebat ćete skočiti ovd...</td>\n",
              "      <td>hr</td>\n",
              "    </tr>\n",
              "    <tr>\n",
              "      <th>9</th>\n",
              "      <td>( Alqışlar ) Excel-dən istifadə etmişəm .</td>\n",
              "      <td>az</td>\n",
              "    </tr>\n",
              "    <tr>\n",
              "      <th>10</th>\n",
              "      <td>После увольнения я решил собрать своих друзей ...</td>\n",
              "      <td>ru</td>\n",
              "    </tr>\n",
              "    <tr>\n",
              "      <th>11</th>\n",
              "      <td>יכולתי בקלות למצוא את עצמי שם או ברחוב .</td>\n",
              "      <td>he</td>\n",
              "    </tr>\n",
              "    <tr>\n",
              "      <th>12</th>\n",
              "      <td>この過去の遺産と決別することが これまで以上に急務です 互いを深く隔てる社会的不平等を終わら...</td>\n",
              "      <td>ja</td>\n",
              "    </tr>\n",
              "    <tr>\n",
              "      <th>13</th>\n",
              "      <td>Ты знаешь , что это не гнев заставил моё сердц...</td>\n",
              "      <td>ru</td>\n",
              "    </tr>\n",
              "    <tr>\n",
              "      <th>14</th>\n",
              "      <td>Wie gehen wir so etwas also an ?</td>\n",
              "      <td>de</td>\n",
              "    </tr>\n",
              "    <tr>\n",
              "      <th>15</th>\n",
              "      <td>Niet anders dan wanneer een hond begint te bla...</td>\n",
              "      <td>nl</td>\n",
              "    </tr>\n",
              "  </tbody>\n",
              "</table>\n",
              "</div>"
            ],
            "text/plain": [
              "                                             sentence language\n",
              "0   Pensez à la communication , le discours , les ...       fr\n",
              "1   Můžete si ji pronajmout , vzít na splátky , ko...       cs\n",
              "2   Každý starosta pochopil , že když mají tyto fo...       cs\n",
              "3   Det är ytterligare bevis , men ändå — Jag krit...       sv\n",
              "4                                 كان الأمر لا يصدق .       ar\n",
              "5             Na primjer , pjesnik ga opisuje ovako .       hr\n",
              "6   Semua rerumputan itu sekarang menutupi tanah s...       id\n",
              "7     Det är en enorm utmaning för oss att göra det .       sv\n",
              "8   Ono što ćete vidjeti - trebat ćete skočiti ovd...       hr\n",
              "9           ( Alqışlar ) Excel-dən istifadə etmişəm .       az\n",
              "10  После увольнения я решил собрать своих друзей ...       ru\n",
              "11           יכולתי בקלות למצוא את עצמי שם או ברחוב .       he\n",
              "12  この過去の遺産と決別することが これまで以上に急務です 互いを深く隔てる社会的不平等を終わら...       ja\n",
              "13  Ты знаешь , что это не гнев заставил моё сердц...       ru\n",
              "14                   Wie gehen wir so etwas also an ?       de\n",
              "15  Niet anders dan wanneer een hond begint te bla...       nl"
            ]
          },
          "metadata": {
            "tags": []
          },
          "execution_count": 12
        }
      ]
    },
    {
      "cell_type": "code",
      "metadata": {
        "id": "HMUaWIdkdm9f",
        "outputId": "d8577819-b368-4737-83b0-6015fc72ae24",
        "colab": {
          "base_uri": "https://localhost:8080/",
          "height": 173
        }
      },
      "source": [
        "df.describe()"
      ],
      "execution_count": 13,
      "outputs": [
        {
          "output_type": "execute_result",
          "data": {
            "text/html": [
              "<div>\n",
              "<style scoped>\n",
              "    .dataframe tbody tr th:only-of-type {\n",
              "        vertical-align: middle;\n",
              "    }\n",
              "\n",
              "    .dataframe tbody tr th {\n",
              "        vertical-align: top;\n",
              "    }\n",
              "\n",
              "    .dataframe thead th {\n",
              "        text-align: right;\n",
              "    }\n",
              "</style>\n",
              "<table border=\"1\" class=\"dataframe\">\n",
              "  <thead>\n",
              "    <tr style=\"text-align: right;\">\n",
              "      <th></th>\n",
              "      <th>sentence</th>\n",
              "      <th>language</th>\n",
              "    </tr>\n",
              "  </thead>\n",
              "  <tbody>\n",
              "    <tr>\n",
              "      <th>count</th>\n",
              "      <td>2738485</td>\n",
              "      <td>2738485</td>\n",
              "    </tr>\n",
              "    <tr>\n",
              "      <th>unique</th>\n",
              "      <td>2735693</td>\n",
              "      <td>59</td>\n",
              "    </tr>\n",
              "    <tr>\n",
              "      <th>top</th>\n",
              "      <td>Josh .</td>\n",
              "      <td>en</td>\n",
              "    </tr>\n",
              "    <tr>\n",
              "      <th>freq</th>\n",
              "      <td>15</td>\n",
              "      <td>130390</td>\n",
              "    </tr>\n",
              "  </tbody>\n",
              "</table>\n",
              "</div>"
            ],
            "text/plain": [
              "       sentence language\n",
              "count   2738485  2738485\n",
              "unique  2735693       59\n",
              "top      Josh .       en\n",
              "freq         15   130390"
            ]
          },
          "metadata": {
            "tags": []
          },
          "execution_count": 13
        }
      ]
    },
    {
      "cell_type": "code",
      "metadata": {
        "id": "jPXksO6oew_A",
        "outputId": "47156da9-c1b3-4d1d-bbe2-092c4ad3c88f",
        "colab": {
          "base_uri": "https://localhost:8080/",
          "height": 204
        }
      },
      "source": [
        "lang_count = (\n",
        "    df.language.value_counts()\n",
        "    .to_frame()\n",
        "    .reset_index()\n",
        ")\n",
        "\n",
        "lang_count.head()"
      ],
      "execution_count": 14,
      "outputs": [
        {
          "output_type": "execute_result",
          "data": {
            "text/html": [
              "<div>\n",
              "<style scoped>\n",
              "    .dataframe tbody tr th:only-of-type {\n",
              "        vertical-align: middle;\n",
              "    }\n",
              "\n",
              "    .dataframe tbody tr th {\n",
              "        vertical-align: top;\n",
              "    }\n",
              "\n",
              "    .dataframe thead th {\n",
              "        text-align: right;\n",
              "    }\n",
              "</style>\n",
              "<table border=\"1\" class=\"dataframe\">\n",
              "  <thead>\n",
              "    <tr style=\"text-align: right;\">\n",
              "      <th></th>\n",
              "      <th>index</th>\n",
              "      <th>language</th>\n",
              "    </tr>\n",
              "  </thead>\n",
              "  <tbody>\n",
              "    <tr>\n",
              "      <th>0</th>\n",
              "      <td>en</td>\n",
              "      <td>130390</td>\n",
              "    </tr>\n",
              "    <tr>\n",
              "      <th>1</th>\n",
              "      <td>ar</td>\n",
              "      <td>108542</td>\n",
              "    </tr>\n",
              "    <tr>\n",
              "      <th>2</th>\n",
              "      <td>he</td>\n",
              "      <td>106893</td>\n",
              "    </tr>\n",
              "    <tr>\n",
              "      <th>3</th>\n",
              "      <td>ru</td>\n",
              "      <td>105198</td>\n",
              "    </tr>\n",
              "    <tr>\n",
              "      <th>4</th>\n",
              "      <td>ko</td>\n",
              "      <td>103888</td>\n",
              "    </tr>\n",
              "  </tbody>\n",
              "</table>\n",
              "</div>"
            ],
            "text/plain": [
              "  index  language\n",
              "0    en    130390\n",
              "1    ar    108542\n",
              "2    he    106893\n",
              "3    ru    105198\n",
              "4    ko    103888"
            ]
          },
          "metadata": {
            "tags": []
          },
          "execution_count": 14
        }
      ]
    },
    {
      "cell_type": "code",
      "metadata": {
        "id": "XnzSGDT2fiNO",
        "outputId": "d59f43de-57db-4a0c-c829-ec3a4efdd304",
        "colab": {
          "base_uri": "https://localhost:8080/",
          "height": 1000
        }
      },
      "source": [
        "fig, ax = plt.subplots(figsize=(8,25))\n",
        "\n",
        "ax.barh(lang_count['index'], lang_count['language'])\n",
        "ax.invert_yaxis();"
      ],
      "execution_count": 15,
      "outputs": [
        {
          "output_type": "display_data",
          "data": {
            "image/png": "[encoded data removed]",
            "text/plain": [
              "<Figure size 576x1800 with 1 Axes>"
            ]
          },
          "metadata": {
            "tags": [],
            "needs_background": "light"
          }
        }
      ]
    },
    {
      "cell_type": "code",
      "metadata": {
        "id": "cyllCVTnftda",
        "outputId": "1ad779d7-6e0c-4932-bfcf-d4dadaa93d01",
        "colab": {
          "base_uri": "https://localhost:8080/",
          "height": 111
        }
      },
      "source": [
        "lang_count[lang_count['index'].apply(lambda x: x in {\"en\", \"kk\"})]"
      ],
      "execution_count": 16,
      "outputs": [
        {
          "output_type": "execute_result",
          "data": {
            "text/html": [
              "<div>\n",
              "<style scoped>\n",
              "    .dataframe tbody tr th:only-of-type {\n",
              "        vertical-align: middle;\n",
              "    }\n",
              "\n",
              "    .dataframe tbody tr th {\n",
              "        vertical-align: top;\n",
              "    }\n",
              "\n",
              "    .dataframe thead th {\n",
              "        text-align: right;\n",
              "    }\n",
              "</style>\n",
              "<table border=\"1\" class=\"dataframe\">\n",
              "  <thead>\n",
              "    <tr style=\"text-align: right;\">\n",
              "      <th></th>\n",
              "      <th>index</th>\n",
              "      <th>language</th>\n",
              "    </tr>\n",
              "  </thead>\n",
              "  <tbody>\n",
              "    <tr>\n",
              "      <th>0</th>\n",
              "      <td>en</td>\n",
              "      <td>130390</td>\n",
              "    </tr>\n",
              "    <tr>\n",
              "      <th>58</th>\n",
              "      <td>kk</td>\n",
              "      <td>2012</td>\n",
              "    </tr>\n",
              "  </tbody>\n",
              "</table>\n",
              "</div>"
            ],
            "text/plain": [
              "   index  language\n",
              "0     en    130390\n",
              "58    kk      2012"
            ]
          },
          "metadata": {
            "tags": []
          },
          "execution_count": 16
        }
      ]
    },
    {
      "cell_type": "markdown",
      "metadata": {
        "id": "otGJ5tnFi0WR"
      },
      "source": [
        "Обучение"
      ]
    },
    {
      "cell_type": "code",
      "metadata": {
        "id": "Rooa_pU-ViX3"
      },
      "source": [
        "x = df['sentence']\n",
        "y = df['language']\n"
      ],
      "execution_count": 7,
      "outputs": []
    },
    {
      "cell_type": "code",
      "metadata": {
        "id": "PM2dw82pXdvu"
      },
      "source": [
        "def preprocessor(sentence):\n",
        "  allowed_chars = {'`', ' '}\n",
        "  return ''.join([c for c in sentence if c.isalpha or c in allowed_chars])\n",
        "\n"
      ],
      "execution_count": 5,
      "outputs": []
    },
    {
      "cell_type": "markdown",
      "metadata": {
        "id": "cr7boUjP4WkA"
      },
      "source": [
        "CountVectorizer дал скор выше TF-IDF, поэтому используем его с биграммами и min_df=30, чтобы удалить редкие сочетания"
      ]
    },
    {
      "cell_type": "code",
      "metadata": {
        "id": "QYW8_vL7IQEx",
        "outputId": "f346c8d9-f66e-477c-b0f8-52adf5763744",
        "colab": {
          "base_uri": "https://localhost:8080/"
        }
      },
      "source": [
        "%%time\n",
        "\n",
        "vectorizer = CountVectorizer(analyzer='char_wb', ngram_range=(1, 2), preprocessor=preprocessor, max_df=0.8, min_df=30)\n",
        "x_vectorized = vectorizer.fit_transform(x)"
      ],
      "execution_count": 9,
      "outputs": [
        {
          "output_type": "stream",
          "text": [
            "CPU times: user 5min 54s, sys: 9.5 s, total: 6min 3s\n",
            "Wall time: 6min 4s\n"
          ],
          "name": "stdout"
        }
      ]
    },
    {
      "cell_type": "code",
      "metadata": {
        "id": "hS7RvmavnWK5",
        "outputId": "62351591-983d-47ac-f57d-18ccd0bae622",
        "colab": {
          "base_uri": "https://localhost:8080/"
        }
      },
      "source": [
        "# Save model\n",
        "\n",
        "from joblib import dump, load\n",
        "\n",
        "dump(vectorizer, 'vectorizer.joblib')\n"
      ],
      "execution_count": 10,
      "outputs": [
        {
          "output_type": "execute_result",
          "data": {
            "text/plain": [
              "['vectorizer.joblib']"
            ]
          },
          "metadata": {
            "tags": []
          },
          "execution_count": 10
        }
      ]
    },
    {
      "cell_type": "code",
      "metadata": {
        "id": "_jF6me3jnasE"
      },
      "source": [
        "# load model\n",
        "\n",
        "from joblib import dump, load\n",
        "\n",
        "vectorizer = load('vectorizer.joblib')\n"
      ],
      "execution_count": 6,
      "outputs": []
    },
    {
      "cell_type": "code",
      "metadata": {
        "id": "J1BnhjIRdeZh",
        "outputId": "0890385e-0cc0-4f04-c8e8-c3807c0b7b62",
        "colab": {
          "base_uri": "https://localhost:8080/"
        }
      },
      "source": [
        "x_vectorized.shape"
      ],
      "execution_count": 8,
      "outputs": [
        {
          "output_type": "execute_result",
          "data": {
            "text/plain": [
              "(2738485, 69158)"
            ]
          },
          "metadata": {
            "tags": []
          },
          "execution_count": 8
        }
      ]
    },
    {
      "cell_type": "code",
      "metadata": {
        "id": "YiR-yYSaoydr"
      },
      "source": [
        "import numpy as np\n",
        "\n",
        "encoder = LabelEncoder()\n",
        "y = encoder.fit_transform(y)\n"
      ],
      "execution_count": 8,
      "outputs": []
    },
    {
      "cell_type": "code",
      "metadata": {
        "id": "vLXSZREIntYW"
      },
      "source": [
        "SEED = 42\n",
        "\n",
        "x_train, x_test, y_train, y_test = train_test_split(x_vectorized, y, test_size=0.33, random_state=SEED)"
      ],
      "execution_count": 12,
      "outputs": []
    },
    {
      "cell_type": "code",
      "metadata": {
        "id": "3MqIVtL7DGKC"
      },
      "source": [
        "from sklearn.utils.class_weight import compute_class_weight\n",
        "\n",
        "\n",
        "classes = np.unique(y)\n",
        "computed_weights = compute_class_weight('balanced', classes, y)\n",
        "class_weight = {classes[i]: computed_weights[i] for i in range(classes.shape[0])}"
      ],
      "execution_count": 13,
      "outputs": []
    },
    {
      "cell_type": "code",
      "metadata": {
        "id": "N0UVytO099Yd",
        "outputId": "1c4e1658-1653-4dd8-a4ba-38788cff5c15",
        "colab": {
          "base_uri": "https://localhost:8080/"
        }
      },
      "source": [
        "# Save model\n",
        "\n",
        "from joblib import dump, load\n",
        "\n",
        "dump(x_vectorized, 'x_vec.joblib')\n",
        "dump(y, 'y.joblib')"
      ],
      "execution_count": 14,
      "outputs": [
        {
          "output_type": "execute_result",
          "data": {
            "text/plain": [
              "['y.joblib']"
            ]
          },
          "metadata": {
            "tags": []
          },
          "execution_count": 14
        }
      ]
    },
    {
      "cell_type": "code",
      "metadata": {
        "id": "rop2rh8v-cYo"
      },
      "source": [
        "# load model\n",
        "\n",
        "from joblib import dump, load\n",
        "\n",
        "x_vectorized = load('x_vec.joblib')\n",
        "y = load('y.joblib')"
      ],
      "execution_count": 9,
      "outputs": []
    },
    {
      "cell_type": "markdown",
      "metadata": {
        "id": "zg_ZTrAP4pRe"
      },
      "source": [
        "Тренировка основной модели"
      ]
    },
    {
      "cell_type": "code",
      "metadata": {
        "id": "pxfVsc01iZYd",
        "outputId": "5860e134-91ae-4494-e882-f6c3365927af",
        "colab": {
          "base_uri": "https://localhost:8080/",
          "height": 171,
          "referenced_widgets": [
            "4d9b8558e9ac459985aa53779f6d9095",
            "b2503d0afa054b0dbb8bfa912e435f0d",
            "c414b4c584c7459fa676b2d5688cc803",
            "cdd98fbea2af4b81828e1bfb147ec930",
            "89e6a4c03eb54f75853ca363fd612759",
            "3ff56b38fae64e5ea61f3aab6ed6ef8a",
            "edd443a8741b4878829286990565f756",
            "0519cd502a0c40fb87a8b81bb2fef162"
          ]
        }
      },
      "source": [
        "%%time\n",
        "from sklearn.linear_model import SGDClassifier\n",
        "import math\n",
        "from tqdm import tqdm_notebook\n",
        "\n",
        "classes = np.unique(y)\n",
        "model = SGDClassifier(class_weight=class_weight, loss='log',\n",
        "                      random_state=SEED)\n",
        "# model.fit(x_train, y_train)\n",
        "BATCH_SIZE = 20000\n",
        "n_batches = math.ceil(x_train.shape[0] / BATCH_SIZE)\n",
        "for i in tqdm_notebook(range(n_batches)):\n",
        "  start = i * BATCH_SIZE\n",
        "  end = min(BATCH_SIZE + start, x_train.shape[0])\n",
        "  model.partial_fit(x_train[start:end], y_train[start:end], classes=classes)\n",
        "\n"
      ],
      "execution_count": 15,
      "outputs": [
        {
          "output_type": "stream",
          "text": [
            "/usr/local/lib/python3.6/dist-packages/ipykernel_launcher.py:12: TqdmDeprecationWarning: This function will be removed in tqdm==5.0.0\n",
            "Please use `tqdm.notebook.tqdm` instead of `tqdm.tqdm_notebook`\n",
            "  if sys.path[0] == '':\n"
          ],
          "name": "stderr"
        },
        {
          "output_type": "display_data",
          "data": {
            "application/vnd.jupyter.widget-view+json": {
              "model_id": "4d9b8558e9ac459985aa53779f6d9095",
              "version_minor": 0,
              "version_major": 2
            },
            "text/plain": [
              "HBox(children=(FloatProgress(value=0.0, max=92.0), HTML(value='')))"
            ]
          },
          "metadata": {
            "tags": []
          }
        },
        {
          "output_type": "stream",
          "text": [
            "\n",
            "CPU times: user 2min 14s, sys: 1min 32s, total: 3min 47s\n",
            "Wall time: 1min 58s\n"
          ],
          "name": "stdout"
        }
      ]
    },
    {
      "cell_type": "code",
      "metadata": {
        "id": "-iqfCvSUl8C_",
        "outputId": "bc6b1718-861d-4911-ec4d-67733ae908b4",
        "colab": {
          "base_uri": "https://localhost:8080/"
        }
      },
      "source": [
        "predictions_train = model.predict(x_train)\n",
        "print(balanced_accuracy_score(y_train, predictions_train))\n",
        "\n",
        "predictions = model.predict(x_test)\n",
        "print(balanced_accuracy_score(y_test, predictions))\n",
        "\n",
        "print(classification_report(y_test, predictions, target_names=encoder.classes_))"
      ],
      "execution_count": 16,
      "outputs": [
        {
          "output_type": "stream",
          "text": [
            "0.9027114243704364\n",
            "0.8983141246942987\n",
            "              precision    recall  f1-score   support\n",
            "\n",
            "          ar       1.00      1.00      1.00     35862\n",
            "          az       0.97      0.94      0.96      1128\n",
            "          be       0.95      0.96      0.95       814\n",
            "          bg       0.97      0.97      0.97     29097\n",
            "          bn       0.98      1.00      0.99       779\n",
            "          bs       0.03      0.44      0.06       994\n",
            "          cs       0.99      0.95      0.97     17403\n",
            "          da       0.95      0.60      0.73      7717\n",
            "          de       0.98      0.98      0.98     28000\n",
            "          el       1.00      1.00      1.00     22391\n",
            "          en       0.99      0.98      0.99     42991\n",
            "          eo       0.61      0.96      0.75      1151\n",
            "          es       0.93      0.97      0.95     32861\n",
            "          et       0.85      0.97      0.90      1975\n",
            "          eu       0.89      0.97      0.93       901\n",
            "          fa       1.00      1.00      1.00     25282\n",
            "          fi       0.97      0.98      0.97      4184\n",
            "          fr       0.93      0.96      0.94     31940\n",
            "       fr-ca       0.63      0.52      0.57      3511\n",
            "          gl       0.37      0.83      0.51      1746\n",
            "          he       1.00      1.00      1.00     35085\n",
            "          hi       1.00      0.99      0.99      3263\n",
            "          hr       0.84      0.14      0.24     20687\n",
            "          hu       1.00      0.99      0.99     24809\n",
            "          hy       1.00      1.00      1.00      3801\n",
            "          id       0.94      0.91      0.92     14557\n",
            "          it       0.98      0.97      0.97     34029\n",
            "          ja       1.00      1.00      1.00     33799\n",
            "          ka       1.00      1.00      1.00      2284\n",
            "          kk       0.98      0.99      0.98       645\n",
            "          ko       1.00      1.00      1.00     34308\n",
            "          ku       1.00      0.99      0.99      1821\n",
            "          lt       0.92      0.99      0.95      7102\n",
            "          mk       0.80      0.97      0.88      4232\n",
            "          mn       0.98      0.99      0.99      1309\n",
            "          mr       0.97      0.99      0.98      1749\n",
            "          ms       0.17      0.15      0.16       922\n",
            "          my       1.00      1.00      1.00      3720\n",
            "          nb       0.31      0.98      0.47      2765\n",
            "          nl       0.99      0.97      0.98     30500\n",
            "          pl       0.99      0.99      0.99     29432\n",
            "          pt       0.41      0.18      0.25      8614\n",
            "       pt-br       0.81      0.83      0.82     30885\n",
            "          ro       0.98      0.98      0.98     30013\n",
            "          ru       0.99      0.98      0.98     34809\n",
            "          sk       0.91      0.96      0.94     10373\n",
            "          sl       0.80      0.76      0.78      3374\n",
            "          sq       0.98      0.98      0.98      7596\n",
            "          sr       0.62      0.73      0.67     22936\n",
            "          sv       0.98      0.91      0.94      9619\n",
            "          ta       1.00      1.00      1.00      1136\n",
            "          th       1.00      1.00      1.00     16359\n",
            "          tr       0.99      0.99      0.99     30566\n",
            "          uk       0.99      0.98      0.99     18051\n",
            "          ur       0.99      0.99      0.99      1141\n",
            "          vi       1.00      1.00      1.00     28736\n",
            "          zh       0.68      0.83      0.75       957\n",
            "       zh-cn       0.99      0.99      0.99     33316\n",
            "       zh-tw       0.99      0.98      0.98     33674\n",
            "\n",
            "    accuracy                           0.93    903701\n",
            "   macro avg       0.88      0.90      0.88    903701\n",
            "weighted avg       0.95      0.93      0.93    903701\n",
            "\n"
          ],
          "name": "stdout"
        }
      ]
    },
    {
      "cell_type": "code",
      "metadata": {
        "id": "q8SfHdcsnwBi"
      },
      "source": [
        "# Save model\n",
        "\n",
        "from joblib import dump, load\n",
        "\n",
        "dump(model, 'clf.joblib')"
      ],
      "execution_count": null,
      "outputs": []
    },
    {
      "cell_type": "code",
      "metadata": {
        "id": "vW9UIceSnwqe"
      },
      "source": [
        "# Restore model\n",
        "from joblib import dump, load\n",
        "\n",
        "model = load('clf.joblib')"
      ],
      "execution_count": 9,
      "outputs": []
    },
    {
      "cell_type": "code",
      "metadata": {
        "id": "muHuNaih1wSa",
        "outputId": "09dad980-eb3d-4334-e1f7-1965e1607454",
        "colab": {
          "base_uri": "https://localhost:8080/"
        }
      },
      "source": [
        "encoder.transform(['ms'])"
      ],
      "execution_count": 17,
      "outputs": [
        {
          "output_type": "execute_result",
          "data": {
            "text/plain": [
              "array([36])"
            ]
          },
          "metadata": {
            "tags": []
          },
          "execution_count": 17
        }
      ]
    },
    {
      "cell_type": "code",
      "metadata": {
        "id": "ws2pQem1vymE",
        "outputId": "810e39c2-2efd-4df0-b2d2-60ba2553fd97",
        "colab": {
          "base_uri": "https://localhost:8080/"
        }
      },
      "source": [
        "pd.Series(encoder.inverse_transform(predictions[y_test == 36])).value_counts()"
      ],
      "execution_count": 18,
      "outputs": [
        {
          "output_type": "execute_result",
          "data": {
            "text/plain": [
              "id       740\n",
              "ms       139\n",
              "nb        23\n",
              "tr         4\n",
              "sv         3\n",
              "sr         3\n",
              "lt         2\n",
              "es         2\n",
              "fr-ca      1\n",
              "de         1\n",
              "it         1\n",
              "pl         1\n",
              "fi         1\n",
              "en         1\n",
              "dtype: int64"
            ]
          },
          "metadata": {
            "tags": []
          },
          "execution_count": 18
        }
      ]
    },
    {
      "cell_type": "markdown",
      "metadata": {
        "id": "iCidjiaw4t59"
      },
      "source": [
        "Теперь создаем вспомогательные модели для тренировки на языках из одних семейств, которые имеют плохой скор\n",
        "\n",
        "Для обучения этих моделей было принято решение заиспользовать дополнительный собранный датасет из исследования по DSL, которое проводилось как раз по этим языкам. Выделим 3 нужные нам семьи:\n",
        "\n",
        "хорватско-сербско-боснийская\n",
        "\n",
        "португальская\n",
        "\n",
        "малазийско-индонезийская"
      ]
    },
    {
      "cell_type": "code",
      "metadata": {
        "id": "6NvKRBt64hM7"
      },
      "source": [
        "df_train_dsl = pd.read_csv('DSL-TRAIN.txt', sep='\\t', names=['sentence', 'language'])\n",
        "df_train_dsl.head()"
      ],
      "execution_count": null,
      "outputs": []
    },
    {
      "cell_type": "code",
      "metadata": {
        "id": "SMhsxrnh4o1z"
      },
      "source": [
        "y_dsl = df_train_dsl['language']\n",
        "y_dsl[y_dsl == 'pt-PT'] = 'pt'\n",
        "y_dsl[y_dsl == 'pt-BR'] = 'pt-br'\n",
        "y_dsl[y_dsl == 'my'] = 'ms'\n",
        "df_train_dsl['language'] = y_dsl"
      ],
      "execution_count": null,
      "outputs": []
    },
    {
      "cell_type": "markdown",
      "metadata": {
        "id": "mA88uSnK40Pl"
      },
      "source": [
        "Первой будет сербско-хорватско-боснийская семья"
      ]
    },
    {
      "cell_type": "code",
      "metadata": {
        "id": "XWa7TTTx0UR8"
      },
      "source": [
        "hr_df = df_train_dsl[(df_train_dsl['language'] == 'sr') | (df_train_dsl['language'] == 'hr') | (df_train_dsl['language'] == 'bs')]"
      ],
      "execution_count": 99,
      "outputs": []
    },
    {
      "cell_type": "code",
      "metadata": {
        "id": "pFy_BVzk0Ual"
      },
      "source": [
        "x_hr = hr_df['sentence']\n",
        "y_hr = hr_df['language']"
      ],
      "execution_count": 100,
      "outputs": []
    },
    {
      "cell_type": "code",
      "metadata": {
        "id": "kxoyGvXk0Uek"
      },
      "source": [
        "vectorizer_hr = CountVectorizer(analyzer='char_wb', ngram_range=(1, 4), preprocessor=preprocessor, max_df=0.8, min_df=3)\n",
        "x_hr_vect = vectorizer_hr.fit_transform(x_hr)"
      ],
      "execution_count": 101,
      "outputs": []
    },
    {
      "cell_type": "code",
      "metadata": {
        "id": "Kjs7fKpD0UP6"
      },
      "source": [
        "encoder_hr = LabelEncoder()\n",
        "y_hr = encoder_hr.fit_transform(y_hr)\n"
      ],
      "execution_count": 102,
      "outputs": []
    },
    {
      "cell_type": "code",
      "metadata": {
        "id": "QVY3oODS0UOW"
      },
      "source": [
        "SEED = 42\n",
        "\n",
        "x_train_hr, x_test_hr, y_train_hr, y_test_hr = train_test_split(x_hr_vect, y_hr, test_size=0.33, random_state=SEED)"
      ],
      "execution_count": 103,
      "outputs": []
    },
    {
      "cell_type": "code",
      "metadata": {
        "id": "GNwg6yKl0v7k",
        "outputId": "c802c731-5b72-4724-c427-8945ecb00c7e",
        "colab": {
          "base_uri": "https://localhost:8080/"
        }
      },
      "source": [
        "from sklearn.linear_model import LogisticRegression\n",
        "\n",
        "model_hr = LogisticRegression(class_weight='balanced', max_iter=1000, C=50)\n",
        "model_hr.fit(x_train_hr, y_train_hr)\n",
        "hr_pred = model_hr.predict(x_test_hr)"
      ],
      "execution_count": 114,
      "outputs": [
        {
          "output_type": "stream",
          "text": [
            "/usr/local/lib/python3.6/dist-packages/sklearn/linear_model/_logistic.py:940: ConvergenceWarning: lbfgs failed to converge (status=1):\n",
            "STOP: TOTAL NO. of ITERATIONS REACHED LIMIT.\n",
            "\n",
            "Increase the number of iterations (max_iter) or scale the data as shown in:\n",
            "    https://scikit-learn.org/stable/modules/preprocessing.html\n",
            "Please also refer to the documentation for alternative solver options:\n",
            "    https://scikit-learn.org/stable/modules/linear_model.html#logistic-regression\n",
            "  extra_warning_msg=_LOGISTIC_SOLVER_CONVERGENCE_MSG)\n"
          ],
          "name": "stderr"
        }
      ]
    },
    {
      "cell_type": "code",
      "metadata": {
        "id": "EDcUItpG0v_S",
        "outputId": "dddf39f8-7094-4c8b-9349-06ddb68ceccd",
        "colab": {
          "base_uri": "https://localhost:8080/"
        }
      },
      "source": [
        "print(balanced_accuracy_score(y_test_hr, hr_pred))\n",
        "print(classification_report(y_test_hr, hr_pred, target_names=encoder_hr.classes_))"
      ],
      "execution_count": 118,
      "outputs": [
        {
          "output_type": "stream",
          "text": [
            "0.8005076568881918\n",
            "              precision    recall  f1-score   support\n",
            "\n",
            "          bs       0.73      0.72      0.73      5871\n",
            "          hr       0.81      0.80      0.81      5864\n",
            "          sr       0.86      0.87      0.87      5798\n",
            "\n",
            "    accuracy                           0.80     17533\n",
            "   macro avg       0.80      0.80      0.80     17533\n",
            "weighted avg       0.80      0.80      0.80     17533\n",
            "\n"
          ],
          "name": "stdout"
        }
      ]
    },
    {
      "cell_type": "markdown",
      "metadata": {
        "id": "K2Qh25U346ER"
      },
      "source": [
        "Затем португальский и (возможно) галисийский"
      ]
    },
    {
      "cell_type": "code",
      "metadata": {
        "id": "yp30xbt7Q_Vs"
      },
      "source": [
        "pt_df = df_train_dsl[(df_train_dsl['language'] == 'pt') | (df_train_dsl['language'] == 'pt-br')]\n",
        "#| (df['language'] == 'gl')"
      ],
      "execution_count": 106,
      "outputs": []
    },
    {
      "cell_type": "code",
      "metadata": {
        "id": "s_tdXpfCRy-N"
      },
      "source": [
        "x_pt = pt_df['sentence']\n",
        "y_pt = pt_df['language']"
      ],
      "execution_count": 107,
      "outputs": []
    },
    {
      "cell_type": "code",
      "metadata": {
        "id": "UIhIm2SMRfFn"
      },
      "source": [
        "vectorizer_pt = CountVectorizer(analyzer='char_wb', ngram_range=(1, 3), preprocessor=preprocessor, max_df=0.8, min_df=5)\n",
        "x_pt_vect = vectorizer_pt.fit_transform(x_pt)"
      ],
      "execution_count": 108,
      "outputs": []
    },
    {
      "cell_type": "code",
      "metadata": {
        "id": "-1q-n0F6R78T"
      },
      "source": [
        "encoder_pt = LabelEncoder()\n",
        "y_pt = encoder_pt.fit_transform(y_pt)\n"
      ],
      "execution_count": 109,
      "outputs": []
    },
    {
      "cell_type": "code",
      "metadata": {
        "id": "tnqLWxVZSTLd"
      },
      "source": [
        "SEED = 42\n",
        "\n",
        "x_train_pt, x_test_pt, y_train_pt, y_test_pt = train_test_split(x_pt_vect, y_pt, test_size=0.33, random_state=SEED)"
      ],
      "execution_count": 110,
      "outputs": []
    },
    {
      "cell_type": "code",
      "metadata": {
        "id": "MMiszKijSWfU",
        "outputId": "081bb57b-d54c-494b-ef0a-b6a9ac55b280",
        "colab": {
          "base_uri": "https://localhost:8080/"
        }
      },
      "source": [
        "from sklearn.linear_model import LogisticRegression\n",
        "\n",
        "\n",
        "model_pt = LogisticRegression(class_weight='balanced', max_iter=1000, C=30)\n",
        "model_pt.fit(x_train_pt, y_train_pt)\n",
        "pt_pred = model_pt.predict(x_test_pt)"
      ],
      "execution_count": 113,
      "outputs": [
        {
          "output_type": "stream",
          "text": [
            "/usr/local/lib/python3.6/dist-packages/sklearn/linear_model/_logistic.py:940: ConvergenceWarning: lbfgs failed to converge (status=1):\n",
            "STOP: TOTAL NO. of ITERATIONS REACHED LIMIT.\n",
            "\n",
            "Increase the number of iterations (max_iter) or scale the data as shown in:\n",
            "    https://scikit-learn.org/stable/modules/preprocessing.html\n",
            "Please also refer to the documentation for alternative solver options:\n",
            "    https://scikit-learn.org/stable/modules/linear_model.html#logistic-regression\n",
            "  extra_warning_msg=_LOGISTIC_SOLVER_CONVERGENCE_MSG)\n"
          ],
          "name": "stderr"
        }
      ]
    },
    {
      "cell_type": "code",
      "metadata": {
        "id": "w-yiY0cwS4WJ",
        "outputId": "5d8ff5b0-9af1-42dd-e02a-a3abca6f4299",
        "colab": {
          "base_uri": "https://localhost:8080/"
        }
      },
      "source": [
        "print(balanced_accuracy_score(y_test_pt, pt_pred))\n",
        "print(classification_report(y_test_pt, pt_pred, target_names=encoder_pt.classes_))"
      ],
      "execution_count": 117,
      "outputs": [
        {
          "output_type": "stream",
          "text": [
            "0.860919722860183\n",
            "              precision    recall  f1-score   support\n",
            "\n",
            "          pt       0.86      0.86      0.86      5922\n",
            "       pt-br       0.86      0.86      0.86      5892\n",
            "\n",
            "    accuracy                           0.86     11814\n",
            "   macro avg       0.86      0.86      0.86     11814\n",
            "weighted avg       0.86      0.86      0.86     11814\n",
            "\n"
          ],
          "name": "stdout"
        }
      ]
    },
    {
      "cell_type": "markdown",
      "metadata": {
        "id": "IihfGRYGfi_N"
      },
      "source": [
        "Алгоритм под малазийское семейство"
      ]
    },
    {
      "cell_type": "code",
      "metadata": {
        "id": "uEMgHmE5fiHI"
      },
      "source": [
        "pt_ms = df_train_dsl[(df_train_dsl['language'] == 'id') | (df_train_dsl['language'] == 'ms')]"
      ],
      "execution_count": 64,
      "outputs": []
    },
    {
      "cell_type": "code",
      "metadata": {
        "id": "1MaLqLWXfiOQ"
      },
      "source": [
        "x_ms = pt_ms['sentence']\n",
        "y_ms = pt_ms['language']"
      ],
      "execution_count": 65,
      "outputs": []
    },
    {
      "cell_type": "code",
      "metadata": {
        "id": "DotPTWhyfiL3"
      },
      "source": [
        "vectorizer_ms = CountVectorizer(analyzer='char_wb', ngram_range=(1, 3), preprocessor=preprocessor, max_df=0.8, min_df=5)\n",
        "x_ms_vect = vectorizer_ms.fit_transform(x_ms)"
      ],
      "execution_count": 66,
      "outputs": []
    },
    {
      "cell_type": "code",
      "metadata": {
        "id": "lo2wmeUGfiKG"
      },
      "source": [
        "encoder_ms = LabelEncoder()\n",
        "y_ms = encoder_ms.fit_transform(y_ms)"
      ],
      "execution_count": 67,
      "outputs": []
    },
    {
      "cell_type": "code",
      "metadata": {
        "id": "OHacV1KZfiFE"
      },
      "source": [
        "SEED = 42\n",
        "\n",
        "x_train_ms, x_test_ms, y_train_ms, y_test_ms = train_test_split(x_ms_vect, y_ms, test_size=0.33, random_state=SEED)"
      ],
      "execution_count": 68,
      "outputs": []
    },
    {
      "cell_type": "code",
      "metadata": {
        "id": "J83qVFG6fiCe"
      },
      "source": [
        "from sklearn.linear_model import LogisticRegression\n",
        "\n",
        "\n",
        "model_ms = LogisticRegression(class_weight='balanced', max_iter=1000, C=50)\n",
        "model_ms.fit(x_train_ms, y_train_ms)\n",
        "ms_pred = model_ms.predict(x_test_ms)"
      ],
      "execution_count": 115,
      "outputs": []
    },
    {
      "cell_type": "code",
      "metadata": {
        "id": "FZAfnK6AgKel",
        "outputId": "c64c21b2-747e-421e-a241-3fbf864d8161",
        "colab": {
          "base_uri": "https://localhost:8080/"
        }
      },
      "source": [
        "print(balanced_accuracy_score(y_test_ms, ms_pred))\n",
        "print(classification_report(y_test_ms, ms_pred, target_names=encoder_ms.classes_))"
      ],
      "execution_count": 116,
      "outputs": [
        {
          "output_type": "stream",
          "text": [
            "0.9394954927810898\n",
            "              precision    recall  f1-score   support\n",
            "\n",
            "          id       0.95      0.94      0.95      5823\n",
            "          ms       0.93      0.94      0.93      4480\n",
            "\n",
            "    accuracy                           0.94     10303\n",
            "   macro avg       0.94      0.94      0.94     10303\n",
            "weighted avg       0.94      0.94      0.94     10303\n",
            "\n"
          ],
          "name": "stdout"
        }
      ]
    },
    {
      "cell_type": "code",
      "metadata": {
        "id": "wpd3aT_l3qNf"
      },
      "source": [
        "# bs (sr, hr конфликт)\n",
        "# gl - галисийский (pt, pt-br конфликт)\n",
        "# ms\n",
        "# nb (норвежский скорее всего)\n",
        "\n"
      ],
      "execution_count": null,
      "outputs": []
    },
    {
      "cell_type": "markdown",
      "metadata": {
        "id": "FTCv38CF5DZd"
      },
      "source": [
        "Окончательный предикт"
      ]
    },
    {
      "cell_type": "code",
      "metadata": {
        "id": "9TvWC6gENsi3"
      },
      "source": [
        "x_test_vectorized = vectorizer.transform(df_test['sentence'])"
      ],
      "execution_count": 10,
      "outputs": []
    },
    {
      "cell_type": "code",
      "metadata": {
        "id": "HfYvA9A_5JRj"
      },
      "source": [
        "test_pred = model.predict(x_test_vectorized)\n",
        "test_pred_decoded = encoder.inverse_transform(test_pred)"
      ],
      "execution_count": 129,
      "outputs": []
    },
    {
      "cell_type": "code",
      "metadata": {
        "id": "_KSB6fKW5bp-"
      },
      "source": [
        "df_test['language'] = test_pred_decoded"
      ],
      "execution_count": 130,
      "outputs": []
    },
    {
      "cell_type": "code",
      "metadata": {
        "id": "hATxoVEMkkw5"
      },
      "source": [
        "df_test_pt = df_test[(df_test['language'] == 'pt') | (df_test['language'] == 'pt-br')]"
      ],
      "execution_count": 132,
      "outputs": []
    },
    {
      "cell_type": "code",
      "metadata": {
        "id": "Mud4bB4c5ce6"
      },
      "source": [
        "df_test_hr = df_test[(df_test['language'] == 'sr') | (df_test['language'] == 'hr') | (df_test['language'] == 'bs')]"
      ],
      "execution_count": 133,
      "outputs": []
    },
    {
      "cell_type": "code",
      "metadata": {
        "id": "HnZyEiA6nHnr"
      },
      "source": [
        "df_test_ms = df_test[(df_test['language'] == 'ms') | (df_test['language'] == 'id')]"
      ],
      "execution_count": 134,
      "outputs": []
    },
    {
      "cell_type": "code",
      "metadata": {
        "id": "wxX1kLEK2Yi9"
      },
      "source": [
        "df_test_lang = df_test['language']"
      ],
      "execution_count": 142,
      "outputs": []
    },
    {
      "cell_type": "code",
      "metadata": {
        "id": "D52d1_u1lG65",
        "outputId": "a9536a76-3222-4725-c6c7-0a2b7ffba05c",
        "colab": {
          "base_uri": "https://localhost:8080/"
        }
      },
      "source": [
        "df_test_pt_vec = vectorizer_pt.transform(df_test_pt['sentence'])\n",
        "df_test_lang[(df_test_lang == 'pt') | (df_test_lang == 'pt-br')] = encoder_pt.inverse_transform(model_pt.predict(df_test_pt_vec))"
      ],
      "execution_count": 143,
      "outputs": [
        {
          "output_type": "stream",
          "text": [
            "/usr/local/lib/python3.6/dist-packages/ipykernel_launcher.py:2: SettingWithCopyWarning: \n",
            "A value is trying to be set on a copy of a slice from a DataFrame\n",
            "\n",
            "See the caveats in the documentation: https://pandas.pydata.org/pandas-docs/stable/user_guide/indexing.html#returning-a-view-versus-a-copy\n",
            "  \n"
          ],
          "name": "stderr"
        }
      ]
    },
    {
      "cell_type": "code",
      "metadata": {
        "id": "wKLe54kj5pLm",
        "outputId": "5cca3b5f-af38-4483-ab2f-bbf09c175204",
        "colab": {
          "base_uri": "https://localhost:8080/"
        }
      },
      "source": [
        "df_test_hr_vec = vectorizer_hr.transform(df_test_hr['sentence'])\n",
        "df_test_lang[(df_test_lang == 'sr') | (df_test_lang == 'hr') | (df_test_lang == 'bs')] = encoder_hr.inverse_transform(model_hr.predict(df_test_hr_vec))"
      ],
      "execution_count": 144,
      "outputs": [
        {
          "output_type": "stream",
          "text": [
            "/usr/local/lib/python3.6/dist-packages/ipykernel_launcher.py:2: SettingWithCopyWarning: \n",
            "A value is trying to be set on a copy of a slice from a DataFrame\n",
            "\n",
            "See the caveats in the documentation: https://pandas.pydata.org/pandas-docs/stable/user_guide/indexing.html#returning-a-view-versus-a-copy\n",
            "  \n"
          ],
          "name": "stderr"
        }
      ]
    },
    {
      "cell_type": "code",
      "metadata": {
        "id": "scy09XdUnVFv",
        "outputId": "ca0fd2e5-37d4-49ab-ed2e-02643590483f",
        "colab": {
          "base_uri": "https://localhost:8080/"
        }
      },
      "source": [
        "df_test_ms_vec = vectorizer_ms.transform(df_test_ms['sentence'])\n",
        "df_test_lang[(df_test_lang == 'ms') | (df_test_lang == 'id')] = encoder_ms.inverse_transform(model_ms.predict(df_test_ms_vec))"
      ],
      "execution_count": 145,
      "outputs": [
        {
          "output_type": "stream",
          "text": [
            "/usr/local/lib/python3.6/dist-packages/ipykernel_launcher.py:2: SettingWithCopyWarning: \n",
            "A value is trying to be set on a copy of a slice from a DataFrame\n",
            "\n",
            "See the caveats in the documentation: https://pandas.pydata.org/pandas-docs/stable/user_guide/indexing.html#returning-a-view-versus-a-copy\n",
            "  \n"
          ],
          "name": "stderr"
        }
      ]
    },
    {
      "cell_type": "code",
      "metadata": {
        "id": "ggf-R9wb2-t8"
      },
      "source": [
        "df_test['language'] = df_test_lang"
      ],
      "execution_count": 146,
      "outputs": []
    },
    {
      "cell_type": "code",
      "metadata": {
        "id": "zXO7S4sP5qAj"
      },
      "source": [
        "df_test[['index', 'language']].to_csv('out1.csv', index=False)\n"
      ],
      "execution_count": 149,
      "outputs": []
    }
  ]
}