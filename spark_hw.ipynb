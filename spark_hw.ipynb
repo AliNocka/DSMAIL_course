{
  "nbformat": 4,
  "nbformat_minor": 0,
  "metadata": {
    "colab": {
      "name": "spark_hw",
      "provenance": [],
      "collapsed_sections": []
    },
    "kernelspec": {
      "name": "python3",
      "display_name": "Python 3"
    }
  },
  "cells": [
    {
      "cell_type": "code",
      "metadata": {
        "id": "RumFnRay9oEM",
        "colab": {
          "base_uri": "https://localhost:8080/"
        },
        "outputId": "935d238b-5c8d-4714-f143-063a2dc4a9f6"
      },
      "source": [
        "!pip install pyspark\n",
        "!pip install -U -q PyDrive\n",
        "!apt install openjdk-8-jdk-headless -qq\n",
        "import os\n",
        "os.environ[\"JAVA_HOME\"] = \"/usr/lib/jvm/java-8-openjdk-amd64\""
      ],
      "execution_count": 1,
      "outputs": [
        {
          "output_type": "stream",
          "text": [
            "Collecting pyspark\n",
            "\u001b[?25l  Downloading https://files.pythonhosted.org/packages/f0/26/198fc8c0b98580f617cb03cb298c6056587b8f0447e20fa40c5b634ced77/pyspark-3.0.1.tar.gz (204.2MB)\n",
            "\u001b[K     |████████████████████████████████| 204.2MB 64kB/s \n",
            "\u001b[?25hCollecting py4j==0.10.9\n",
            "\u001b[?25l  Downloading https://files.pythonhosted.org/packages/9e/b6/6a4fb90cd235dc8e265a6a2067f2a2c99f0d91787f06aca4bcf7c23f3f80/py4j-0.10.9-py2.py3-none-any.whl (198kB)\n",
            "\u001b[K     |████████████████████████████████| 204kB 42.8MB/s \n",
            "\u001b[?25hBuilding wheels for collected packages: pyspark\n",
            "  Building wheel for pyspark (setup.py) ... \u001b[?25l\u001b[?25hdone\n",
            "  Created wheel for pyspark: filename=pyspark-3.0.1-py2.py3-none-any.whl size=204612242 sha256=c546096b949b9979e437a4428ff959395bb0caf25c2d34cac8a93f3a7e7b4ffb\n",
            "  Stored in directory: /root/.cache/pip/wheels/5e/bd/07/031766ca628adec8435bb40f0bd83bb676ce65ff4007f8e73f\n",
            "Successfully built pyspark\n",
            "Installing collected packages: py4j, pyspark\n",
            "Successfully installed py4j-0.10.9 pyspark-3.0.1\n",
            "The following additional packages will be installed:\n",
            "  openjdk-8-jre-headless\n",
            "Suggested packages:\n",
            "  openjdk-8-demo openjdk-8-source libnss-mdns fonts-dejavu-extra\n",
            "  fonts-ipafont-gothic fonts-ipafont-mincho fonts-wqy-microhei\n",
            "  fonts-wqy-zenhei fonts-indic\n",
            "The following NEW packages will be installed:\n",
            "  openjdk-8-jdk-headless openjdk-8-jre-headless\n",
            "0 upgraded, 2 newly installed, 0 to remove and 14 not upgraded.\n",
            "Need to get 36.5 MB of archives.\n",
            "After this operation, 143 MB of additional disk space will be used.\n",
            "Selecting previously unselected package openjdk-8-jre-headless:amd64.\n",
            "(Reading database ... 144865 files and directories currently installed.)\n",
            "Preparing to unpack .../openjdk-8-jre-headless_8u275-b01-0ubuntu1~18.04_amd64.deb ...\n",
            "Unpacking openjdk-8-jre-headless:amd64 (8u275-b01-0ubuntu1~18.04) ...\n",
            "Selecting previously unselected package openjdk-8-jdk-headless:amd64.\n",
            "Preparing to unpack .../openjdk-8-jdk-headless_8u275-b01-0ubuntu1~18.04_amd64.deb ...\n",
            "Unpacking openjdk-8-jdk-headless:amd64 (8u275-b01-0ubuntu1~18.04) ...\n",
            "Setting up openjdk-8-jre-headless:amd64 (8u275-b01-0ubuntu1~18.04) ...\n",
            "update-alternatives: using /usr/lib/jvm/java-8-openjdk-amd64/jre/bin/orbd to provide /usr/bin/orbd (orbd) in auto mode\n",
            "update-alternatives: using /usr/lib/jvm/java-8-openjdk-amd64/jre/bin/servertool to provide /usr/bin/servertool (servertool) in auto mode\n",
            "update-alternatives: using /usr/lib/jvm/java-8-openjdk-amd64/jre/bin/tnameserv to provide /usr/bin/tnameserv (tnameserv) in auto mode\n",
            "Setting up openjdk-8-jdk-headless:amd64 (8u275-b01-0ubuntu1~18.04) ...\n",
            "update-alternatives: using /usr/lib/jvm/java-8-openjdk-amd64/bin/idlj to provide /usr/bin/idlj (idlj) in auto mode\n",
            "update-alternatives: using /usr/lib/jvm/java-8-openjdk-amd64/bin/wsimport to provide /usr/bin/wsimport (wsimport) in auto mode\n",
            "update-alternatives: using /usr/lib/jvm/java-8-openjdk-amd64/bin/jsadebugd to provide /usr/bin/jsadebugd (jsadebugd) in auto mode\n",
            "update-alternatives: using /usr/lib/jvm/java-8-openjdk-amd64/bin/native2ascii to provide /usr/bin/native2ascii (native2ascii) in auto mode\n",
            "update-alternatives: using /usr/lib/jvm/java-8-openjdk-amd64/bin/javah to provide /usr/bin/javah (javah) in auto mode\n",
            "update-alternatives: using /usr/lib/jvm/java-8-openjdk-amd64/bin/clhsdb to provide /usr/bin/clhsdb (clhsdb) in auto mode\n",
            "update-alternatives: using /usr/lib/jvm/java-8-openjdk-amd64/bin/xjc to provide /usr/bin/xjc (xjc) in auto mode\n",
            "update-alternatives: using /usr/lib/jvm/java-8-openjdk-amd64/bin/hsdb to provide /usr/bin/hsdb (hsdb) in auto mode\n",
            "update-alternatives: using /usr/lib/jvm/java-8-openjdk-amd64/bin/schemagen to provide /usr/bin/schemagen (schemagen) in auto mode\n",
            "update-alternatives: using /usr/lib/jvm/java-8-openjdk-amd64/bin/extcheck to provide /usr/bin/extcheck (extcheck) in auto mode\n",
            "update-alternatives: using /usr/lib/jvm/java-8-openjdk-amd64/bin/jhat to provide /usr/bin/jhat (jhat) in auto mode\n",
            "update-alternatives: using /usr/lib/jvm/java-8-openjdk-amd64/bin/wsgen to provide /usr/bin/wsgen (wsgen) in auto mode\n"
          ],
          "name": "stdout"
        }
      ]
    },
    {
      "cell_type": "code",
      "metadata": {
        "id": "68_AeFo49pEU"
      },
      "source": [
        "from pydrive.auth import GoogleAuth\n",
        "from pydrive.drive import GoogleDrive\n",
        "from google.colab import auth\n",
        "from oauth2client.client import GoogleCredentials\n",
        "\n",
        "auth.authenticate_user()\n",
        "gauth = GoogleAuth()\n",
        "gauth.credentials = GoogleCredentials.get_application_default()\n",
        "drive = GoogleDrive(gauth)"
      ],
      "execution_count": 149,
      "outputs": []
    },
    {
      "cell_type": "code",
      "metadata": {
        "id": "ftRUvQn89-yC"
      },
      "source": [
        "id='1f_9EbnywCj35EBUA32sueigxBjBJwALr'\n",
        "downloaded = drive.CreateFile({'id': id})\n",
        "downloaded.GetContentFile('War and Peace by Leo Tolstoy (ru).txt')"
      ],
      "execution_count": 3,
      "outputs": []
    },
    {
      "cell_type": "code",
      "metadata": {
        "id": "LpR8DQxm-IRN"
      },
      "source": [
        "import pandas as pd\n",
        "\n",
        "import pyspark\n",
        "from pyspark.sql import *\n",
        "from pyspark.sql.functions import *\n",
        "from pyspark import SparkContext, SparkConf\n",
        "import string\n",
        "\n",
        "from pyspark.ml.classification import DecisionTreeClassifier\n",
        "from pyspark.ml import Pipeline\n",
        "from pyspark.ml.evaluation import MulticlassClassificationEvaluator\n",
        "from pyspark.ml.feature import StringIndexer\n",
        "from pyspark.ml.feature import MinMaxScaler\n",
        "from pyspark.sql.window import Window\n"
      ],
      "execution_count": 4,
      "outputs": []
    },
    {
      "cell_type": "code",
      "metadata": {
        "id": "w6qPAe12-Q19"
      },
      "source": [
        "conf = SparkConf().set(\"spark.ui.port\", \"4050\")\n",
        "\n",
        "sc = pyspark.SparkContext(conf=conf)\n",
        "spark = SparkSession.builder.getOrCreate()"
      ],
      "execution_count": 5,
      "outputs": []
    },
    {
      "cell_type": "code",
      "metadata": {
        "id": "2E-RdW9y-U1o",
        "colab": {
          "base_uri": "https://localhost:8080/",
          "height": 214
        },
        "outputId": "f576c10b-5b51-4610-a9d4-c5af1f10a8dd"
      },
      "source": [
        "spark"
      ],
      "execution_count": 6,
      "outputs": [
        {
          "output_type": "execute_result",
          "data": {
            "text/html": [
              "\n",
              "            <div>\n",
              "                <p><b>SparkSession - in-memory</b></p>\n",
              "                \n",
              "        <div>\n",
              "            <p><b>SparkContext</b></p>\n",
              "\n",
              "            <p><a href=\"http://f8c5b80c0f0d:4050\">Spark UI</a></p>\n",
              "\n",
              "            <dl>\n",
              "              <dt>Version</dt>\n",
              "                <dd><code>v3.0.1</code></dd>\n",
              "              <dt>Master</dt>\n",
              "                <dd><code>local[*]</code></dd>\n",
              "              <dt>AppName</dt>\n",
              "                <dd><code>pyspark-shell</code></dd>\n",
              "            </dl>\n",
              "        </div>\n",
              "        \n",
              "            </div>\n",
              "        "
            ],
            "text/plain": [
              "<pyspark.sql.session.SparkSession at 0x7f2a65d49518>"
            ]
          },
          "metadata": {
            "tags": []
          },
          "execution_count": 6
        }
      ]
    },
    {
      "cell_type": "code",
      "metadata": {
        "id": "T6LU3RGy-Yag",
        "colab": {
          "base_uri": "https://localhost:8080/"
        },
        "outputId": "272ed87a-0b3a-4328-814e-146ced130a04"
      },
      "source": [
        "!wget https://bin.equinox.io/c/4VmDzA7iaHb/ngrok-stable-linux-amd64.zip\n",
        "!unzip ngrok-stable-linux-amd64.zip\n",
        "get_ipython().system_raw('./ngrok http 4050 &')\n",
        "!curl -s http://localhost:4040/api/tunnels | python3 -c \\\n",
        "    \"import sys, json; print(json.load(sys.stdin)['tunnels'][0]['public_url'])\""
      ],
      "execution_count": 7,
      "outputs": [
        {
          "output_type": "stream",
          "text": [
            "--2020-12-19 11:19:19--  https://bin.equinox.io/c/4VmDzA7iaHb/ngrok-stable-linux-amd64.zip\n",
            "Resolving bin.equinox.io (bin.equinox.io)... 34.196.3.7, 34.205.198.58, 3.211.100.25, ...\n",
            "Connecting to bin.equinox.io (bin.equinox.io)|34.196.3.7|:443... connected.\n",
            "HTTP request sent, awaiting response... 200 OK\n",
            "Length: 13773305 (13M) [application/octet-stream]\n",
            "Saving to: ‘ngrok-stable-linux-amd64.zip’\n",
            "\n",
            "ngrok-stable-linux- 100%[===================>]  13.13M  68.8MB/s    in 0.2s    \n",
            "\n",
            "2020-12-19 11:19:19 (68.8 MB/s) - ‘ngrok-stable-linux-amd64.zip’ saved [13773305/13773305]\n",
            "\n",
            "Archive:  ngrok-stable-linux-amd64.zip\n",
            "  inflating: ngrok                   \n",
            "Traceback (most recent call last):\n",
            "  File \"<string>\", line 1, in <module>\n",
            "IndexError: list index out of range\n"
          ],
          "name": "stdout"
        }
      ]
    },
    {
      "cell_type": "markdown",
      "metadata": {
        "id": "bgte5waWKrpd"
      },
      "source": [
        "Подсчитай кол-во слов в документе \"War and Peace by Leo Tolstoy (ru).txt\""
      ]
    },
    {
      "cell_type": "markdown",
      "metadata": {
        "id": "Qy7aPsxzStxc"
      },
      "source": [
        "В начале имплементируем свой hadoop streaming код, для этого нам нужен маппер, отдающий строки вида \"word\\t1\", а также редьюсер, который будет схлопывать строки с одинаковыми ключами\r\n",
        "\r\n",
        "Все данные, чтобы не держать их в памяти можно записывать в файл, а shuffle имплементировать через sort\r\n"
      ]
    },
    {
      "cell_type": "code",
      "metadata": {
        "id": "9mgydm5JR4GO"
      },
      "source": [
        "def clean_and_split(line):\r\n",
        "  \"\"\"\r\n",
        "  Очищаем строку от лишних символов и возвращаем список слов\r\n",
        "  \"\"\"\r\n",
        "  filter_chars = string.punctuation + string.digits + '–«»°—№…'\r\n",
        "  line = line.lower().strip(filter_chars)\r\n",
        "  words = line.split()\r\n",
        "  mapped = list(map(lambda word: word.strip(filter_chars), words))\r\n",
        "  filtered = list(filter(lambda word: word != '', mapped))\r\n",
        "  return filtered"
      ],
      "execution_count": 8,
      "outputs": []
    },
    {
      "cell_type": "code",
      "metadata": {
        "id": "ahvtNMZW5PCN"
      },
      "source": [
        "def mapper(file_name, out_file):\r\n",
        "  \"\"\"\r\n",
        "  Реализация маппера, использует для записи файл, переданный через out_file\r\n",
        "  \"\"\"\r\n",
        "  with open(out_file, 'w') as out:\r\n",
        "    with open(file_name, 'r', encoding='cp1251') as f:\r\n",
        "      for line in f:\r\n",
        "        words = clean_and_split(line)\r\n",
        "        for word in words:\r\n",
        "          if word:\r\n",
        "            out.write('{}\\t1\\n'.format(word))\r\n"
      ],
      "execution_count": 9,
      "outputs": []
    },
    {
      "cell_type": "code",
      "metadata": {
        "id": "KS_FgqX4CwVS"
      },
      "source": [
        "# Маппим\r\n",
        "in_file_name = 'War and Peace by Leo Tolstoy (ru).txt'\r\n",
        "out_file = 'out.txt'\r\n",
        "mapper(in_file_name, out_file)"
      ],
      "execution_count": 10,
      "outputs": []
    },
    {
      "cell_type": "code",
      "metadata": {
        "id": "9ASqhgYD7v8H"
      },
      "source": [
        "# Имитация shuffle\r\n",
        "!sort -o out.sorted.txt out.txt"
      ],
      "execution_count": 11,
      "outputs": []
    },
    {
      "cell_type": "markdown",
      "metadata": {
        "id": "YGMd_SQWLJF1"
      },
      "source": [
        "Так как файл имеет достаточно маленький размер, все данные можно передать на один редьюсер."
      ]
    },
    {
      "cell_type": "code",
      "metadata": {
        "id": "qLK7wwgNJrPQ"
      },
      "source": [
        "def reducer(file_name, out_file):\r\n",
        "  \"\"\"\r\n",
        "  Считаем количество слов, пишем в out_file\r\n",
        "  \"\"\"\r\n",
        "  current_word = None\r\n",
        "  current_count = 0\r\n",
        "  word = None\r\n",
        "  with open(out_file, 'w') as out:\r\n",
        "    with open(file_name, 'r') as f:\r\n",
        "      for line in f:\r\n",
        "        line = line.strip()\r\n",
        "        word, count = line.split('\\t', 1)\r\n",
        "        count = int(count)\r\n",
        "\r\n",
        "        if current_word == word:\r\n",
        "          current_count += count\r\n",
        "        else:\r\n",
        "          if current_word:\r\n",
        "            out.write('{}\\t{}\\n'.format(current_word, current_count))\r\n",
        "          current_count = count\r\n",
        "          current_word = word\r\n",
        "      if current_word == word:\r\n",
        "        out.write('{}\\t{}\\n'.format(current_word, current_count))\r\n",
        "\r\n"
      ],
      "execution_count": 12,
      "outputs": []
    },
    {
      "cell_type": "code",
      "metadata": {
        "id": "zvU0fVJzLVa0"
      },
      "source": [
        "# Редьюсер\r\n",
        "file_name = 'out.sorted.txt'\r\n",
        "out_file = 'out2.txt'\r\n",
        "reducer(file_name, out_file)"
      ],
      "execution_count": 13,
      "outputs": []
    },
    {
      "cell_type": "code",
      "metadata": {
        "id": "RS7Q38i3QQr4"
      },
      "source": [
        "# Читаем данные, которые отдал редьюсер\r\n",
        "words_df = pd.read_csv(out_file, sep='\\t', names=['word', 'count'])"
      ],
      "execution_count": 14,
      "outputs": []
    },
    {
      "cell_type": "code",
      "metadata": {
        "colab": {
          "base_uri": "https://localhost:8080/",
          "height": 935
        },
        "id": "Tj4uM8L_Qio0",
        "outputId": "17191f39-8031-4165-9b78-ea4916c79da9"
      },
      "source": [
        "# Топ-30 часто встречаемых слов книги\r\n",
        "words_df.sort_values('count', ascending=False)[:30]"
      ],
      "execution_count": 15,
      "outputs": [
        {
          "output_type": "execute_result",
          "data": {
            "text/html": [
              "<div>\n",
              "<style scoped>\n",
              "    .dataframe tbody tr th:only-of-type {\n",
              "        vertical-align: middle;\n",
              "    }\n",
              "\n",
              "    .dataframe tbody tr th {\n",
              "        vertical-align: top;\n",
              "    }\n",
              "\n",
              "    .dataframe thead th {\n",
              "        text-align: right;\n",
              "    }\n",
              "</style>\n",
              "<table border=\"1\" class=\"dataframe\">\n",
              "  <thead>\n",
              "    <tr style=\"text-align: right;\">\n",
              "      <th></th>\n",
              "      <th>word</th>\n",
              "      <th>count</th>\n",
              "    </tr>\n",
              "  </thead>\n",
              "  <tbody>\n",
              "    <tr>\n",
              "      <th>16540</th>\n",
              "      <td>и</td>\n",
              "      <td>21758</td>\n",
              "    </tr>\n",
              "    <tr>\n",
              "      <th>6056</th>\n",
              "      <td>в</td>\n",
              "      <td>11280</td>\n",
              "    </tr>\n",
              "    <tr>\n",
              "      <th>24048</th>\n",
              "      <td>не</td>\n",
              "      <td>8996</td>\n",
              "    </tr>\n",
              "    <tr>\n",
              "      <th>51374</th>\n",
              "      <td>что</td>\n",
              "      <td>7999</td>\n",
              "    </tr>\n",
              "    <tr>\n",
              "      <th>27454</th>\n",
              "      <td>он</td>\n",
              "      <td>7593</td>\n",
              "    </tr>\n",
              "    <tr>\n",
              "      <th>22702</th>\n",
              "      <td>на</td>\n",
              "      <td>6860</td>\n",
              "    </tr>\n",
              "    <tr>\n",
              "      <th>41249</th>\n",
              "      <td>с</td>\n",
              "      <td>6008</td>\n",
              "    </tr>\n",
              "    <tr>\n",
              "      <th>17925</th>\n",
              "      <td>как</td>\n",
              "      <td>4210</td>\n",
              "    </tr>\n",
              "    <tr>\n",
              "      <th>13525</th>\n",
              "      <td>его</td>\n",
              "      <td>4026</td>\n",
              "    </tr>\n",
              "    <tr>\n",
              "      <th>17777</th>\n",
              "      <td>к</td>\n",
              "      <td>3516</td>\n",
              "    </tr>\n",
              "    <tr>\n",
              "      <th>52404</th>\n",
              "      <td>я</td>\n",
              "      <td>3339</td>\n",
              "    </tr>\n",
              "    <tr>\n",
              "      <th>25636</th>\n",
              "      <td>но</td>\n",
              "      <td>2854</td>\n",
              "    </tr>\n",
              "    <tr>\n",
              "      <th>27455</th>\n",
              "      <td>она</td>\n",
              "      <td>2768</td>\n",
              "    </tr>\n",
              "    <tr>\n",
              "      <th>8472</th>\n",
              "      <td>все</td>\n",
              "      <td>2699</td>\n",
              "    </tr>\n",
              "    <tr>\n",
              "      <th>52337</th>\n",
              "      <td>это</td>\n",
              "      <td>2697</td>\n",
              "    </tr>\n",
              "    <tr>\n",
              "      <th>6012</th>\n",
              "      <td>было</td>\n",
              "      <td>2549</td>\n",
              "    </tr>\n",
              "    <tr>\n",
              "      <th>46918</th>\n",
              "      <td>то</td>\n",
              "      <td>2361</td>\n",
              "    </tr>\n",
              "    <tr>\n",
              "      <th>46414</th>\n",
              "      <td>так</td>\n",
              "      <td>2044</td>\n",
              "    </tr>\n",
              "    <tr>\n",
              "      <th>42575</th>\n",
              "      <td>сказал</td>\n",
              "      <td>2030</td>\n",
              "    </tr>\n",
              "    <tr>\n",
              "      <th>3450</th>\n",
              "      <td>а</td>\n",
              "      <td>2015</td>\n",
              "    </tr>\n",
              "    <tr>\n",
              "      <th>25886</th>\n",
              "      <td>о</td>\n",
              "      <td>1968</td>\n",
              "    </tr>\n",
              "    <tr>\n",
              "      <th>13807</th>\n",
              "      <td>же</td>\n",
              "      <td>1863</td>\n",
              "    </tr>\n",
              "    <tr>\n",
              "      <th>14183</th>\n",
              "      <td>за</td>\n",
              "      <td>1862</td>\n",
              "    </tr>\n",
              "    <tr>\n",
              "      <th>28342</th>\n",
              "      <td>от</td>\n",
              "      <td>1805</td>\n",
              "    </tr>\n",
              "    <tr>\n",
              "      <th>31298</th>\n",
              "      <td>по</td>\n",
              "      <td>1798</td>\n",
              "    </tr>\n",
              "    <tr>\n",
              "      <th>13641</th>\n",
              "      <td>ему</td>\n",
              "      <td>1778</td>\n",
              "    </tr>\n",
              "    <tr>\n",
              "      <th>16654</th>\n",
              "      <td>из</td>\n",
              "      <td>1725</td>\n",
              "    </tr>\n",
              "    <tr>\n",
              "      <th>13578</th>\n",
              "      <td>ее</td>\n",
              "      <td>1721</td>\n",
              "    </tr>\n",
              "    <tr>\n",
              "      <th>47036</th>\n",
              "      <td>только</td>\n",
              "      <td>1661</td>\n",
              "    </tr>\n",
              "    <tr>\n",
              "      <th>6008</th>\n",
              "      <td>был</td>\n",
              "      <td>1608</td>\n",
              "    </tr>\n",
              "  </tbody>\n",
              "</table>\n",
              "</div>"
            ],
            "text/plain": [
              "         word  count\n",
              "16540       и  21758\n",
              "6056        в  11280\n",
              "24048      не   8996\n",
              "51374     что   7999\n",
              "27454      он   7593\n",
              "22702      на   6860\n",
              "41249       с   6008\n",
              "17925     как   4210\n",
              "13525     его   4026\n",
              "17777       к   3516\n",
              "52404       я   3339\n",
              "25636      но   2854\n",
              "27455     она   2768\n",
              "8472      все   2699\n",
              "52337     это   2697\n",
              "6012     было   2549\n",
              "46918      то   2361\n",
              "46414     так   2044\n",
              "42575  сказал   2030\n",
              "3450        а   2015\n",
              "25886       о   1968\n",
              "13807      же   1863\n",
              "14183      за   1862\n",
              "28342      от   1805\n",
              "31298      по   1798\n",
              "13641     ему   1778\n",
              "16654      из   1725\n",
              "13578      ее   1721\n",
              "47036  только   1661\n",
              "6008      был   1608"
            ]
          },
          "metadata": {
            "tags": []
          },
          "execution_count": 15
        }
      ]
    },
    {
      "cell_type": "markdown",
      "metadata": {
        "id": "hWmff2QpS2Y4"
      },
      "source": [
        "Теперь решим ту же задачу с использованием pyspark"
      ]
    },
    {
      "cell_type": "code",
      "metadata": {
        "id": "NFMc68nfXQst"
      },
      "source": [
        "# textFile ожидает файл в utf8, чтобы не иметь проблем с кодировкой сразу перекодируем файл\r\n",
        "!iconv -f cp1251 -t utf8 -o text_utf8.txt War\\ and\\ Peace\\ by\\ Leo\\ Tolstoy\\ \\(ru\\).txt\r\n",
        "file_name = 'text_utf8.txt'"
      ],
      "execution_count": 16,
      "outputs": []
    },
    {
      "cell_type": "code",
      "metadata": {
        "id": "RmfWgJsQRRLI"
      },
      "source": [
        "# Делаем ровно то же самое, сначала считываем файл и очищаем, после маппим каждое слово аналогично\r\n",
        "# нашей реализации, а в reduceByKey происходит ровно то же, что и в нашем редьюсере\r\n",
        "words = sc.textFile(file_name).flatMap(lambda line: clean_and_split(line))\r\n",
        "reduced = words.map(lambda word: (word, 1)).reduceByKey(lambda a, b: a + b)"
      ],
      "execution_count": 17,
      "outputs": []
    },
    {
      "cell_type": "code",
      "metadata": {
        "colab": {
          "base_uri": "https://localhost:8080/",
          "height": 935
        },
        "id": "BWJFu9ugTtMP",
        "outputId": "77c7f844-e935-4831-da63-097bc6064e49"
      },
      "source": [
        "# Выводим топ-30 часто встречаемых слов\r\n",
        "words_sparkdf = reduced.toDF(['word', 'count'])\r\n",
        "words_sparkdf.sort(col('count').desc()).limit(30).toPandas()\r\n"
      ],
      "execution_count": 140,
      "outputs": [
        {
          "output_type": "execute_result",
          "data": {
            "text/html": [
              "<div>\n",
              "<style scoped>\n",
              "    .dataframe tbody tr th:only-of-type {\n",
              "        vertical-align: middle;\n",
              "    }\n",
              "\n",
              "    .dataframe tbody tr th {\n",
              "        vertical-align: top;\n",
              "    }\n",
              "\n",
              "    .dataframe thead th {\n",
              "        text-align: right;\n",
              "    }\n",
              "</style>\n",
              "<table border=\"1\" class=\"dataframe\">\n",
              "  <thead>\n",
              "    <tr style=\"text-align: right;\">\n",
              "      <th></th>\n",
              "      <th>word</th>\n",
              "      <th>count</th>\n",
              "    </tr>\n",
              "  </thead>\n",
              "  <tbody>\n",
              "    <tr>\n",
              "      <th>0</th>\n",
              "      <td>и</td>\n",
              "      <td>21758</td>\n",
              "    </tr>\n",
              "    <tr>\n",
              "      <th>1</th>\n",
              "      <td>в</td>\n",
              "      <td>11280</td>\n",
              "    </tr>\n",
              "    <tr>\n",
              "      <th>2</th>\n",
              "      <td>не</td>\n",
              "      <td>8996</td>\n",
              "    </tr>\n",
              "    <tr>\n",
              "      <th>3</th>\n",
              "      <td>что</td>\n",
              "      <td>7999</td>\n",
              "    </tr>\n",
              "    <tr>\n",
              "      <th>4</th>\n",
              "      <td>он</td>\n",
              "      <td>7593</td>\n",
              "    </tr>\n",
              "    <tr>\n",
              "      <th>5</th>\n",
              "      <td>на</td>\n",
              "      <td>6860</td>\n",
              "    </tr>\n",
              "    <tr>\n",
              "      <th>6</th>\n",
              "      <td>с</td>\n",
              "      <td>6008</td>\n",
              "    </tr>\n",
              "    <tr>\n",
              "      <th>7</th>\n",
              "      <td>как</td>\n",
              "      <td>4210</td>\n",
              "    </tr>\n",
              "    <tr>\n",
              "      <th>8</th>\n",
              "      <td>его</td>\n",
              "      <td>4026</td>\n",
              "    </tr>\n",
              "    <tr>\n",
              "      <th>9</th>\n",
              "      <td>к</td>\n",
              "      <td>3516</td>\n",
              "    </tr>\n",
              "    <tr>\n",
              "      <th>10</th>\n",
              "      <td>я</td>\n",
              "      <td>3339</td>\n",
              "    </tr>\n",
              "    <tr>\n",
              "      <th>11</th>\n",
              "      <td>но</td>\n",
              "      <td>2854</td>\n",
              "    </tr>\n",
              "    <tr>\n",
              "      <th>12</th>\n",
              "      <td>она</td>\n",
              "      <td>2768</td>\n",
              "    </tr>\n",
              "    <tr>\n",
              "      <th>13</th>\n",
              "      <td>все</td>\n",
              "      <td>2699</td>\n",
              "    </tr>\n",
              "    <tr>\n",
              "      <th>14</th>\n",
              "      <td>это</td>\n",
              "      <td>2697</td>\n",
              "    </tr>\n",
              "    <tr>\n",
              "      <th>15</th>\n",
              "      <td>было</td>\n",
              "      <td>2549</td>\n",
              "    </tr>\n",
              "    <tr>\n",
              "      <th>16</th>\n",
              "      <td>то</td>\n",
              "      <td>2361</td>\n",
              "    </tr>\n",
              "    <tr>\n",
              "      <th>17</th>\n",
              "      <td>так</td>\n",
              "      <td>2044</td>\n",
              "    </tr>\n",
              "    <tr>\n",
              "      <th>18</th>\n",
              "      <td>сказал</td>\n",
              "      <td>2030</td>\n",
              "    </tr>\n",
              "    <tr>\n",
              "      <th>19</th>\n",
              "      <td>а</td>\n",
              "      <td>2015</td>\n",
              "    </tr>\n",
              "    <tr>\n",
              "      <th>20</th>\n",
              "      <td>о</td>\n",
              "      <td>1968</td>\n",
              "    </tr>\n",
              "    <tr>\n",
              "      <th>21</th>\n",
              "      <td>же</td>\n",
              "      <td>1863</td>\n",
              "    </tr>\n",
              "    <tr>\n",
              "      <th>22</th>\n",
              "      <td>за</td>\n",
              "      <td>1862</td>\n",
              "    </tr>\n",
              "    <tr>\n",
              "      <th>23</th>\n",
              "      <td>от</td>\n",
              "      <td>1805</td>\n",
              "    </tr>\n",
              "    <tr>\n",
              "      <th>24</th>\n",
              "      <td>по</td>\n",
              "      <td>1798</td>\n",
              "    </tr>\n",
              "    <tr>\n",
              "      <th>25</th>\n",
              "      <td>ему</td>\n",
              "      <td>1778</td>\n",
              "    </tr>\n",
              "    <tr>\n",
              "      <th>26</th>\n",
              "      <td>из</td>\n",
              "      <td>1725</td>\n",
              "    </tr>\n",
              "    <tr>\n",
              "      <th>27</th>\n",
              "      <td>ее</td>\n",
              "      <td>1721</td>\n",
              "    </tr>\n",
              "    <tr>\n",
              "      <th>28</th>\n",
              "      <td>только</td>\n",
              "      <td>1661</td>\n",
              "    </tr>\n",
              "    <tr>\n",
              "      <th>29</th>\n",
              "      <td>был</td>\n",
              "      <td>1608</td>\n",
              "    </tr>\n",
              "  </tbody>\n",
              "</table>\n",
              "</div>"
            ],
            "text/plain": [
              "      word  count\n",
              "0        и  21758\n",
              "1        в  11280\n",
              "2       не   8996\n",
              "3      что   7999\n",
              "4       он   7593\n",
              "5       на   6860\n",
              "6        с   6008\n",
              "7      как   4210\n",
              "8      его   4026\n",
              "9        к   3516\n",
              "10       я   3339\n",
              "11      но   2854\n",
              "12     она   2768\n",
              "13     все   2699\n",
              "14     это   2697\n",
              "15    было   2549\n",
              "16      то   2361\n",
              "17     так   2044\n",
              "18  сказал   2030\n",
              "19       а   2015\n",
              "20       о   1968\n",
              "21      же   1863\n",
              "22      за   1862\n",
              "23      от   1805\n",
              "24      по   1798\n",
              "25     ему   1778\n",
              "26      из   1725\n",
              "27      ее   1721\n",
              "28  только   1661\n",
              "29     был   1608"
            ]
          },
          "metadata": {
            "tags": []
          },
          "execution_count": 140
        }
      ]
    },
    {
      "cell_type": "markdown",
      "metadata": {
        "id": "Pej-OuXXYLZd"
      },
      "source": [
        "Как можно увидеть, мы получили одинаковый результат"
      ]
    },
    {
      "cell_type": "code",
      "metadata": {
        "id": "MJgmIgCzLJTo"
      },
      "source": [
        "id='13yfAoONwq4rS5XrTv3IrcqcFcdgfvK9V'\n",
        "downloaded = drive.CreateFile({'id': id})\n",
        "downloaded.GetContentFile('mnist-digits-train.txt')\n",
        "\n",
        "id='1VE_9x0LQvOJpHXbXp_RMPl3Q4wRUuOok'\n",
        "downloaded = drive.CreateFile({'id': id})\n",
        "downloaded.GetContentFile('mnist-digits-test.txt')"
      ],
      "execution_count": 20,
      "outputs": []
    },
    {
      "cell_type": "markdown",
      "metadata": {
        "id": "vSU-TTUvNaON"
      },
      "source": [
        "Необходимо обучить модель используя Spark MLlib (модель на ваш выбор, например Decision Tree) и получить accuracy.\n",
        "Подробнее тут: https://spark.apache.org/docs/latest/ml-classification-regression.html"
      ]
    },
    {
      "cell_type": "markdown",
      "metadata": {
        "id": "lxgVRMQQKMS0"
      },
      "source": [
        "Данные в файлах лежат в формате libsvm, в начале считываем их и индексируем label, а также скейлим наши признаки с помощью MinMaxScaler"
      ]
    },
    {
      "cell_type": "code",
      "metadata": {
        "id": "saTc8AVOLiJq"
      },
      "source": [
        "train_rdd = spark.read.format(\"libsvm\").load('mnist-digits-train.txt')\r\n",
        "test_rdd = spark.read.format(\"libsvm\").load('mnist-digits-test.txt')\r\n",
        "\r\n",
        "labelIndexer = StringIndexer(inputCol=\"label\", outputCol=\"indexedLabel\")\r\n",
        "train_rdd = MinMaxScaler(inputCol=\"features\", outputCol=\"scaledFeatures\").fit(train_rdd).transform(train_rdd)\r\n",
        "test_rdd = MinMaxScaler(inputCol=\"features\", outputCol=\"scaledFeatures\").fit(test_rdd).transform(test_rdd)\r\n"
      ],
      "execution_count": 141,
      "outputs": []
    },
    {
      "cell_type": "markdown",
      "metadata": {
        "id": "QAJu9T84W8Ej"
      },
      "source": [
        "Как можно заметить ниже, выборка сбалансирована"
      ]
    },
    {
      "cell_type": "code",
      "metadata": {
        "colab": {
          "base_uri": "https://localhost:8080/"
        },
        "id": "XRGUWY3jWd9s",
        "outputId": "ac74cbbc-880b-458b-f26c-588d3c77ec7d"
      },
      "source": [
        "(train_rdd\r\n",
        "  .groupby('label')\r\n",
        "  .count()\r\n",
        "  .orderBy('label')\r\n",
        "  .show())"
      ],
      "execution_count": 142,
      "outputs": [
        {
          "output_type": "stream",
          "text": [
            "+-----+-----+\n",
            "|label|count|\n",
            "+-----+-----+\n",
            "|  0.0| 5923|\n",
            "|  1.0| 6742|\n",
            "|  2.0| 5958|\n",
            "|  3.0| 6131|\n",
            "|  4.0| 5842|\n",
            "|  5.0| 5421|\n",
            "|  6.0| 5918|\n",
            "|  7.0| 6265|\n",
            "|  8.0| 5851|\n",
            "|  9.0| 5949|\n",
            "+-----+-----+\n",
            "\n"
          ],
          "name": "stdout"
        }
      ]
    },
    {
      "cell_type": "markdown",
      "metadata": {
        "id": "lVdS5hyhKYpR"
      },
      "source": [
        "В качестве модели выберем дерево решений, получаем следующий результат на тренировочных данных"
      ]
    },
    {
      "cell_type": "code",
      "metadata": {
        "colab": {
          "base_uri": "https://localhost:8080/"
        },
        "id": "r8uCXfVuG9tQ",
        "outputId": "a72b6f1a-d9cb-4eca-92f1-3abf31b07459"
      },
      "source": [
        "dt = DecisionTreeClassifier(labelCol=\"indexedLabel\", featuresCol=\"scaledFeatures\", maxDepth=10)\r\n",
        "\r\n",
        "pipeline = Pipeline(stages=[labelIndexer, dt])\r\n",
        "model = pipeline.fit(train_rdd)\r\n",
        "\r\n",
        "predictions = model.transform(train_rdd)\r\n",
        "\r\n",
        "predictions.select(\"prediction\", \"indexedLabel\", \"features\", \"scaledFeatures\").show(5)\r\n",
        "\r\n",
        "evaluator = MulticlassClassificationEvaluator(\r\n",
        "    labelCol=\"indexedLabel\", predictionCol=\"prediction\", metricName=\"accuracy\")\r\n",
        "accuracy = evaluator.evaluate(predictions)\r\n",
        "print(\"Accuracy(on train) = {}\".format(accuracy))"
      ],
      "execution_count": 143,
      "outputs": [
        {
          "output_type": "stream",
          "text": [
            "+----------+------------+--------------------+--------------------+\n",
            "|prediction|indexedLabel|            features|      scaledFeatures|\n",
            "+----------+------------+--------------------+--------------------+\n",
            "|       9.0|         9.0|(780,[152,153,154...|(780,[0,1,2,3,4,5...|\n",
            "|       5.0|         5.0|(780,[127,128,129...|(780,[0,1,2,3,4,5...|\n",
            "|       8.0|         8.0|(780,[160,161,162...|(780,[0,1,2,3,4,5...|\n",
            "|       0.0|         0.0|(780,[158,159,160...|(780,[0,1,2,3,4,5...|\n",
            "|       4.0|         4.0|(780,[208,209,210...|(780,[0,1,2,3,4,5...|\n",
            "+----------+------------+--------------------+--------------------+\n",
            "only showing top 5 rows\n",
            "\n",
            "Accuracy(on train) = 0.8987\n"
          ],
          "name": "stdout"
        }
      ]
    },
    {
      "cell_type": "markdown",
      "metadata": {
        "id": "AtfqsB9sKmBP"
      },
      "source": [
        "Accuracy по каждому классу на трейне:"
      ]
    },
    {
      "cell_type": "code",
      "metadata": {
        "colab": {
          "base_uri": "https://localhost:8080/"
        },
        "id": "lC279cDsPa4P",
        "outputId": "bd3215f5-273f-47a4-e429-32ee0dc68436"
      },
      "source": [
        "(predictions\r\n",
        "  .withColumn('matched', expr('cast(prediction == indexedLabel  as int)'))\r\n",
        "  .groupby('indexedLabel')\r\n",
        "  .agg(avg('matched'))\r\n",
        "  .orderBy('indexedLabel')\r\n",
        "  .show())"
      ],
      "execution_count": 144,
      "outputs": [
        {
          "output_type": "stream",
          "text": [
            "+------------+------------------+\n",
            "|indexedLabel|      avg(matched)|\n",
            "+------------+------------------+\n",
            "|         0.0|0.9606941560367843|\n",
            "|         1.0| 0.906464485235435|\n",
            "|         2.0|0.8587506116457347|\n",
            "|         3.0|0.8892245720040282|\n",
            "|         4.0|0.8767860144562112|\n",
            "|         5.0|0.9417524902920817|\n",
            "|         6.0|0.9246367015883744|\n",
            "|         7.0|0.8742095368313109|\n",
            "|         8.0|0.8772680588839439|\n",
            "|         9.0|0.8664453052942261|\n",
            "+------------+------------------+\n",
            "\n"
          ],
          "name": "stdout"
        }
      ]
    },
    {
      "cell_type": "markdown",
      "metadata": {
        "id": "JevGsvJCKqPL"
      },
      "source": [
        "Accuracy на тесте:"
      ]
    },
    {
      "cell_type": "code",
      "metadata": {
        "colab": {
          "base_uri": "https://localhost:8080/"
        },
        "id": "heknBcVbQ3gm",
        "outputId": "1cd2ffee-be9d-469e-fcd6-87fa127261dd"
      },
      "source": [
        "evaluator = MulticlassClassificationEvaluator(\r\n",
        "    labelCol=\"indexedLabel\", predictionCol=\"prediction\", metricName=\"accuracy\")\r\n",
        "\r\n",
        "test_predictions = model.transform(test_rdd)\r\n",
        "test_accuracy = evaluator.evaluate(test_predictions)\r\n",
        "print(\"Accuracy(on test) = {}\".format(test_accuracy))"
      ],
      "execution_count": 145,
      "outputs": [
        {
          "output_type": "stream",
          "text": [
            "Accuracy(on test) = 0.8677\n"
          ],
          "name": "stdout"
        }
      ]
    },
    {
      "cell_type": "markdown",
      "metadata": {
        "id": "jN3k9NgNKx7o"
      },
      "source": [
        "Accuracy по каждому классу на тесте:"
      ]
    },
    {
      "cell_type": "code",
      "metadata": {
        "colab": {
          "base_uri": "https://localhost:8080/"
        },
        "id": "btgh3QayWLHa",
        "outputId": "c715683b-3a80-419d-d341-20357ae266aa"
      },
      "source": [
        "(test_predictions\r\n",
        "  .withColumn('matched', expr('cast(prediction == indexedLabel  as int)'))\r\n",
        "  .groupby('indexedLabel')\r\n",
        "  .agg(avg('matched'))\r\n",
        "  .orderBy('indexedLabel')\r\n",
        "  .show())"
      ],
      "execution_count": 146,
      "outputs": [
        {
          "output_type": "stream",
          "text": [
            "+------------+------------------+\n",
            "|indexedLabel|      avg(matched)|\n",
            "+------------+------------------+\n",
            "|         0.0| 0.958590308370044|\n",
            "|         1.0|0.8842412451361867|\n",
            "|         2.0|0.8227722772277227|\n",
            "|         3.0|0.8517441860465116|\n",
            "|         4.0|0.8602576808721506|\n",
            "|         5.0| 0.923469387755102|\n",
            "|         6.0|0.8789144050104384|\n",
            "|         7.0|0.8100616016427105|\n",
            "|         8.0|0.8441955193482689|\n",
            "|         9.0|0.8262331838565022|\n",
            "+------------+------------------+\n",
            "\n"
          ],
          "name": "stdout"
        }
      ]
    },
    {
      "cell_type": "code",
      "metadata": {
        "id": "yKMztZ2eOOrE"
      },
      "source": [
        "id='1kUIrskM0zNH8u71G9M1BkHjRQYxvgAvh'\n",
        "downloaded = drive.CreateFile({'id': id})\n",
        "downloaded.GetContentFile('data.zip')\n",
        "!unzip data.zip"
      ],
      "execution_count": null,
      "outputs": []
    },
    {
      "cell_type": "markdown",
      "metadata": {
        "id": "WMcoSwr2LK3u"
      },
      "source": [
        "Для следующего задания считаем и подготовим данные.\r\n",
        "\r\n",
        "Колонки с датами приведем к соответствующему типу, чтобы их можно было использовать в запросах.\r\n",
        "\r\n",
        "Также для запросов с помощью SQL создадим временные таблицы для каждого набора данных."
      ]
    },
    {
      "cell_type": "code",
      "metadata": {
        "id": "Zm15EW8znWDo"
      },
      "source": [
        "from pyspark.sql.types import DateType, IntegerType\r\n",
        "from datetime import datetime\r\n",
        "\r\n",
        "todate = udf(lambda x: datetime.strptime(x, '%d.%m.%y'), DateType())\r\n",
        "\r\n",
        "country_rdd = (spark.read\r\n",
        "               .options(header=True, delimiter='\\t', inferSchema=True)\r\n",
        "               .csv(\"data/country.csv\"))\r\n",
        "country_rdd.registerTempTable(\"country\")\r\n",
        "\r\n",
        "departments_rdd = (spark.read\r\n",
        "               .options(header=True, delimiter='\\t', inferSchema=True)\r\n",
        "               .csv(\"data/departments.csv\"))\r\n",
        "departments_rdd.registerTempTable(\"departments\")\r\n",
        "\r\n",
        "employees_rdd = (spark.read\r\n",
        "               .options(header=True, delimiter='\\t', inferSchema=True)\r\n",
        "               .csv(\"data/employees.csv\"))\r\n",
        "employees_rdd = employees_rdd.withColumn('HIRE_DATE', todate(col('HIRE_DATE')))\r\n",
        "employees_rdd.registerTempTable(\"employees\")\r\n",
        "\r\n",
        "job_history_rdd = (spark.read\r\n",
        "               .options(header=True, delimiter='\\t', inferSchema=True)\r\n",
        "               .csv(\"data/job_history.csv\"))\r\n",
        "job_history_rdd = job_history_rdd.withColumn('START_DATE', todate(col('START_DATE')))\r\n",
        "job_history_rdd = job_history_rdd.withColumn('END_DATE', todate(col('END_DATE')))\r\n",
        "job_history_rdd.registerTempTable(\"job_history\")\r\n",
        "\r\n",
        "jobs_rdd = (spark.read\r\n",
        "               .options(header=True, delimiter='\\t', inferSchema=True)\r\n",
        "               .csv(\"data/jobs.csv\"))\r\n",
        "jobs_rdd.registerTempTable(\"jobs\")\r\n",
        "\r\n",
        "locations_rdd = (spark.read\r\n",
        "               .options(header=True, delimiter='\\t', inferSchema=True)\r\n",
        "               .csv(\"data/locations.csv\"))\r\n",
        "locations_rdd.registerTempTable(\"locations\")\r\n",
        "\r\n",
        "regions_rdd = (spark.read\r\n",
        "               .options(header=True, delimiter='\\t', inferSchema=True)\r\n",
        "               .csv(\"data/regions.csv\"))\r\n",
        "regions_rdd.registerTempTable(\"regions\")"
      ],
      "execution_count": 81,
      "outputs": []
    },
    {
      "cell_type": "markdown",
      "metadata": {
        "id": "gTleN3OSLuy1"
      },
      "source": [
        "Таблицы выглядят следующим образом:"
      ]
    },
    {
      "cell_type": "code",
      "metadata": {
        "colab": {
          "base_uri": "https://localhost:8080/"
        },
        "id": "6s8eC5Ckjf1-",
        "outputId": "625b7c0a-b1bf-442c-cf69-6ba1d4663c29"
      },
      "source": [
        "print('Country')\r\n",
        "country_rdd.show(2)\r\n",
        "print('Departments')\r\n",
        "departments_rdd.show(2)\r\n",
        "print('Employees')\r\n",
        "employees_rdd.show(2)\r\n",
        "print('Job History')\r\n",
        "job_history_rdd.show(2)\r\n",
        "print('jobs')\r\n",
        "jobs_rdd.show(2)\r\n",
        "print('Locations')\r\n",
        "locations_rdd.show(2)\r\n",
        "print('Regions')\r\n",
        "regions_rdd.show(2)"
      ],
      "execution_count": 72,
      "outputs": [
        {
          "output_type": "stream",
          "text": [
            "Country\n",
            "+----------+------------+---------+\n",
            "|COUNTRY_ID|COUNTRY_NAME|REGION_ID|\n",
            "+----------+------------+---------+\n",
            "|        AR|   Argentina|        2|\n",
            "|        AU|   Australia|        3|\n",
            "+----------+------------+---------+\n",
            "only showing top 2 rows\n",
            "\n",
            "Departments\n",
            "+-------------+---------------+----------+-----------+\n",
            "|DEPARTMENT_ID|DEPARTMENT_NAME|MANAGER_ID|LOCATION_ID|\n",
            "+-------------+---------------+----------+-----------+\n",
            "|           10| Administration|       200|       1700|\n",
            "|           20|      Marketing|       201|       1800|\n",
            "+-------------+---------------+----------+-----------+\n",
            "only showing top 2 rows\n",
            "\n",
            "Employees\n",
            "+-----------+----------+---------+--------+------------+----------+-------+------+--------------+----------+-------------+\n",
            "|EMPLOYEE_ID|FIRST_NAME|LAST_NAME|   EMAIL|PHONE_NUMBER| HIRE_DATE| JOB_ID|SALARY|COMMISSION_PCT|MANAGER_ID|DEPARTMENT_ID|\n",
            "+-----------+----------+---------+--------+------------+----------+-------+------+--------------+----------+-------------+\n",
            "|        100|    Steven|     King|   SKING|515.123.4567|2003-06-17|AD_PRES| 24000|          null|      null|           90|\n",
            "|        101|     Neena|  Kochhar|NKOCHHAR|515.123.4568|2005-09-21|  AD_VP| 17000|          null|       100|           90|\n",
            "+-----------+----------+---------+--------+------------+----------+-------+------+--------------+----------+-------------+\n",
            "only showing top 2 rows\n",
            "\n",
            "Job History\n",
            "+-----------+----------+----------+----------+-------------+\n",
            "|EMPLOYEE_ID|START_DATE|  END_DATE|    JOB_ID|DEPARTMENT_ID|\n",
            "+-----------+----------+----------+----------+-------------+\n",
            "|        102|2001-01-13|2006-07-24|   IT_PROG|           60|\n",
            "|        101|1997-09-21|2001-10-27|AC_ACCOUNT|          110|\n",
            "+-----------+----------+----------+----------+-------------+\n",
            "only showing top 2 rows\n",
            "\n",
            "jobs\n",
            "+-------+--------------------+----------+----------+\n",
            "| JOB_ID|           JOB_TITLE|MIN_SALARY|MAX_SALARY|\n",
            "+-------+--------------------+----------+----------+\n",
            "|AD_PRES|           President|     20080|     40000|\n",
            "|  AD_VP|Administration Vi...|     15000|     30000|\n",
            "+-------+--------------------+----------+----------+\n",
            "only showing top 2 rows\n",
            "\n",
            "Locations\n",
            "+-----------+--------------------+-----------+------+--------------+----------+\n",
            "|LOCATION_ID|      STREET_ADDRESS|POSTAL_CODE|  CITY|STATE_PROVINCE|COUNTRY_ID|\n",
            "+-----------+--------------------+-----------+------+--------------+----------+\n",
            "|       1000|1297 Via Cola di Rie|      00989|  Roma|          null|        IT|\n",
            "|       1100|93091 Calle della...|      10934|Venice|          null|        IT|\n",
            "+-----------+--------------------+-----------+------+--------------+----------+\n",
            "only showing top 2 rows\n",
            "\n",
            "Regions\n",
            "+---------+-----------+\n",
            "|REGION_ID|REGION_NAME|\n",
            "+---------+-----------+\n",
            "|        1|     Europe|\n",
            "|        2|   Americas|\n",
            "+---------+-----------+\n",
            "only showing top 2 rows\n",
            "\n"
          ],
          "name": "stdout"
        }
      ]
    },
    {
      "cell_type": "markdown",
      "metadata": {
        "id": "V03AaPrmvQEL"
      },
      "source": [
        "Далее результаты для каждого задания будут находиться с помощью функций pyspark, а также с помощью sql запросов к созданным временным таблицам"
      ]
    },
    {
      "cell_type": "markdown",
      "metadata": {
        "id": "v43K2fDAjUYb"
      },
      "source": [
        "Кто получает больше всего? Кто меньше всего?"
      ]
    },
    {
      "cell_type": "markdown",
      "metadata": {
        "id": "Duj72RA9oZxS"
      },
      "source": [
        "Больше всего из всех сотрудников получает:"
      ]
    },
    {
      "cell_type": "code",
      "metadata": {
        "colab": {
          "base_uri": "https://localhost:8080/"
        },
        "id": "inhLcKU1oXID",
        "outputId": "fb82bbb6-bcef-47c8-cd9f-c7e183e1e58a"
      },
      "source": [
        "(employees_rdd\r\n",
        " .filter(col('SALARY') == employees_rdd.agg({\"SALARY\": \"max\"}).collect()[0][0])\r\n",
        " .show())"
      ],
      "execution_count": 30,
      "outputs": [
        {
          "output_type": "stream",
          "text": [
            "+-----------+----------+---------+-----+------------+---------+-------+------+--------------+----------+-------------+\n",
            "|EMPLOYEE_ID|FIRST_NAME|LAST_NAME|EMAIL|PHONE_NUMBER|HIRE_DATE| JOB_ID|SALARY|COMMISSION_PCT|MANAGER_ID|DEPARTMENT_ID|\n",
            "+-----------+----------+---------+-----+------------+---------+-------+------+--------------+----------+-------------+\n",
            "|        100|    Steven|     King|SKING|515.123.4567| 17.06.03|AD_PRES| 24000|          null|      null|           90|\n",
            "+-----------+----------+---------+-----+------------+---------+-------+------+--------------+----------+-------------+\n",
            "\n"
          ],
          "name": "stdout"
        }
      ]
    },
    {
      "cell_type": "code",
      "metadata": {
        "colab": {
          "base_uri": "https://localhost:8080/"
        },
        "id": "4ErJksa_sQCv",
        "outputId": "ce2011c2-f8aa-4322-dbfd-fc0f11855b38"
      },
      "source": [
        "spark.sql(\"SELECT * FROM employees WHERE SALARY= (SELECT MAX(SALARY) from employees)\").show()"
      ],
      "execution_count": 31,
      "outputs": [
        {
          "output_type": "stream",
          "text": [
            "+-----------+----------+---------+-----+------------+---------+-------+------+--------------+----------+-------------+\n",
            "|EMPLOYEE_ID|FIRST_NAME|LAST_NAME|EMAIL|PHONE_NUMBER|HIRE_DATE| JOB_ID|SALARY|COMMISSION_PCT|MANAGER_ID|DEPARTMENT_ID|\n",
            "+-----------+----------+---------+-----+------------+---------+-------+------+--------------+----------+-------------+\n",
            "|        100|    Steven|     King|SKING|515.123.4567| 17.06.03|AD_PRES| 24000|          null|      null|           90|\n",
            "+-----------+----------+---------+-----+------------+---------+-------+------+--------------+----------+-------------+\n",
            "\n"
          ],
          "name": "stdout"
        }
      ]
    },
    {
      "cell_type": "markdown",
      "metadata": {
        "id": "UAKw3mlCuCcr"
      },
      "source": [
        "Меньше всего из всех сотрудников получает:"
      ]
    },
    {
      "cell_type": "code",
      "metadata": {
        "colab": {
          "base_uri": "https://localhost:8080/"
        },
        "id": "MnW33x8rqvaP",
        "outputId": "54f82b01-9825-4a47-891e-40b46f00a06b"
      },
      "source": [
        "(employees_rdd\r\n",
        " .filter(col('SALARY') == employees_rdd.agg({\"SALARY\": \"min\"}).collect()[0][0])\r\n",
        " .show())"
      ],
      "execution_count": 32,
      "outputs": [
        {
          "output_type": "stream",
          "text": [
            "+-----------+----------+---------+-------+------------+---------+--------+------+--------------+----------+-------------+\n",
            "|EMPLOYEE_ID|FIRST_NAME|LAST_NAME|  EMAIL|PHONE_NUMBER|HIRE_DATE|  JOB_ID|SALARY|COMMISSION_PCT|MANAGER_ID|DEPARTMENT_ID|\n",
            "+-----------+----------+---------+-------+------------+---------+--------+------+--------------+----------+-------------+\n",
            "|        132|        TJ|    Olson|TJOLSON|650.124.8234| 10.04.07|ST_CLERK|  2100|          null|       121|           50|\n",
            "+-----------+----------+---------+-------+------------+---------+--------+------+--------------+----------+-------------+\n",
            "\n"
          ],
          "name": "stdout"
        }
      ]
    },
    {
      "cell_type": "code",
      "metadata": {
        "colab": {
          "base_uri": "https://localhost:8080/"
        },
        "id": "lo7pPXcauO0S",
        "outputId": "4898a427-8489-4ce6-b02e-46f5a7ad868c"
      },
      "source": [
        "spark.sql(\"SELECT * FROM employees WHERE SALARY= (SELECT MIN(SALARY) from employees)\").show()"
      ],
      "execution_count": 33,
      "outputs": [
        {
          "output_type": "stream",
          "text": [
            "+-----------+----------+---------+-------+------------+---------+--------+------+--------------+----------+-------------+\n",
            "|EMPLOYEE_ID|FIRST_NAME|LAST_NAME|  EMAIL|PHONE_NUMBER|HIRE_DATE|  JOB_ID|SALARY|COMMISSION_PCT|MANAGER_ID|DEPARTMENT_ID|\n",
            "+-----------+----------+---------+-------+------------+---------+--------+------+--------------+----------+-------------+\n",
            "|        132|        TJ|    Olson|TJOLSON|650.124.8234| 10.04.07|ST_CLERK|  2100|          null|       121|           50|\n",
            "+-----------+----------+---------+-------+------------+---------+--------+------+--------------+----------+-------------+\n",
            "\n"
          ],
          "name": "stdout"
        }
      ]
    },
    {
      "cell_type": "markdown",
      "metadata": {
        "id": "zg8-rkFlkMqm"
      },
      "source": [
        "Выведите топ 5 по зарплате."
      ]
    },
    {
      "cell_type": "code",
      "metadata": {
        "id": "SMzJ_tJhnWuV",
        "colab": {
          "base_uri": "https://localhost:8080/"
        },
        "outputId": "851d7818-c6ea-45e2-8527-87cb2e48a4af"
      },
      "source": [
        "(employees_rdd\r\n",
        " .orderBy('SALARY', ascending=False)\r\n",
        " .limit(5)\r\n",
        " .show())"
      ],
      "execution_count": 34,
      "outputs": [
        {
          "output_type": "stream",
          "text": [
            "+-----------+----------+---------+--------+------------------+---------+-------+------+--------------+----------+-------------+\n",
            "|EMPLOYEE_ID|FIRST_NAME|LAST_NAME|   EMAIL|      PHONE_NUMBER|HIRE_DATE| JOB_ID|SALARY|COMMISSION_PCT|MANAGER_ID|DEPARTMENT_ID|\n",
            "+-----------+----------+---------+--------+------------------+---------+-------+------+--------------+----------+-------------+\n",
            "|        100|    Steven|     King|   SKING|      515.123.4567| 17.06.03|AD_PRES| 24000|          null|      null|           90|\n",
            "|        101|     Neena|  Kochhar|NKOCHHAR|      515.123.4568| 21.09.05|  AD_VP| 17000|          null|       100|           90|\n",
            "|        102|       Lex|  De Haan| LDEHAAN|      515.123.4569| 13.01.01|  AD_VP| 17000|          null|       100|           90|\n",
            "|        145|      John|  Russell| JRUSSEL|011.44.1344.429268| 01.10.04| SA_MAN| 14000|           0,4|       100|           80|\n",
            "|        146|     Karen| Partners|KPARTNER|011.44.1344.467268| 05.01.05| SA_MAN| 13500|           0,3|       100|           80|\n",
            "+-----------+----------+---------+--------+------------------+---------+-------+------+--------------+----------+-------------+\n",
            "\n"
          ],
          "name": "stdout"
        }
      ]
    },
    {
      "cell_type": "code",
      "metadata": {
        "colab": {
          "base_uri": "https://localhost:8080/"
        },
        "id": "5_6dpY1tvDio",
        "outputId": "958a0fa1-c847-4c34-965e-78687c467e69"
      },
      "source": [
        "spark.sql(\"SELECT * FROM employees ORDER BY SALARY DESC LIMIT 5\").show()"
      ],
      "execution_count": 35,
      "outputs": [
        {
          "output_type": "stream",
          "text": [
            "+-----------+----------+---------+--------+------------------+---------+-------+------+--------------+----------+-------------+\n",
            "|EMPLOYEE_ID|FIRST_NAME|LAST_NAME|   EMAIL|      PHONE_NUMBER|HIRE_DATE| JOB_ID|SALARY|COMMISSION_PCT|MANAGER_ID|DEPARTMENT_ID|\n",
            "+-----------+----------+---------+--------+------------------+---------+-------+------+--------------+----------+-------------+\n",
            "|        100|    Steven|     King|   SKING|      515.123.4567| 17.06.03|AD_PRES| 24000|          null|      null|           90|\n",
            "|        101|     Neena|  Kochhar|NKOCHHAR|      515.123.4568| 21.09.05|  AD_VP| 17000|          null|       100|           90|\n",
            "|        102|       Lex|  De Haan| LDEHAAN|      515.123.4569| 13.01.01|  AD_VP| 17000|          null|       100|           90|\n",
            "|        145|      John|  Russell| JRUSSEL|011.44.1344.429268| 01.10.04| SA_MAN| 14000|           0,4|       100|           80|\n",
            "|        146|     Karen| Partners|KPARTNER|011.44.1344.467268| 05.01.05| SA_MAN| 13500|           0,3|       100|           80|\n",
            "+-----------+----------+---------+--------+------------------+---------+-------+------+--------------+----------+-------------+\n",
            "\n"
          ],
          "name": "stdout"
        }
      ]
    },
    {
      "cell_type": "markdown",
      "metadata": {
        "id": "JfBpDVYwkM7K"
      },
      "source": [
        "Сколько всего регионов? Сколько работников в каждом регионе?"
      ]
    },
    {
      "cell_type": "markdown",
      "metadata": {
        "id": "2TmtcGeyve3G"
      },
      "source": [
        "Количество регионов:"
      ]
    },
    {
      "cell_type": "code",
      "metadata": {
        "id": "w2d2AiBknYSo",
        "colab": {
          "base_uri": "https://localhost:8080/"
        },
        "outputId": "f49ca684-f3d0-460a-c884-8a5f02a4fbe0"
      },
      "source": [
        "(regions_rdd\r\n",
        " .agg({\"REGION_ID\": \"count\"})\r\n",
        " .show()\r\n",
        ")"
      ],
      "execution_count": 36,
      "outputs": [
        {
          "output_type": "stream",
          "text": [
            "+----------------+\n",
            "|count(REGION_ID)|\n",
            "+----------------+\n",
            "|               4|\n",
            "+----------------+\n",
            "\n"
          ],
          "name": "stdout"
        }
      ]
    },
    {
      "cell_type": "code",
      "metadata": {
        "colab": {
          "base_uri": "https://localhost:8080/"
        },
        "id": "cXoAq2KXwAo_",
        "outputId": "6ddc6b0d-879d-4245-eee1-b28c96a51e07"
      },
      "source": [
        "spark.sql(\"SELECT COUNT(*) FROM regions\").show()"
      ],
      "execution_count": 37,
      "outputs": [
        {
          "output_type": "stream",
          "text": [
            "+--------+\n",
            "|count(1)|\n",
            "+--------+\n",
            "|       4|\n",
            "+--------+\n",
            "\n"
          ],
          "name": "stdout"
        }
      ]
    },
    {
      "cell_type": "markdown",
      "metadata": {
        "id": "7A7cm7WOwZ3o"
      },
      "source": [
        "Сколько работников в каждом регионе"
      ]
    },
    {
      "cell_type": "code",
      "metadata": {
        "colab": {
          "base_uri": "https://localhost:8080/"
        },
        "id": "U0spB9ocxoE_",
        "outputId": "9637e7de-8b27-4ab0-8917-eb7850259c44"
      },
      "source": [
        "print('Всего сотрудников: {}'.format(employees_rdd.count()))"
      ],
      "execution_count": 38,
      "outputs": [
        {
          "output_type": "stream",
          "text": [
            "Всего сотрудников: 106\n"
          ],
          "name": "stdout"
        }
      ]
    },
    {
      "cell_type": "code",
      "metadata": {
        "colab": {
          "base_uri": "https://localhost:8080/"
        },
        "id": "nv7LA4VnwYxl",
        "outputId": "cce77d8b-53dd-43d3-cd5c-1055c34a6c4b"
      },
      "source": [
        "(regions_rdd\r\n",
        " .join(country_rdd, on='REGION_ID', how='inner')\r\n",
        " .join(locations_rdd, on='COUNTRY_ID', how='inner')\r\n",
        " .join(departments_rdd, on='LOCATION_ID', how='inner')\r\n",
        " .join(employees_rdd, on='DEPARTMENT_ID', how='inner')\r\n",
        " .groupby('REGION_ID')\r\n",
        " .count()\r\n",
        " .show()\r\n",
        " )"
      ],
      "execution_count": 39,
      "outputs": [
        {
          "output_type": "stream",
          "text": [
            "+---------+-----+\n",
            "|REGION_ID|count|\n",
            "+---------+-----+\n",
            "|        1|   36|\n",
            "|        2|   70|\n",
            "+---------+-----+\n",
            "\n"
          ],
          "name": "stdout"
        }
      ]
    },
    {
      "cell_type": "code",
      "metadata": {
        "colab": {
          "base_uri": "https://localhost:8080/"
        },
        "id": "zLXpZSpAx2ds",
        "outputId": "f144b4d5-79dc-4307-fe7e-9e3eb39b3ef1"
      },
      "source": [
        "spark.sql(\"\"\"SELECT r.REGION_ID, COUNT(e.EMPLOYEE_ID) FROM regions as r\r\n",
        "INNER JOIN country as c ON r.REGION_ID == c.REGION_ID\r\n",
        "INNER JOIN locations as l ON c.COUNTRY_ID == l.COUNTRY_ID\r\n",
        "INNER JOIN departments as d ON d.LOCATION_ID == l.LOCATION_ID\r\n",
        "INNER JOIN employees as e ON e.DEPARTMENT_ID == d.DEPARTMENT_ID\r\n",
        "GROUP BY r.REGION_ID\"\"\").show()"
      ],
      "execution_count": 40,
      "outputs": [
        {
          "output_type": "stream",
          "text": [
            "+---------+------------------+\n",
            "|REGION_ID|count(EMPLOYEE_ID)|\n",
            "+---------+------------------+\n",
            "|        1|                36|\n",
            "|        2|                70|\n",
            "+---------+------------------+\n",
            "\n"
          ],
          "name": "stdout"
        }
      ]
    },
    {
      "cell_type": "markdown",
      "metadata": {
        "id": "OOY2unJ8kNXz"
      },
      "source": [
        "Выведите всех работников из Китая."
      ]
    },
    {
      "cell_type": "code",
      "metadata": {
        "id": "5Lhj9GAwnZgK",
        "colab": {
          "base_uri": "https://localhost:8080/"
        },
        "outputId": "13f054ed-67bf-47ad-c436-23c4211e2c08"
      },
      "source": [
        "(employees_rdd\r\n",
        " .alias('employees')\r\n",
        " .join(departments_rdd, on='DEPARTMENT_ID', how='inner')\r\n",
        " .join(locations_rdd, on='LOCATION_ID', how='inner')\r\n",
        " .where(col('COUNTRY_ID') == 'CN')\r\n",
        " .select(['employees.*', 'COUNTRY_ID'])\r\n",
        " .show()\r\n",
        ")"
      ],
      "execution_count": 41,
      "outputs": [
        {
          "output_type": "stream",
          "text": [
            "+-------------+-----------+----------+---------+-----+------------+---------+------+------+--------------+----------+----------+\n",
            "|DEPARTMENT_ID|EMPLOYEE_ID|FIRST_NAME|LAST_NAME|EMAIL|PHONE_NUMBER|HIRE_DATE|JOB_ID|SALARY|COMMISSION_PCT|MANAGER_ID|COUNTRY_ID|\n",
            "+-------------+-----------+----------+---------+-----+------------+---------+------+------+--------------+----------+----------+\n",
            "+-------------+-----------+----------+---------+-----+------------+---------+------+------+--------------+----------+----------+\n",
            "\n"
          ],
          "name": "stdout"
        }
      ]
    },
    {
      "cell_type": "code",
      "metadata": {
        "colab": {
          "base_uri": "https://localhost:8080/"
        },
        "id": "NN_aotIJ2USl",
        "outputId": "4d85e5ae-a918-4fd9-9893-0efba6c67dd8"
      },
      "source": [
        "spark.sql(\"\"\"SELECT e.*, COUNTRY_ID from employees as e\r\n",
        "INNER JOIN departments as d ON d.DEPARTMENT_ID == e.DEPARTMENT_ID\r\n",
        "INNER JOIN locations as l ON l.LOCATION_ID == d.LOCATION_ID\r\n",
        "WHERE l.COUNTRY_ID == 'CN'\"\"\").show()"
      ],
      "execution_count": 42,
      "outputs": [
        {
          "output_type": "stream",
          "text": [
            "+-----------+----------+---------+-----+------------+---------+------+------+--------------+----------+-------------+----------+\n",
            "|EMPLOYEE_ID|FIRST_NAME|LAST_NAME|EMAIL|PHONE_NUMBER|HIRE_DATE|JOB_ID|SALARY|COMMISSION_PCT|MANAGER_ID|DEPARTMENT_ID|COUNTRY_ID|\n",
            "+-----------+----------+---------+-----+------------+---------+------+------+--------------+----------+-------------+----------+\n",
            "+-----------+----------+---------+-----+------------+---------+------+------+--------------+----------+-------------+----------+\n",
            "\n"
          ],
          "name": "stdout"
        }
      ]
    },
    {
      "cell_type": "markdown",
      "metadata": {
        "id": "fNZUug6v3Ca5"
      },
      "source": [
        "Как можно заметить, сотрудников из Китая в таблицах нет. Можно убедиться в этом с помощью следующего запроса"
      ]
    },
    {
      "cell_type": "code",
      "metadata": {
        "colab": {
          "base_uri": "https://localhost:8080/"
        },
        "id": "_PxnZ5ps3Qg5",
        "outputId": "af615d9b-2b72-4bbb-a98b-c346c603f079"
      },
      "source": [
        "spark.sql(\"\"\"SELECT DISTINCT c.COUNTRY_ID FROM country as c\r\n",
        "INNER JOIN locations as l ON c.COUNTRY_ID == l.COUNTRY_ID\r\n",
        "INNER JOIN departments as d ON d.LOCATION_ID == l.LOCATION_ID\r\n",
        "INNER JOIN employees as e ON e.DEPARTMENT_ID == d.DEPARTMENT_ID\r\n",
        "\"\"\").show()"
      ],
      "execution_count": 43,
      "outputs": [
        {
          "output_type": "stream",
          "text": [
            "+----------+\n",
            "|COUNTRY_ID|\n",
            "+----------+\n",
            "|        CA|\n",
            "|        DE|\n",
            "|        US|\n",
            "|        UK|\n",
            "+----------+\n",
            "\n"
          ],
          "name": "stdout"
        }
      ]
    },
    {
      "cell_type": "markdown",
      "metadata": {
        "id": "s1Nc8F-6kNR7"
      },
      "source": [
        "Укажите самую высокооплачиваемую должность."
      ]
    },
    {
      "cell_type": "code",
      "metadata": {
        "id": "-ZNAohM-naSr",
        "colab": {
          "base_uri": "https://localhost:8080/"
        },
        "outputId": "c197b570-942c-4503-e444-dae6e865eead"
      },
      "source": [
        "(jobs_rdd\r\n",
        " .filter(col('MAX_SALARY') == jobs_rdd.agg({\"MAX_SALARY\": \"max\"}).collect()[0][0])\r\n",
        " .show())"
      ],
      "execution_count": 44,
      "outputs": [
        {
          "output_type": "stream",
          "text": [
            "+-------+---------+----------+----------+\n",
            "| JOB_ID|JOB_TITLE|MIN_SALARY|MAX_SALARY|\n",
            "+-------+---------+----------+----------+\n",
            "|AD_PRES|President|     20080|     40000|\n",
            "+-------+---------+----------+----------+\n",
            "\n"
          ],
          "name": "stdout"
        }
      ]
    },
    {
      "cell_type": "code",
      "metadata": {
        "colab": {
          "base_uri": "https://localhost:8080/"
        },
        "id": "talgeZIw4ZsP",
        "outputId": "e5475c6e-dd8e-4d68-da63-34269bc39ef5"
      },
      "source": [
        "spark.sql(\"SELECT * FROM jobs WHERE MAX_SALARY=(SELECT MAX(MAX_SALARY) from jobs)\").show()"
      ],
      "execution_count": 45,
      "outputs": [
        {
          "output_type": "stream",
          "text": [
            "+-------+---------+----------+----------+\n",
            "| JOB_ID|JOB_TITLE|MIN_SALARY|MAX_SALARY|\n",
            "+-------+---------+----------+----------+\n",
            "|AD_PRES|President|     20080|     40000|\n",
            "+-------+---------+----------+----------+\n",
            "\n"
          ],
          "name": "stdout"
        }
      ]
    },
    {
      "cell_type": "markdown",
      "metadata": {
        "id": "dzenJwUnkNL8"
      },
      "source": [
        "Выведите всех работников связанных с ИТ. Выведите их менеджеров. "
      ]
    },
    {
      "cell_type": "code",
      "metadata": {
        "id": "eogYiLjXna3h",
        "colab": {
          "base_uri": "https://localhost:8080/"
        },
        "outputId": "fb921f55-aa5a-4fc3-e6eb-bb8d68665267"
      },
      "source": [
        "(employees_rdd\r\n",
        " .alias('e1')\r\n",
        " .join(employees_rdd.alias('e2'), on=col('e2.EMPLOYEE_ID') == col('e1.MANAGER_ID'), how='inner')\r\n",
        " .join(jobs_rdd.alias('j'), on=col('j.JOB_ID') == col('e1.JOB_ID'))\r\n",
        " .where(col('e1.JOB_ID') == 'IT_PROG')\r\n",
        " .select(['e1.*', 'e2.FIRST_NAME', 'e2.LAST_NAME'])\r\n",
        " .show()\r\n",
        " )"
      ],
      "execution_count": 46,
      "outputs": [
        {
          "output_type": "stream",
          "text": [
            "+-----------+----------+---------+--------+------------+---------+-------+------+--------------+----------+-------------+----------+---------+\n",
            "|EMPLOYEE_ID|FIRST_NAME|LAST_NAME|   EMAIL|PHONE_NUMBER|HIRE_DATE| JOB_ID|SALARY|COMMISSION_PCT|MANAGER_ID|DEPARTMENT_ID|FIRST_NAME|LAST_NAME|\n",
            "+-----------+----------+---------+--------+------------+---------+-------+------+--------------+----------+-------------+----------+---------+\n",
            "|        103| Alexander|   Hunold| AHUNOLD|590.423.4567| 03.01.06|IT_PROG|  9000|          null|       102|           60|       Lex|  De Haan|\n",
            "|        104|     Bruce|    Ernst|  BERNST|590.423.4568| 21.05.07|IT_PROG|  6000|          null|       103|           60| Alexander|   Hunold|\n",
            "|        105|     David|   Austin| DAUSTIN|590.423.4569| 25.06.05|IT_PROG|  4800|          null|       103|           60| Alexander|   Hunold|\n",
            "|        106|     Valli|Pataballa|VPATABAL|590.423.4560| 05.02.06|IT_PROG|  4800|          null|       103|           60| Alexander|   Hunold|\n",
            "|        107|     Diana|  Lorentz|DLORENTZ|590.423.5567| 07.02.07|IT_PROG|  4200|          null|       103|           60| Alexander|   Hunold|\n",
            "+-----------+----------+---------+--------+------------+---------+-------+------+--------------+----------+-------------+----------+---------+\n",
            "\n"
          ],
          "name": "stdout"
        }
      ]
    },
    {
      "cell_type": "code",
      "metadata": {
        "colab": {
          "base_uri": "https://localhost:8080/"
        },
        "id": "zDJjyy3C7ayu",
        "outputId": "894d51d8-333f-4f92-dc0c-2ec327cb8ef4"
      },
      "source": [
        "spark.sql(\"\"\"SELECT e1.*, e2.FIRST_NAME as manager_FN, e2.LAST_NAME as manager_LN\r\n",
        "FROM employees as e1\r\n",
        "INNER JOIN employees as e2 ON e2.EMPLOYEE_ID == e1.MANAGER_ID\r\n",
        "INNER JOIN jobs as j ON j.JOB_ID == e1.JOB_ID\r\n",
        "WHERE e1.JOB_ID = 'IT_PROG'\r\n",
        "\"\"\").show()"
      ],
      "execution_count": 47,
      "outputs": [
        {
          "output_type": "stream",
          "text": [
            "+-----------+----------+---------+--------+------------+---------+-------+------+--------------+----------+-------------+----------+----------+\n",
            "|EMPLOYEE_ID|FIRST_NAME|LAST_NAME|   EMAIL|PHONE_NUMBER|HIRE_DATE| JOB_ID|SALARY|COMMISSION_PCT|MANAGER_ID|DEPARTMENT_ID|manager_FN|manager_LN|\n",
            "+-----------+----------+---------+--------+------------+---------+-------+------+--------------+----------+-------------+----------+----------+\n",
            "|        103| Alexander|   Hunold| AHUNOLD|590.423.4567| 03.01.06|IT_PROG|  9000|          null|       102|           60|       Lex|   De Haan|\n",
            "|        104|     Bruce|    Ernst|  BERNST|590.423.4568| 21.05.07|IT_PROG|  6000|          null|       103|           60| Alexander|    Hunold|\n",
            "|        105|     David|   Austin| DAUSTIN|590.423.4569| 25.06.05|IT_PROG|  4800|          null|       103|           60| Alexander|    Hunold|\n",
            "|        106|     Valli|Pataballa|VPATABAL|590.423.4560| 05.02.06|IT_PROG|  4800|          null|       103|           60| Alexander|    Hunold|\n",
            "|        107|     Diana|  Lorentz|DLORENTZ|590.423.5567| 07.02.07|IT_PROG|  4200|          null|       103|           60| Alexander|    Hunold|\n",
            "+-----------+----------+---------+--------+------------+---------+-------+------+--------------+----------+-------------+----------+----------+\n",
            "\n"
          ],
          "name": "stdout"
        }
      ]
    },
    {
      "cell_type": "markdown",
      "metadata": {
        "id": "tvpCoeYPmLTW"
      },
      "source": [
        "Выведите имя и фамилию работника, его текущую и предыдущую должности и сколько полных недель и дней прошло с момент изменения. \n",
        "\n"
      ]
    },
    {
      "cell_type": "markdown",
      "metadata": {
        "id": "HkhfxeciGivH"
      },
      "source": [
        "Количество полных дней и недель будем считать между текущей датой и датой окончания последней работы (END_DATE)"
      ]
    },
    {
      "cell_type": "code",
      "metadata": {
        "id": "SkCvyzkVnbo6",
        "colab": {
          "base_uri": "https://localhost:8080/"
        },
        "outputId": "547a2965-0a8c-4b2a-dbdf-0189ccb6a06b"
      },
      "source": [
        "(job_history_rdd\r\n",
        " .alias('j')\r\n",
        " .withColumn(\"row_number\", row_number().over(Window.partitionBy(\"EMPLOYEE_ID\").orderBy(col(\"END_DATE\").desc())))\r\n",
        " .where(col('row_number') == 1)\r\n",
        " .drop(col('row_number'))\r\n",
        " .join(employees_rdd.alias('e'), on='EMPLOYEE_ID', how='inner')\r\n",
        " .select(\r\n",
        "     col('FIRST_NAME'),\r\n",
        "     col('LAST_NAME'),\r\n",
        "     col('e.JOB_ID').alias('cur_job'),\r\n",
        "     col('j.JOB_ID').alias('prev_job'),\r\n",
        "     datediff(current_date(), col('END_DATE')).alias('days'),\r\n",
        "     ceil(datediff(current_date(), col('END_DATE')) / 7).alias('weeks') \r\n",
        " )\r\n",
        " .show()\r\n",
        ")"
      ],
      "execution_count": 121,
      "outputs": [
        {
          "output_type": "stream",
          "text": [
            "+----------+---------+-------+----------+----+-----+\n",
            "|FIRST_NAME|LAST_NAME|cur_job|  prev_job|days|weeks|\n",
            "+----------+---------+-------+----------+----+-----+\n",
            "|     Neena|  Kochhar|  AD_VP|    AC_MGR|5758|  823|\n",
            "|       Lex|  De Haan|  AD_VP|   IT_PROG|5262|  752|\n",
            "|       Den| Raphaely| PU_MAN|  ST_CLERK|4737|  677|\n",
            "|     Payam| Kaufling| ST_MAN|  ST_CLERK|4737|  677|\n",
            "|  Jonathon|   Taylor| SA_REP|    SA_MAN|4737|  677|\n",
            "|  Jennifer|   Whalen|AD_ASST|AC_ACCOUNT|5102|  729|\n",
            "|   Michael|Hartstein| MK_MAN|    MK_REP|4749|  679|\n",
            "+----------+---------+-------+----------+----+-----+\n",
            "\n"
          ],
          "name": "stdout"
        }
      ]
    },
    {
      "cell_type": "code",
      "metadata": {
        "colab": {
          "base_uri": "https://localhost:8080/"
        },
        "id": "yYucnYbqCpcy",
        "outputId": "6437abad-4f64-477d-d38a-4b6de04779fe"
      },
      "source": [
        "spark.sql(\"\"\"SELECT e.FIRST_NAME, e.LAST_NAME, e.JOB_ID as cur_job, j.JOB_ID as prev_job, \r\n",
        "DATEDIFF(current_date(), j.END_DATE) as days, CEIL(DATEDIFF(current_date(), j.END_DATE) / 7) as weeks\r\n",
        "FROM (\r\n",
        "  SELECT *, ROW_NUMBER() OVER(PARTITION BY EMPLOYEE_ID ORDER BY END_DATE DESC) as row_num\r\n",
        "  FROM job_history\r\n",
        ") as j\r\n",
        "INNER JOIN employees as e ON e.EMPLOYEE_ID = j.EMPLOYEE_ID\r\n",
        "WHERE row_num = 1\r\n",
        "\"\"\").show()"
      ],
      "execution_count": 125,
      "outputs": [
        {
          "output_type": "stream",
          "text": [
            "+----------+---------+-------+----------+----+-----+\n",
            "|FIRST_NAME|LAST_NAME|cur_job|  prev_job|days|weeks|\n",
            "+----------+---------+-------+----------+----+-----+\n",
            "|     Neena|  Kochhar|  AD_VP|    AC_MGR|5758|  823|\n",
            "|       Lex|  De Haan|  AD_VP|   IT_PROG|5262|  752|\n",
            "|       Den| Raphaely| PU_MAN|  ST_CLERK|4737|  677|\n",
            "|     Payam| Kaufling| ST_MAN|  ST_CLERK|4737|  677|\n",
            "|  Jonathon|   Taylor| SA_REP|    SA_MAN|4737|  677|\n",
            "|  Jennifer|   Whalen|AD_ASST|AC_ACCOUNT|5102|  729|\n",
            "|   Michael|Hartstein| MK_MAN|    MK_REP|4749|  679|\n",
            "+----------+---------+-------+----------+----+-----+\n",
            "\n"
          ],
          "name": "stdout"
        }
      ]
    },
    {
      "cell_type": "markdown",
      "metadata": {
        "id": "sOBhGAaanC0e"
      },
      "source": [
        "Выведите уникальные телефонные номера"
      ]
    },
    {
      "cell_type": "code",
      "metadata": {
        "id": "05BrXyrsncKf",
        "colab": {
          "base_uri": "https://localhost:8080/"
        },
        "outputId": "0f6b6688-6cc6-4af1-8988-4ba7e016802c"
      },
      "source": [
        "(employees_rdd\r\n",
        " .select('PHONE_NUMBER')\r\n",
        " .distinct()\r\n",
        " .show()\r\n",
        " )"
      ],
      "execution_count": 128,
      "outputs": [
        {
          "output_type": "stream",
          "text": [
            "+------------------+\n",
            "|      PHONE_NUMBER|\n",
            "+------------------+\n",
            "|011.44.1344.429018|\n",
            "|      515.127.4566|\n",
            "|      515.127.4564|\n",
            "|011.44.1344.429278|\n",
            "|      515.123.4569|\n",
            "|      650.124.1434|\n",
            "|      650.123.2234|\n",
            "|011.44.1344.498718|\n",
            "|      650.127.1634|\n",
            "|      515.127.4561|\n",
            "|011.44.1345.629268|\n",
            "|      515.127.4562|\n",
            "|011.44.1644.429264|\n",
            "|011.44.1644.429262|\n",
            "|      650.501.1876|\n",
            "|      650.127.1834|\n",
            "|011.44.1343.529268|\n",
            "|011.44.1644.429265|\n",
            "|      515.123.8181|\n",
            "|      650.507.9833|\n",
            "+------------------+\n",
            "only showing top 20 rows\n",
            "\n"
          ],
          "name": "stdout"
        }
      ]
    },
    {
      "cell_type": "code",
      "metadata": {
        "colab": {
          "base_uri": "https://localhost:8080/"
        },
        "id": "luFx8CT_HcfJ",
        "outputId": "1602552f-a1b4-4681-8bd1-cf3351bb93e1"
      },
      "source": [
        "spark.sql(\"\"\"SELECT DISTINCT PHONE_NUMBER FROM employees\"\"\").show()"
      ],
      "execution_count": 130,
      "outputs": [
        {
          "output_type": "stream",
          "text": [
            "+------------------+\n",
            "|      PHONE_NUMBER|\n",
            "+------------------+\n",
            "|011.44.1344.429018|\n",
            "|      515.127.4566|\n",
            "|      515.127.4564|\n",
            "|011.44.1344.429278|\n",
            "|      515.123.4569|\n",
            "|      650.124.1434|\n",
            "|      650.123.2234|\n",
            "|011.44.1344.498718|\n",
            "|      650.127.1634|\n",
            "|      515.127.4561|\n",
            "|011.44.1345.629268|\n",
            "|      515.127.4562|\n",
            "|011.44.1644.429264|\n",
            "|011.44.1644.429262|\n",
            "|      650.501.1876|\n",
            "|      650.127.1834|\n",
            "|011.44.1343.529268|\n",
            "|011.44.1644.429265|\n",
            "|      515.123.8181|\n",
            "|      650.507.9833|\n",
            "+------------------+\n",
            "only showing top 20 rows\n",
            "\n"
          ],
          "name": "stdout"
        }
      ]
    },
    {
      "cell_type": "markdown",
      "metadata": {
        "id": "qdf1VBv3nMR-"
      },
      "source": [
        "Есть ли сотрудники с одинаковыми фамилиями и сколько их."
      ]
    },
    {
      "cell_type": "code",
      "metadata": {
        "colab": {
          "base_uri": "https://localhost:8080/"
        },
        "id": "RH2U5By3H5-j",
        "outputId": "02e45fb6-be45-40ea-f11d-0024abdab1c0"
      },
      "source": [
        "(employees_rdd\r\n",
        " .groupby('LAST_NAME')\r\n",
        " .count()\r\n",
        " .where(col('count') > 1)\r\n",
        " .show()\r\n",
        " )"
      ],
      "execution_count": 139,
      "outputs": [
        {
          "output_type": "stream",
          "text": [
            "+---------+-----+\n",
            "|LAST_NAME|count|\n",
            "+---------+-----+\n",
            "|    Smith|    2|\n",
            "|     King|    2|\n",
            "|Cambrault|    2|\n",
            "|   Taylor|    2|\n",
            "+---------+-----+\n",
            "\n"
          ],
          "name": "stdout"
        }
      ]
    },
    {
      "cell_type": "code",
      "metadata": {
        "id": "apTLX1o6jy6K",
        "colab": {
          "base_uri": "https://localhost:8080/"
        },
        "outputId": "bcc475f6-fe42-43be-fc76-908ce51a864f"
      },
      "source": [
        "spark.sql(\"\"\"SELECT LAST_NAME, COUNT(*) as dup_count FROM employees\r\n",
        "GROUP BY LAST_NAME\r\n",
        "HAVING dup_count > 1\r\n",
        "\"\"\").show()"
      ],
      "execution_count": 133,
      "outputs": [
        {
          "output_type": "stream",
          "text": [
            "+---------+---------+\n",
            "|LAST_NAME|dup_count|\n",
            "+---------+---------+\n",
            "|    Smith|        2|\n",
            "|     King|        2|\n",
            "|Cambrault|        2|\n",
            "|   Taylor|        2|\n",
            "+---------+---------+\n",
            "\n"
          ],
          "name": "stdout"
        }
      ]
    }
  ]
}