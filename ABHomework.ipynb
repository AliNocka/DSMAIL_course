{
  "nbformat": 4,
  "nbformat_minor": 0,
  "metadata": {
    "kernelspec": {
      "display_name": "Python 3",
      "language": "python",
      "name": "python3"
    },
    "language_info": {
      "codemirror_mode": {
        "name": "ipython",
        "version": 3
      },
      "file_extension": ".py",
      "mimetype": "text/x-python",
      "name": "python",
      "nbconvert_exporter": "python",
      "pygments_lexer": "ipython3",
      "version": "3.7.8"
    },
    "colab": {
      "name": "ABHomework.ipynb",
      "provenance": [],
      "collapsed_sections": [],
      "toc_visible": true
    }
  },
  "cells": [
    {
      "cell_type": "code",
      "metadata": {
        "id": "-amqVDwTPrx_"
      },
      "source": [
        "import pandas as pd\n",
        "import numpy as np\n",
        "import matplotlib\n",
        "import matplotlib.pyplot as plt\n",
        "from scipy import stats\n",
        "matplotlib.style.use('ggplot')\n",
        "\n",
        "from statsmodels.stats.weightstats import ztest\n",
        "import statsmodels.api as sm\n",
        "%matplotlib inline\n",
        "\n",
        "np.random.seed(42)"
      ],
      "execution_count": 43,
      "outputs": []
    },
    {
      "cell_type": "markdown",
      "metadata": {
        "id": "G4gnvrQ0NlM0"
      },
      "source": [
        "## AB Tests"
      ]
    },
    {
      "cell_type": "markdown",
      "metadata": {
        "id": "G7Yy1quFNlM0"
      },
      "source": [
        "### 1. Оценка результатов AB теста"
      ]
    },
    {
      "cell_type": "markdown",
      "metadata": {
        "id": "PBCF2etaNlM1"
      },
      "source": [
        "В данном задании вам требуется оценить результаты AB теста. Даны результаты на контрольной и тестовой группе после проведения AB теста.\n",
        "Помимо показателей целевой переменной, вам даны также несколько фичей, которые являются характеристиками объектов. Даны целевые показатели (y) и принадлежность к целевой группе (W).\n",
        "\n",
        "</u>Задача:</u>\n",
        "1. Проверьте подходящую для данных гипотезу о равенстве средних в выборках\n",
        "2. Каков treatment effect нашего воздействия? (ATE) \n",
        "3. Примените известные вам методы оценки ATE с учетом особенностей данных.\n",
        "4. Проанализируйте, сравните результаты применения различных методов.\n",
        "5. В явном виде выпишите выводы.\n",
        "\n",
        "</i>Примечание: предположения о рандомизированном эксперименте нуждаются в проверке - независимость treatment от объектов не гарантирована. Все предположения выписывайте явно.</i> \n",
        "\n",
        "Для данной задачи используется dataset:  dataset_part1_students.csv"
      ]
    },
    {
      "cell_type": "code",
      "metadata": {
        "colab": {
          "base_uri": "https://localhost:8080/",
          "height": 232
        },
        "id": "wao0hzynPm7C",
        "outputId": "7c8fe032-2b08-4169-9852-ce6d32f33e6e"
      },
      "source": [
        "df_1 = pd.read_csv('dataset_part1_students.csv', sep=\"\\\\t\")\n",
        "df_1.head(5)"
      ],
      "execution_count": 199,
      "outputs": [
        {
          "output_type": "stream",
          "text": [
            "Falling back to the 'python' engine because the 'c' engine does not support regex separators (separators > 1 char and different from '\\s+' are interpreted as regex); you can avoid this warning by specifying engine='python'.\n"
          ],
          "name": "stderr"
        },
        {
          "output_type": "execute_result",
          "data": {
            "text/html": [
              "<div>\n",
              "<style scoped>\n",
              "    .dataframe tbody tr th:only-of-type {\n",
              "        vertical-align: middle;\n",
              "    }\n",
              "\n",
              "    .dataframe tbody tr th {\n",
              "        vertical-align: top;\n",
              "    }\n",
              "\n",
              "    .dataframe thead th {\n",
              "        text-align: right;\n",
              "    }\n",
              "</style>\n",
              "<table border=\"1\" class=\"dataframe\">\n",
              "  <thead>\n",
              "    <tr style=\"text-align: right;\">\n",
              "      <th></th>\n",
              "      <th>y</th>\n",
              "      <th>W</th>\n",
              "      <th>X_1</th>\n",
              "      <th>X_2</th>\n",
              "      <th>X_3</th>\n",
              "      <th>X_4</th>\n",
              "      <th>X_5</th>\n",
              "      <th>X_6</th>\n",
              "      <th>X_7</th>\n",
              "      <th>X_8</th>\n",
              "      <th>X_9</th>\n",
              "      <th>X_10</th>\n",
              "    </tr>\n",
              "  </thead>\n",
              "  <tbody>\n",
              "    <tr>\n",
              "      <th>0</th>\n",
              "      <td>-1.459404</td>\n",
              "      <td>0.0</td>\n",
              "      <td>0.986277</td>\n",
              "      <td>0.873392</td>\n",
              "      <td>0.509746</td>\n",
              "      <td>0.271836</td>\n",
              "      <td>0.336919</td>\n",
              "      <td>0.216954</td>\n",
              "      <td>0.276477</td>\n",
              "      <td>0.343316</td>\n",
              "      <td>0.862159</td>\n",
              "      <td>0.156700</td>\n",
              "    </tr>\n",
              "    <tr>\n",
              "      <th>1</th>\n",
              "      <td>-1.694174</td>\n",
              "      <td>0.0</td>\n",
              "      <td>0.140887</td>\n",
              "      <td>0.757080</td>\n",
              "      <td>0.736325</td>\n",
              "      <td>0.355663</td>\n",
              "      <td>0.341093</td>\n",
              "      <td>0.666803</td>\n",
              "      <td>0.217101</td>\n",
              "      <td>0.561427</td>\n",
              "      <td>0.124179</td>\n",
              "      <td>0.319736</td>\n",
              "    </tr>\n",
              "    <tr>\n",
              "      <th>2</th>\n",
              "      <td>5.378374</td>\n",
              "      <td>0.0</td>\n",
              "      <td>0.953214</td>\n",
              "      <td>0.137357</td>\n",
              "      <td>0.569413</td>\n",
              "      <td>0.975665</td>\n",
              "      <td>0.503367</td>\n",
              "      <td>0.667664</td>\n",
              "      <td>0.034191</td>\n",
              "      <td>0.456119</td>\n",
              "      <td>0.155851</td>\n",
              "      <td>0.476049</td>\n",
              "    </tr>\n",
              "    <tr>\n",
              "      <th>3</th>\n",
              "      <td>2.188189</td>\n",
              "      <td>1.0</td>\n",
              "      <td>0.169702</td>\n",
              "      <td>0.896258</td>\n",
              "      <td>0.373394</td>\n",
              "      <td>0.379693</td>\n",
              "      <td>0.858317</td>\n",
              "      <td>0.646061</td>\n",
              "      <td>0.583462</td>\n",
              "      <td>0.668350</td>\n",
              "      <td>0.177793</td>\n",
              "      <td>0.849248</td>\n",
              "    </tr>\n",
              "    <tr>\n",
              "      <th>4</th>\n",
              "      <td>2.862696</td>\n",
              "      <td>1.0</td>\n",
              "      <td>0.442373</td>\n",
              "      <td>0.831468</td>\n",
              "      <td>0.763921</td>\n",
              "      <td>0.919691</td>\n",
              "      <td>0.070573</td>\n",
              "      <td>0.156165</td>\n",
              "      <td>0.636894</td>\n",
              "      <td>0.555696</td>\n",
              "      <td>0.191929</td>\n",
              "      <td>0.425656</td>\n",
              "    </tr>\n",
              "  </tbody>\n",
              "</table>\n",
              "</div>"
            ],
            "text/plain": [
              "          y    W       X_1       X_2  ...       X_7       X_8       X_9      X_10\n",
              "0 -1.459404  0.0  0.986277  0.873392  ...  0.276477  0.343316  0.862159  0.156700\n",
              "1 -1.694174  0.0  0.140887  0.757080  ...  0.217101  0.561427  0.124179  0.319736\n",
              "2  5.378374  0.0  0.953214  0.137357  ...  0.034191  0.456119  0.155851  0.476049\n",
              "3  2.188189  1.0  0.169702  0.896258  ...  0.583462  0.668350  0.177793  0.849248\n",
              "4  2.862696  1.0  0.442373  0.831468  ...  0.636894  0.555696  0.191929  0.425656\n",
              "\n",
              "[5 rows x 12 columns]"
            ]
          },
          "metadata": {
            "tags": []
          },
          "execution_count": 199
        }
      ]
    },
    {
      "cell_type": "code",
      "metadata": {
        "colab": {
          "base_uri": "https://localhost:8080/",
          "height": 304
        },
        "id": "RM3pDpiWSmQS",
        "outputId": "8a99004b-80df-4675-b63a-7ced8d0bb9f2"
      },
      "source": [
        "df_1.describe()"
      ],
      "execution_count": 200,
      "outputs": [
        {
          "output_type": "execute_result",
          "data": {
            "text/html": [
              "<div>\n",
              "<style scoped>\n",
              "    .dataframe tbody tr th:only-of-type {\n",
              "        vertical-align: middle;\n",
              "    }\n",
              "\n",
              "    .dataframe tbody tr th {\n",
              "        vertical-align: top;\n",
              "    }\n",
              "\n",
              "    .dataframe thead th {\n",
              "        text-align: right;\n",
              "    }\n",
              "</style>\n",
              "<table border=\"1\" class=\"dataframe\">\n",
              "  <thead>\n",
              "    <tr style=\"text-align: right;\">\n",
              "      <th></th>\n",
              "      <th>y</th>\n",
              "      <th>W</th>\n",
              "      <th>X_1</th>\n",
              "      <th>X_2</th>\n",
              "      <th>X_3</th>\n",
              "      <th>X_4</th>\n",
              "      <th>X_5</th>\n",
              "      <th>X_6</th>\n",
              "      <th>X_7</th>\n",
              "      <th>X_8</th>\n",
              "      <th>X_9</th>\n",
              "      <th>X_10</th>\n",
              "    </tr>\n",
              "  </thead>\n",
              "  <tbody>\n",
              "    <tr>\n",
              "      <th>count</th>\n",
              "      <td>20000.000000</td>\n",
              "      <td>20000.000000</td>\n",
              "      <td>20000.000000</td>\n",
              "      <td>20000.000000</td>\n",
              "      <td>20000.000000</td>\n",
              "      <td>20000.000000</td>\n",
              "      <td>20000.000000</td>\n",
              "      <td>20000.000000</td>\n",
              "      <td>20000.000000</td>\n",
              "      <td>20000.000000</td>\n",
              "      <td>20000.000000</td>\n",
              "      <td>20000.000000</td>\n",
              "    </tr>\n",
              "    <tr>\n",
              "      <th>mean</th>\n",
              "      <td>2.075323</td>\n",
              "      <td>0.522300</td>\n",
              "      <td>0.501970</td>\n",
              "      <td>0.496674</td>\n",
              "      <td>0.501623</td>\n",
              "      <td>0.501036</td>\n",
              "      <td>0.497661</td>\n",
              "      <td>0.501234</td>\n",
              "      <td>0.497832</td>\n",
              "      <td>0.496958</td>\n",
              "      <td>0.499980</td>\n",
              "      <td>0.498894</td>\n",
              "    </tr>\n",
              "    <tr>\n",
              "      <th>std</th>\n",
              "      <td>3.035037</td>\n",
              "      <td>0.499515</td>\n",
              "      <td>0.288250</td>\n",
              "      <td>0.289476</td>\n",
              "      <td>0.289892</td>\n",
              "      <td>0.288132</td>\n",
              "      <td>0.288567</td>\n",
              "      <td>0.288967</td>\n",
              "      <td>0.287840</td>\n",
              "      <td>0.288291</td>\n",
              "      <td>0.288345</td>\n",
              "      <td>0.287987</td>\n",
              "    </tr>\n",
              "    <tr>\n",
              "      <th>min</th>\n",
              "      <td>-9.047982</td>\n",
              "      <td>0.000000</td>\n",
              "      <td>0.000159</td>\n",
              "      <td>0.000013</td>\n",
              "      <td>0.000057</td>\n",
              "      <td>0.000028</td>\n",
              "      <td>0.000004</td>\n",
              "      <td>0.000073</td>\n",
              "      <td>0.000110</td>\n",
              "      <td>0.000057</td>\n",
              "      <td>0.000012</td>\n",
              "      <td>0.000013</td>\n",
              "    </tr>\n",
              "    <tr>\n",
              "      <th>25%</th>\n",
              "      <td>0.026237</td>\n",
              "      <td>0.000000</td>\n",
              "      <td>0.251363</td>\n",
              "      <td>0.244871</td>\n",
              "      <td>0.251427</td>\n",
              "      <td>0.250494</td>\n",
              "      <td>0.250537</td>\n",
              "      <td>0.250726</td>\n",
              "      <td>0.249500</td>\n",
              "      <td>0.247673</td>\n",
              "      <td>0.251035</td>\n",
              "      <td>0.250138</td>\n",
              "    </tr>\n",
              "    <tr>\n",
              "      <th>50%</th>\n",
              "      <td>2.075935</td>\n",
              "      <td>1.000000</td>\n",
              "      <td>0.503203</td>\n",
              "      <td>0.496624</td>\n",
              "      <td>0.504957</td>\n",
              "      <td>0.498941</td>\n",
              "      <td>0.498581</td>\n",
              "      <td>0.499502</td>\n",
              "      <td>0.499507</td>\n",
              "      <td>0.492757</td>\n",
              "      <td>0.499955</td>\n",
              "      <td>0.500853</td>\n",
              "    </tr>\n",
              "    <tr>\n",
              "      <th>75%</th>\n",
              "      <td>4.140186</td>\n",
              "      <td>1.000000</td>\n",
              "      <td>0.751609</td>\n",
              "      <td>0.745780</td>\n",
              "      <td>0.753342</td>\n",
              "      <td>0.752575</td>\n",
              "      <td>0.746653</td>\n",
              "      <td>0.752015</td>\n",
              "      <td>0.744436</td>\n",
              "      <td>0.746960</td>\n",
              "      <td>0.748775</td>\n",
              "      <td>0.745164</td>\n",
              "    </tr>\n",
              "    <tr>\n",
              "      <th>max</th>\n",
              "      <td>13.895502</td>\n",
              "      <td>1.000000</td>\n",
              "      <td>0.999966</td>\n",
              "      <td>0.999936</td>\n",
              "      <td>0.999960</td>\n",
              "      <td>0.999987</td>\n",
              "      <td>0.999948</td>\n",
              "      <td>0.999885</td>\n",
              "      <td>0.999970</td>\n",
              "      <td>0.999913</td>\n",
              "      <td>0.999906</td>\n",
              "      <td>0.999982</td>\n",
              "    </tr>\n",
              "  </tbody>\n",
              "</table>\n",
              "</div>"
            ],
            "text/plain": [
              "                  y             W  ...           X_9          X_10\n",
              "count  20000.000000  20000.000000  ...  20000.000000  20000.000000\n",
              "mean       2.075323      0.522300  ...      0.499980      0.498894\n",
              "std        3.035037      0.499515  ...      0.288345      0.287987\n",
              "min       -9.047982      0.000000  ...      0.000012      0.000013\n",
              "25%        0.026237      0.000000  ...      0.251035      0.250138\n",
              "50%        2.075935      1.000000  ...      0.499955      0.500853\n",
              "75%        4.140186      1.000000  ...      0.748775      0.745164\n",
              "max       13.895502      1.000000  ...      0.999906      0.999982\n",
              "\n",
              "[8 rows x 12 columns]"
            ]
          },
          "metadata": {
            "tags": []
          },
          "execution_count": 200
        }
      ]
    },
    {
      "cell_type": "markdown",
      "metadata": {
        "id": "VTLQl6cb0niL"
      },
      "source": [
        "Разбиваем выборку на контрольную(тестовую W=0) и целевую(W=1) группу."
      ]
    },
    {
      "cell_type": "code",
      "metadata": {
        "colab": {
          "base_uri": "https://localhost:8080/"
        },
        "id": "wXsDxRfmTI3E",
        "outputId": "a88bba7d-7710-4a8e-e76c-f46cfa55ec22"
      },
      "source": [
        "test_group_1 = df_1[df_1['W'] == 0.0]\n",
        "target_group_1 = df_1[df_1['W'] == 1.0]\n",
        "print(test_group_1.head(5))\n",
        "print(target_group_1.head(5))"
      ],
      "execution_count": 201,
      "outputs": [
        {
          "output_type": "stream",
          "text": [
            "           y    W       X_1       X_2  ...       X_7       X_8       X_9      X_10\n",
            "0  -1.459404  0.0  0.986277  0.873392  ...  0.276477  0.343316  0.862159  0.156700\n",
            "1  -1.694174  0.0  0.140887  0.757080  ...  0.217101  0.561427  0.124179  0.319736\n",
            "2   5.378374  0.0  0.953214  0.137357  ...  0.034191  0.456119  0.155851  0.476049\n",
            "8   7.043034  0.0  0.576548  0.177279  ...  0.871687  0.902407  0.449204  0.618182\n",
            "11 -0.507666  0.0  0.040952  0.898553  ...  0.853931  0.609019  0.452414  0.296660\n",
            "\n",
            "[5 rows x 12 columns]\n",
            "          y    W       X_1       X_2  ...       X_7       X_8       X_9      X_10\n",
            "3  2.188189  1.0  0.169702  0.896258  ...  0.583462  0.668350  0.177793  0.849248\n",
            "4  2.862696  1.0  0.442373  0.831468  ...  0.636894  0.555696  0.191929  0.425656\n",
            "5  3.051907  1.0  0.513420  0.269378  ...  0.564320  0.936032  0.803028  0.697305\n",
            "6  3.094696  1.0  0.461384  0.662435  ...  0.894283  0.831532  0.737843  0.898497\n",
            "7  0.530055  1.0  0.230734  0.179961  ...  0.952552  0.816207  0.077862  0.134613\n",
            "\n",
            "[5 rows x 12 columns]\n"
          ],
          "name": "stdout"
        }
      ]
    },
    {
      "cell_type": "code",
      "metadata": {
        "colab": {
          "base_uri": "https://localhost:8080/"
        },
        "id": "tvdPguao0A4K",
        "outputId": "c86c6c3d-8c73-4c4d-f24e-9394fc642fae"
      },
      "source": [
        "print('Размер контрольной группы:', test_group_1.size)\n",
        "print('Размер целевой группы:', target_group_1.size)"
      ],
      "execution_count": 202,
      "outputs": [
        {
          "output_type": "stream",
          "text": [
            "Размер контрольной группы: 114648\n",
            "Размер целевой группы: 125352\n"
          ],
          "name": "stdout"
        }
      ]
    },
    {
      "cell_type": "markdown",
      "metadata": {
        "id": "A7jWGI6eAuPa"
      },
      "source": [
        "Размеры групп выбраны так, чтобы MDE было оптимальным(приблизительно равное количество наблюдений в обеих группах)."
      ]
    },
    {
      "cell_type": "code",
      "metadata": {
        "id": "2dxlvMT3BB0q"
      },
      "source": [
        "def plot_variables_hists(test_group, target_group):\n",
        "  for column_name in test_group.columns:\n",
        "    if not column_name.startswith('X_'):\n",
        "      continue\n",
        "    plt.hist(test_group[column_name], alpha=0.5)\n",
        "    plt.hist(target_group[column_name], alpha=0.5)\n",
        "    plt.show()"
      ],
      "execution_count": 203,
      "outputs": []
    },
    {
      "cell_type": "code",
      "metadata": {
        "colab": {
          "base_uri": "https://localhost:8080/",
          "height": 1000
        },
        "id": "LF-7WVy92RhV",
        "outputId": "419861d9-731c-474d-e230-af23e18ef367"
      },
      "source": [
        "plot_variables_hists(test_group_1, target_group_1)"
      ],
      "execution_count": 204,
      "outputs": [
        {
          "output_type": "display_data",
          "data": {
            "image/png": "[encoded data removed]",
            "text/plain": [
              "<Figure size 432x288 with 1 Axes>"
            ]
          },
          "metadata": {
            "tags": []
          }
        },
        {
          "output_type": "display_data",
          "data": {
            "image/png": "[encoded data removed]",
            "text/plain": [
              "<Figure size 432x288 with 1 Axes>"
            ]
          },
          "metadata": {
            "tags": []
          }
        },
        {
          "output_type": "display_data",
          "data": {
            "image/png": "[encoded data removed]",
            "text/plain": [
              "<Figure size 432x288 with 1 Axes>"
            ]
          },
          "metadata": {
            "tags": []
          }
        },
        {
          "output_type": "display_data",
          "data": {
            "image/png": "[encoded data removed]",
            "text/plain": [
              "<Figure size 432x288 with 1 Axes>"
            ]
          },
          "metadata": {
            "tags": []
          }
        },
        {
          "output_type": "display_data",
          "data": {
            "image/png": "[encoded data removed]",
            "text/plain": [
              "<Figure size 432x288 with 1 Axes>"
            ]
          },
          "metadata": {
            "tags": []
          }
        },
        {
          "output_type": "display_data",
          "data": {
            "image/png": "[encoded data removed]",
            "text/plain": [
              "<Figure size 432x288 with 1 Axes>"
            ]
          },
          "metadata": {
            "tags": []
          }
        },
        {
          "output_type": "display_data",
          "data": {
            "image/png": "[encoded data removed]",
            "text/plain": [
              "<Figure size 432x288 with 1 Axes>"
            ]
          },
          "metadata": {
            "tags": []
          }
        },
        {
          "output_type": "display_data",
          "data": {
            "image/png": "[encoded data removed]",
            "text/plain": [
              "<Figure size 432x288 with 1 Axes>"
            ]
          },
          "metadata": {
            "tags": []
          }
        },
        {
          "output_type": "display_data",
          "data": {
            "image/png": "[encoded data removed]",
            "text/plain": [
              "<Figure size 432x288 with 1 Axes>"
            ]
          },
          "metadata": {
            "tags": []
          }
        },
        {
          "output_type": "display_data",
          "data": {
            "image/png": "[encoded data removed]",
            "text/plain": [
              "<Figure size 432x288 with 1 Axes>"
            ]
          },
          "metadata": {
            "tags": []
          }
        }
      ]
    },
    {
      "cell_type": "markdown",
      "metadata": {
        "id": "-dLu3XwDCud2"
      },
      "source": [
        "Для признаков Х_1 и Х_2 распределения получились неравномерные.Есть вероятность того, что эксперемент не является чисто рандомизированным. Однако для дальнейшего оценивания ATE будем предполагать, что данные хорошо рандомизированны."
      ]
    },
    {
      "cell_type": "markdown",
      "metadata": {
        "id": "vLl6kzSa49Ag"
      },
      "source": [
        "Теперь необходимо проверить гипотезу о равенстве средних в контрольной и целевой группах. Для проверки данной гипотезы можно воспользоваться Z-критерием или t-критерием. \n",
        "Для начала рассмотрим Z-критерий. Для применения данного критерия необходимо, чтобы исходные данные имели нормальное распределение и была известна дисперсия генеральной совокупности. Дисперсия в нашем случае известна. Для проверки на нормальность распределения воспользуемся критерием Шапиро-УилкаШапиро-Уилка."
      ]
    },
    {
      "cell_type": "code",
      "metadata": {
        "id": "n0GkTqhA3qJU"
      },
      "source": [
        "def is_norm_rasp(vect):\n",
        "  _, res = stats.shapiro(vect)\n",
        "  print('p-value', res)\n",
        "  if res < 0.05:\n",
        "    print('Распределение не явлется нормальным')\n",
        "  else:\n",
        "    print(\"Распределение нормальное\")\n",
        "  plt.hist(vect, bins=50)\n",
        "  plt.show()"
      ],
      "execution_count": 36,
      "outputs": []
    },
    {
      "cell_type": "code",
      "metadata": {
        "colab": {
          "base_uri": "https://localhost:8080/",
          "height": 332
        },
        "id": "5REcwh-64GTM",
        "outputId": "36df4486-e5ce-467f-a8f7-d777826cefd1"
      },
      "source": [
        "is_norm_rasp(test_group_1['y'])"
      ],
      "execution_count": 37,
      "outputs": [
        {
          "output_type": "stream",
          "text": [
            "/usr/local/lib/python3.6/dist-packages/scipy/stats/morestats.py:1676: UserWarning: p-value may not be accurate for N > 5000.\n",
            "  warnings.warn(\"p-value may not be accurate for N > 5000.\")\n"
          ],
          "name": "stderr"
        },
        {
          "output_type": "stream",
          "text": [
            "p-value 0.837329626083374\n",
            "Распределение нормальное\n"
          ],
          "name": "stdout"
        },
        {
          "output_type": "display_data",
          "data": {
            "image/png": "[encoded data removed]",
            "text/plain": [
              "<Figure size 432x288 with 1 Axes>"
            ]
          },
          "metadata": {
            "tags": [],
            "needs_background": "light"
          }
        }
      ]
    },
    {
      "cell_type": "code",
      "metadata": {
        "colab": {
          "base_uri": "https://localhost:8080/",
          "height": 332
        },
        "id": "M3TX8Wkk6m46",
        "outputId": "254c4104-a663-4686-ac11-7c7da4ca0344"
      },
      "source": [
        "is_norm_rasp(target_group_1['y'])"
      ],
      "execution_count": 38,
      "outputs": [
        {
          "output_type": "stream",
          "text": [
            "/usr/local/lib/python3.6/dist-packages/scipy/stats/morestats.py:1676: UserWarning: p-value may not be accurate for N > 5000.\n",
            "  warnings.warn(\"p-value may not be accurate for N > 5000.\")\n"
          ],
          "name": "stderr"
        },
        {
          "output_type": "stream",
          "text": [
            "p-value 0.8599085807800293\n",
            "Распределение нормальное\n"
          ],
          "name": "stdout"
        },
        {
          "output_type": "display_data",
          "data": {
            "image/png": "[encoded data removed]",
            "text/plain": [
              "<Figure size 432x288 with 1 Axes>"
            ]
          },
          "metadata": {
            "tags": [],
            "needs_background": "light"
          }
        }
      ]
    },
    {
      "cell_type": "markdown",
      "metadata": {
        "id": "1D5fUIWMbaOo"
      },
      "source": [
        "Тест показал, что оба распределения нормальные. Проверим статестическую гипотезу о равенстве средних с помощью Z-критерия."
      ]
    },
    {
      "cell_type": "code",
      "metadata": {
        "id": "r56YBYOu7hN1"
      },
      "source": [
        "def two_histograms(x, y):\n",
        "    \"\"\"\n",
        "    Функция, которая построит две гистограммы на одной картинке.\n",
        "    Дополнительно пунктирными линиями указываются средние значения выборок.\n",
        "    x: вектор pd.Series,\n",
        "    y: вектор pd.Series\n",
        "    \"\"\"\n",
        "    x.hist(alpha=0.5, weights=[1./len(x)]*len(x))\n",
        "    y.hist(alpha=0.5, weights=[1./len(y)]*len(y))\n",
        "    plt.axvline(x.mean(), color='red', alpha=0.8, linestyle='dashed')\n",
        "    plt.axvline(y.mean(), color='blue', alpha=0.8, linestyle='dashed')\n",
        "    plt.legend([x.name, y.name])"
      ],
      "execution_count": 27,
      "outputs": []
    },
    {
      "cell_type": "code",
      "metadata": {
        "id": "I3FP3UKoVLQu"
      },
      "source": [
        "def z_crit(vect1, vect2):\n",
        "  _, pval = ztest(vect1, vect2)\n",
        "\n",
        "  print('p-value', pval)\n",
        "  if pval < 0.05:\n",
        "    print('Средние не равны')\n",
        "  else:\n",
        "    print(\"Средние равны\")\n",
        "  two_histograms(vect1, vect2)"
      ],
      "execution_count": 34,
      "outputs": []
    },
    {
      "cell_type": "code",
      "metadata": {
        "colab": {
          "base_uri": "https://localhost:8080/",
          "height": 301
        },
        "id": "qdqGraP771O0",
        "outputId": "d5215495-6749-433b-fbd5-c5001fa2b0a1"
      },
      "source": [
        "z_crit(target_group_1['y'], test_group_1['y'])"
      ],
      "execution_count": 35,
      "outputs": [
        {
          "output_type": "stream",
          "text": [
            "p-value 1.0349941796938945e-20\n",
            "Средние не равны\n"
          ],
          "name": "stdout"
        },
        {
          "output_type": "display_data",
          "data": {
            "image/png": "[encoded data removed]",
            "text/plain": [
              "<Figure size 432x288 with 1 Axes>"
            ]
          },
          "metadata": {
            "tags": [],
            "needs_background": "light"
          }
        }
      ]
    },
    {
      "cell_type": "markdown",
      "metadata": {
        "id": "ijqtaG6-b4TW"
      },
      "source": [
        "В результате получаем, что нулевая гипотеза отвернута, т.е. среднии двух выборок не равны."
      ]
    },
    {
      "cell_type": "markdown",
      "metadata": {
        "id": "9fH_aoBlcDYK"
      },
      "source": [
        "Попробуем выполнить ту же самую проверку с помощью T-критерия. Для применения данного критерия необходимо, чтобы исходные данные имели нормальное распределение. В случае применения двухвыборочного критерия для независимых выборок также необходимо соблюдение условия равенства дисперсий. Существуют, однако, альтернативы критерию Стьюдента для ситуации с неравными дисперсиями.\n",
        "\n",
        "Нормальность распределений мы уже установили.\n",
        "Проверим c помощью критерия Флигнера-Килина, равны ли дисперсии."
      ]
    },
    {
      "cell_type": "code",
      "metadata": {
        "id": "QxB1QF-nat83"
      },
      "source": [
        "def is_disps_equals(vect1, vect2):\n",
        "  _, pval = stats.fligner(vect1, vect2)\n",
        "\n",
        "  print('p-value', pval)\n",
        "  if pval < 0.05:\n",
        "    print('Дисперсии не равны')\n",
        "  else:\n",
        "    print(\"Дисперсии равны\")"
      ],
      "execution_count": 39,
      "outputs": []
    },
    {
      "cell_type": "code",
      "metadata": {
        "colab": {
          "base_uri": "https://localhost:8080/"
        },
        "id": "oMnURoDF-tzS",
        "outputId": "0516b8dd-c2f2-4271-992c-2d77f0d7f993"
      },
      "source": [
        "is_disps_equals(target_group_1['y'], test_group_1['y'])"
      ],
      "execution_count": 40,
      "outputs": [
        {
          "output_type": "stream",
          "text": [
            "p-value 0.8780501201261598\n",
            "Дисперсии равны\n"
          ],
          "name": "stdout"
        }
      ]
    },
    {
      "cell_type": "markdown",
      "metadata": {
        "id": "0Qh1_lsLc7p3"
      },
      "source": [
        "Данный тест показал, что дисперсии равны. Теперь можно применять t-критерий."
      ]
    },
    {
      "cell_type": "code",
      "metadata": {
        "id": "uhGXnLjqZ_Wl"
      },
      "source": [
        "def t_crit(vect1, vect2, eq_var=False):\n",
        "  _, pval = stats.ttest_ind(vect1, vect2, equal_var = eq_var)\n",
        "\n",
        "  print('p-value', pval)\n",
        "  if pval < 0.05:\n",
        "    print('Средние не равны')\n",
        "  else:\n",
        "    print(\"Средние равны\")\n",
        "  two_histograms(vect1, vect2)"
      ],
      "execution_count": 90,
      "outputs": []
    },
    {
      "cell_type": "code",
      "metadata": {
        "colab": {
          "base_uri": "https://localhost:8080/",
          "height": 301
        },
        "id": "EUfS5_Hi_qjm",
        "outputId": "2291d1f4-8594-4ed9-ffd1-2686f5f28962"
      },
      "source": [
        "t_crit(target_group_1['y'], test_group_1['y'], True)"
      ],
      "execution_count": 91,
      "outputs": [
        {
          "output_type": "stream",
          "text": [
            "p-value 1.1400916649505329e-20\n",
            "Средние не равны\n"
          ],
          "name": "stdout"
        },
        {
          "output_type": "display_data",
          "data": {
            "image/png": "[encoded data removed]",
            "text/plain": [
              "<Figure size 432x288 with 1 Axes>"
            ]
          },
          "metadata": {
            "tags": [],
            "needs_background": "light"
          }
        }
      ]
    },
    {
      "cell_type": "markdown",
      "metadata": {
        "id": "D51YQ04Tc61V"
      },
      "source": [
        "Данный тест также показал, что среднии двух выборок не равны."
      ]
    },
    {
      "cell_type": "markdown",
      "metadata": {
        "id": "TaZ0xOauBHF9"
      },
      "source": [
        "Каков treatment effect нашего воздействия? (ATE)\n",
        "Примените известные вам методы оценки ATE с учетом особенностей данных\n",
        "Далее нам необходимо оценить treatment effect нашего воздействия. Однако, наши данные имеют такую особенность(известны только результаты после проведения A/B теста), что сделать это становится проблематично, так как в большинстве методов для оценки воздействия требуется знать данные до воздействия.Единственный метод, который можно использовать в данной ситуации -- это модификация метода ANCOVA, где вместо изначальных данных y_0 используются признаки объекта Х. \n",
        "\n",
        "Проведем оценку ATE."
      ]
    },
    {
      "cell_type": "code",
      "metadata": {
        "id": "h1OKlZZye2by"
      },
      "source": [
        "def ancova(x, y):\n",
        "  x['ones'] = 1.0\n",
        "\n",
        "  model = sm.OLS(y, x)\n",
        "  results = model.fit()\n",
        "\n",
        "  print('treatment effect', results.params[0])\n"
      ],
      "execution_count": 74,
      "outputs": []
    },
    {
      "cell_type": "code",
      "metadata": {
        "colab": {
          "base_uri": "https://localhost:8080/"
        },
        "id": "aEMSIOzZE81o",
        "outputId": "4d2f7723-cb1f-4e53-b72f-6ef4eaf2e528"
      },
      "source": [
        "x = df_1.drop(columns=['y'], axis=1)\n",
        "y = df_1['y']\n",
        "\n",
        "ancova(x, y)"
      ],
      "execution_count": 75,
      "outputs": [
        {
          "output_type": "stream",
          "text": [
            "treatment effect 0.5133854882565578\n"
          ],
          "name": "stdout"
        }
      ]
    },
    {
      "cell_type": "markdown",
      "metadata": {
        "id": "AmDyvqlL1L4m"
      },
      "source": [
        "То есть в среднем среднее значение после воздействия увеличилось на 0.5."
      ]
    },
    {
      "cell_type": "markdown",
      "metadata": {
        "id": "7Baucr79NlM1"
      },
      "source": [
        "### 2. Оценка результатов AB теста с показателями до начала эксперимента"
      ]
    },
    {
      "cell_type": "markdown",
      "metadata": {
        "id": "3RkAMZD3NlM1"
      },
      "source": [
        "Необходимо как и ранее оценить результаты AB теста, а именно ATE. Вы располагаете результатами до и после проведения теста (y_0 и y_1), а также вам дан treatment assignment (W). \n",
        "\n",
        "Необходимо: \n",
        "1. Проверить все требуемые гипотезы\n",
        "2. Оценить ATE подходящим для этого случая методом (примените несколько методов)\n",
        "3. Сравнить и проанализировать результаты оценок\n",
        "4. Явно выписать выводы.\n",
        "\n",
        "Как и прежде, все предположения должны быть указаны. Визуализация результатов приветствуется.\n",
        "\n",
        "dataset_part2_students.csv"
      ]
    },
    {
      "cell_type": "code",
      "metadata": {
        "colab": {
          "base_uri": "https://localhost:8080/",
          "height": 249
        },
        "id": "09YiP8guwpsP",
        "outputId": "69d77310-415e-4fe4-a26f-a1fb8487e5b8"
      },
      "source": [
        "df_2 = pd.read_csv('dataset_part2_students.csv', sep=\"\\\\t\")\n",
        "df_2.head(5)"
      ],
      "execution_count": 120,
      "outputs": [
        {
          "output_type": "stream",
          "text": [
            "/usr/local/lib/python3.6/dist-packages/ipykernel_launcher.py:1: ParserWarning: Falling back to the 'python' engine because the 'c' engine does not support regex separators (separators > 1 char and different from '\\s+' are interpreted as regex); you can avoid this warning by specifying engine='python'.\n",
            "  \"\"\"Entry point for launching an IPython kernel.\n"
          ],
          "name": "stderr"
        },
        {
          "output_type": "execute_result",
          "data": {
            "text/html": [
              "<div>\n",
              "<style scoped>\n",
              "    .dataframe tbody tr th:only-of-type {\n",
              "        vertical-align: middle;\n",
              "    }\n",
              "\n",
              "    .dataframe tbody tr th {\n",
              "        vertical-align: top;\n",
              "    }\n",
              "\n",
              "    .dataframe thead th {\n",
              "        text-align: right;\n",
              "    }\n",
              "</style>\n",
              "<table border=\"1\" class=\"dataframe\">\n",
              "  <thead>\n",
              "    <tr style=\"text-align: right;\">\n",
              "      <th></th>\n",
              "      <th>y_1</th>\n",
              "      <th>y_0</th>\n",
              "      <th>W</th>\n",
              "      <th>X_1</th>\n",
              "      <th>X_2</th>\n",
              "      <th>X_3</th>\n",
              "      <th>X_4</th>\n",
              "      <th>X_5</th>\n",
              "      <th>X_6</th>\n",
              "      <th>X_7</th>\n",
              "      <th>X_8</th>\n",
              "      <th>X_9</th>\n",
              "      <th>X_10</th>\n",
              "    </tr>\n",
              "  </thead>\n",
              "  <tbody>\n",
              "    <tr>\n",
              "      <th>0</th>\n",
              "      <td>5.887156</td>\n",
              "      <td>2.785060</td>\n",
              "      <td>1.0</td>\n",
              "      <td>0.605978</td>\n",
              "      <td>0.733369</td>\n",
              "      <td>0.138947</td>\n",
              "      <td>0.312673</td>\n",
              "      <td>0.997243</td>\n",
              "      <td>0.128162</td>\n",
              "      <td>0.178993</td>\n",
              "      <td>0.752925</td>\n",
              "      <td>0.662161</td>\n",
              "      <td>0.784310</td>\n",
              "    </tr>\n",
              "    <tr>\n",
              "      <th>1</th>\n",
              "      <td>2.232601</td>\n",
              "      <td>5.533515</td>\n",
              "      <td>0.0</td>\n",
              "      <td>0.096894</td>\n",
              "      <td>0.058571</td>\n",
              "      <td>0.962396</td>\n",
              "      <td>0.616557</td>\n",
              "      <td>0.086630</td>\n",
              "      <td>0.561272</td>\n",
              "      <td>0.616525</td>\n",
              "      <td>0.963843</td>\n",
              "      <td>0.574304</td>\n",
              "      <td>0.371161</td>\n",
              "    </tr>\n",
              "    <tr>\n",
              "      <th>2</th>\n",
              "      <td>0.144419</td>\n",
              "      <td>0.095546</td>\n",
              "      <td>1.0</td>\n",
              "      <td>0.452145</td>\n",
              "      <td>0.201850</td>\n",
              "      <td>0.569305</td>\n",
              "      <td>0.195096</td>\n",
              "      <td>0.583704</td>\n",
              "      <td>0.476313</td>\n",
              "      <td>0.517814</td>\n",
              "      <td>0.823099</td>\n",
              "      <td>0.732225</td>\n",
              "      <td>0.069056</td>\n",
              "    </tr>\n",
              "    <tr>\n",
              "      <th>3</th>\n",
              "      <td>-2.446425</td>\n",
              "      <td>3.590472</td>\n",
              "      <td>1.0</td>\n",
              "      <td>0.672129</td>\n",
              "      <td>0.643485</td>\n",
              "      <td>0.828014</td>\n",
              "      <td>0.204469</td>\n",
              "      <td>0.617489</td>\n",
              "      <td>0.617701</td>\n",
              "      <td>0.301069</td>\n",
              "      <td>0.871741</td>\n",
              "      <td>0.589654</td>\n",
              "      <td>0.981770</td>\n",
              "    </tr>\n",
              "    <tr>\n",
              "      <th>4</th>\n",
              "      <td>2.163090</td>\n",
              "      <td>1.365405</td>\n",
              "      <td>0.0</td>\n",
              "      <td>0.442232</td>\n",
              "      <td>0.126318</td>\n",
              "      <td>0.508831</td>\n",
              "      <td>0.431786</td>\n",
              "      <td>0.915940</td>\n",
              "      <td>0.709016</td>\n",
              "      <td>0.890655</td>\n",
              "      <td>0.588886</td>\n",
              "      <td>0.636830</td>\n",
              "      <td>0.342209</td>\n",
              "    </tr>\n",
              "  </tbody>\n",
              "</table>\n",
              "</div>"
            ],
            "text/plain": [
              "        y_1       y_0    W       X_1  ...       X_7       X_8       X_9      X_10\n",
              "0  5.887156  2.785060  1.0  0.605978  ...  0.178993  0.752925  0.662161  0.784310\n",
              "1  2.232601  5.533515  0.0  0.096894  ...  0.616525  0.963843  0.574304  0.371161\n",
              "2  0.144419  0.095546  1.0  0.452145  ...  0.517814  0.823099  0.732225  0.069056\n",
              "3 -2.446425  3.590472  1.0  0.672129  ...  0.301069  0.871741  0.589654  0.981770\n",
              "4  2.163090  1.365405  0.0  0.442232  ...  0.890655  0.588886  0.636830  0.342209\n",
              "\n",
              "[5 rows x 13 columns]"
            ]
          },
          "metadata": {
            "tags": []
          },
          "execution_count": 120
        }
      ]
    },
    {
      "cell_type": "code",
      "metadata": {
        "colab": {
          "base_uri": "https://localhost:8080/",
          "height": 304
        },
        "id": "MqLc79BlwzHN",
        "outputId": "281c7511-f29b-4861-dc9a-61adcd0ae8bf"
      },
      "source": [
        "df_2.describe()"
      ],
      "execution_count": 80,
      "outputs": [
        {
          "output_type": "execute_result",
          "data": {
            "text/html": [
              "<div>\n",
              "<style scoped>\n",
              "    .dataframe tbody tr th:only-of-type {\n",
              "        vertical-align: middle;\n",
              "    }\n",
              "\n",
              "    .dataframe tbody tr th {\n",
              "        vertical-align: top;\n",
              "    }\n",
              "\n",
              "    .dataframe thead th {\n",
              "        text-align: right;\n",
              "    }\n",
              "</style>\n",
              "<table border=\"1\" class=\"dataframe\">\n",
              "  <thead>\n",
              "    <tr style=\"text-align: right;\">\n",
              "      <th></th>\n",
              "      <th>y_1</th>\n",
              "      <th>y_0</th>\n",
              "      <th>W</th>\n",
              "      <th>X_1</th>\n",
              "      <th>X_2</th>\n",
              "      <th>X_3</th>\n",
              "      <th>X_4</th>\n",
              "      <th>X_5</th>\n",
              "      <th>X_6</th>\n",
              "      <th>X_7</th>\n",
              "      <th>X_8</th>\n",
              "      <th>X_9</th>\n",
              "      <th>X_10</th>\n",
              "    </tr>\n",
              "  </thead>\n",
              "  <tbody>\n",
              "    <tr>\n",
              "      <th>count</th>\n",
              "      <td>10000.000000</td>\n",
              "      <td>10000.000000</td>\n",
              "      <td>10000.000000</td>\n",
              "      <td>10000.000000</td>\n",
              "      <td>10000.000000</td>\n",
              "      <td>10000.000000</td>\n",
              "      <td>10000.000000</td>\n",
              "      <td>10000.000000</td>\n",
              "      <td>10000.000000</td>\n",
              "      <td>10000.000000</td>\n",
              "      <td>10000.000000</td>\n",
              "      <td>10000.000000</td>\n",
              "      <td>10000.000000</td>\n",
              "    </tr>\n",
              "    <tr>\n",
              "      <th>mean</th>\n",
              "      <td>2.104517</td>\n",
              "      <td>0.751393</td>\n",
              "      <td>0.524000</td>\n",
              "      <td>0.494608</td>\n",
              "      <td>0.503882</td>\n",
              "      <td>0.498649</td>\n",
              "      <td>0.500041</td>\n",
              "      <td>0.499651</td>\n",
              "      <td>0.496875</td>\n",
              "      <td>0.502681</td>\n",
              "      <td>0.500391</td>\n",
              "      <td>0.502482</td>\n",
              "      <td>0.498343</td>\n",
              "    </tr>\n",
              "    <tr>\n",
              "      <th>std</th>\n",
              "      <td>2.075276</td>\n",
              "      <td>2.292416</td>\n",
              "      <td>0.499449</td>\n",
              "      <td>0.287804</td>\n",
              "      <td>0.287356</td>\n",
              "      <td>0.290250</td>\n",
              "      <td>0.289479</td>\n",
              "      <td>0.289714</td>\n",
              "      <td>0.288792</td>\n",
              "      <td>0.289304</td>\n",
              "      <td>0.289625</td>\n",
              "      <td>0.286766</td>\n",
              "      <td>0.287541</td>\n",
              "    </tr>\n",
              "    <tr>\n",
              "      <th>min</th>\n",
              "      <td>-5.772625</td>\n",
              "      <td>-7.895281</td>\n",
              "      <td>0.000000</td>\n",
              "      <td>0.000103</td>\n",
              "      <td>0.000027</td>\n",
              "      <td>0.000052</td>\n",
              "      <td>0.000086</td>\n",
              "      <td>0.000049</td>\n",
              "      <td>0.000002</td>\n",
              "      <td>0.000092</td>\n",
              "      <td>0.000053</td>\n",
              "      <td>0.000286</td>\n",
              "      <td>0.000036</td>\n",
              "    </tr>\n",
              "    <tr>\n",
              "      <th>25%</th>\n",
              "      <td>0.720403</td>\n",
              "      <td>-0.778216</td>\n",
              "      <td>0.000000</td>\n",
              "      <td>0.245372</td>\n",
              "      <td>0.255875</td>\n",
              "      <td>0.248544</td>\n",
              "      <td>0.248120</td>\n",
              "      <td>0.245991</td>\n",
              "      <td>0.243503</td>\n",
              "      <td>0.252856</td>\n",
              "      <td>0.249906</td>\n",
              "      <td>0.256388</td>\n",
              "      <td>0.251672</td>\n",
              "    </tr>\n",
              "    <tr>\n",
              "      <th>50%</th>\n",
              "      <td>2.088402</td>\n",
              "      <td>0.745162</td>\n",
              "      <td>1.000000</td>\n",
              "      <td>0.490941</td>\n",
              "      <td>0.504934</td>\n",
              "      <td>0.492483</td>\n",
              "      <td>0.498955</td>\n",
              "      <td>0.496116</td>\n",
              "      <td>0.497895</td>\n",
              "      <td>0.501308</td>\n",
              "      <td>0.497964</td>\n",
              "      <td>0.504018</td>\n",
              "      <td>0.492807</td>\n",
              "    </tr>\n",
              "    <tr>\n",
              "      <th>75%</th>\n",
              "      <td>3.482478</td>\n",
              "      <td>2.343497</td>\n",
              "      <td>1.000000</td>\n",
              "      <td>0.743003</td>\n",
              "      <td>0.750596</td>\n",
              "      <td>0.751100</td>\n",
              "      <td>0.753792</td>\n",
              "      <td>0.753868</td>\n",
              "      <td>0.743828</td>\n",
              "      <td>0.752798</td>\n",
              "      <td>0.753477</td>\n",
              "      <td>0.749514</td>\n",
              "      <td>0.749355</td>\n",
              "    </tr>\n",
              "    <tr>\n",
              "      <th>max</th>\n",
              "      <td>10.488659</td>\n",
              "      <td>9.988961</td>\n",
              "      <td>1.000000</td>\n",
              "      <td>0.999685</td>\n",
              "      <td>0.999707</td>\n",
              "      <td>0.999982</td>\n",
              "      <td>0.999913</td>\n",
              "      <td>0.999935</td>\n",
              "      <td>0.999989</td>\n",
              "      <td>0.999964</td>\n",
              "      <td>0.999944</td>\n",
              "      <td>0.999981</td>\n",
              "      <td>0.999915</td>\n",
              "    </tr>\n",
              "  </tbody>\n",
              "</table>\n",
              "</div>"
            ],
            "text/plain": [
              "                y_1           y_0  ...           X_9          X_10\n",
              "count  10000.000000  10000.000000  ...  10000.000000  10000.000000\n",
              "mean       2.104517      0.751393  ...      0.502482      0.498343\n",
              "std        2.075276      2.292416  ...      0.286766      0.287541\n",
              "min       -5.772625     -7.895281  ...      0.000286      0.000036\n",
              "25%        0.720403     -0.778216  ...      0.256388      0.251672\n",
              "50%        2.088402      0.745162  ...      0.504018      0.492807\n",
              "75%        3.482478      2.343497  ...      0.749514      0.749355\n",
              "max       10.488659      9.988961  ...      0.999981      0.999915\n",
              "\n",
              "[8 rows x 13 columns]"
            ]
          },
          "metadata": {
            "tags": []
          },
          "execution_count": 80
        }
      ]
    },
    {
      "cell_type": "code",
      "metadata": {
        "colab": {
          "base_uri": "https://localhost:8080/"
        },
        "id": "JGYMKGDgxA6d",
        "outputId": "5d46caef-7fd6-4330-df1b-182630fd052f"
      },
      "source": [
        "test_group_2 = df_2[df_2['W'] == 0.0]\n",
        "target_group_2 = df_2[df_2['W'] == 1.0]\n",
        "print(test_group_2.head(5))\n",
        "print(target_group_2.head(5))\n"
      ],
      "execution_count": 121,
      "outputs": [
        {
          "output_type": "stream",
          "text": [
            "        y_1       y_0    W       X_1  ...       X_7       X_8       X_9      X_10\n",
            "1  2.232601  5.533515  0.0  0.096894  ...  0.616525  0.963843  0.574304  0.371161\n",
            "4  2.163090  1.365405  0.0  0.442232  ...  0.890655  0.588886  0.636830  0.342209\n",
            "5 -1.808257  0.025748  0.0  0.823791  ...  0.154615  0.388699  0.647614  0.848299\n",
            "6  0.614170 -0.808566  0.0  0.063836  ...  0.090867  0.874557  0.776977  0.771566\n",
            "7  3.103859  1.938065  0.0  0.063103  ...  0.678729  0.754377  0.417257  0.320899\n",
            "\n",
            "[5 rows x 13 columns]\n",
            "        y_1       y_0    W       X_1  ...       X_7       X_8       X_9      X_10\n",
            "0  5.887156  2.785060  1.0  0.605978  ...  0.178993  0.752925  0.662161  0.784310\n",
            "2  0.144419  0.095546  1.0  0.452145  ...  0.517814  0.823099  0.732225  0.069056\n",
            "3 -2.446425  3.590472  1.0  0.672129  ...  0.301069  0.871741  0.589654  0.981770\n",
            "8  3.592016  3.985938  1.0  0.372296  ...  0.330489  0.966714  0.825899  0.305400\n",
            "9  0.033735  2.688234  1.0  0.823278  ...  0.648545  0.343327  0.622637  0.464600\n",
            "\n",
            "[5 rows x 13 columns]\n"
          ],
          "name": "stdout"
        }
      ]
    },
    {
      "cell_type": "code",
      "metadata": {
        "colab": {
          "base_uri": "https://localhost:8080/"
        },
        "id": "AX9qBwnXDaRt",
        "outputId": "ea63168f-404c-4538-a67d-576836754753"
      },
      "source": [
        "print(test_group_2.size)\n",
        "print(target_group_2.size)"
      ],
      "execution_count": 82,
      "outputs": [
        {
          "output_type": "stream",
          "text": [
            "61880\n",
            "68120\n"
          ],
          "name": "stdout"
        }
      ]
    },
    {
      "cell_type": "markdown",
      "metadata": {
        "id": "YD3A2BISHUcy"
      },
      "source": [
        "Выборка разделена на две группы практически пополам, значит MDE оптимальный."
      ]
    },
    {
      "cell_type": "code",
      "metadata": {
        "colab": {
          "base_uri": "https://localhost:8080/",
          "height": 1000
        },
        "id": "yrLWNMs6DWsV",
        "outputId": "77e73b61-55bb-4562-dd21-29efb0c51a5c"
      },
      "source": [
        "plot_variables_hists(test_group_2, target_group_2)"
      ],
      "execution_count": 88,
      "outputs": [
        {
          "output_type": "display_data",
          "data": {
            "image/png": "[encoded data removed]",
            "text/plain": [
              "<Figure size 432x288 with 1 Axes>"
            ]
          },
          "metadata": {
            "tags": [],
            "needs_background": "light"
          }
        },
        {
          "output_type": "display_data",
          "data": {
            "image/png": "[encoded data removed]",
            "text/plain": [
              "<Figure size 432x288 with 1 Axes>"
            ]
          },
          "metadata": {
            "tags": [],
            "needs_background": "light"
          }
        },
        {
          "output_type": "display_data",
          "data": {
            "image/png": "[encoded data removed]",
            "text/plain": [
              "<Figure size 432x288 with 1 Axes>"
            ]
          },
          "metadata": {
            "tags": [],
            "needs_background": "light"
          }
        },
        {
          "output_type": "display_data",
          "data": {
            "image/png": "[encoded data removed]",
            "text/plain": [
              "<Figure size 432x288 with 1 Axes>"
            ]
          },
          "metadata": {
            "tags": [],
            "needs_background": "light"
          }
        },
        {
          "output_type": "display_data",
          "data": {
            "image/png": "[encoded data removed]",
            "text/plain": [
              "<Figure size 432x288 with 1 Axes>"
            ]
          },
          "metadata": {
            "tags": [],
            "needs_background": "light"
          }
        },
        {
          "output_type": "display_data",
          "data": {
            "image/png": "[encoded data removed]",
            "text/plain": [
              "<Figure size 432x288 with 1 Axes>"
            ]
          },
          "metadata": {
            "tags": [],
            "needs_background": "light"
          }
        },
        {
          "output_type": "display_data",
          "data": {
            "image/png": "[encoded data removed]",
            "text/plain": [
              "<Figure size 432x288 with 1 Axes>"
            ]
          },
          "metadata": {
            "tags": [],
            "needs_background": "light"
          }
        },
        {
          "output_type": "display_data",
          "data": {
            "image/png": "[encoded data removed]",
            "text/plain": [
              "<Figure size 432x288 with 1 Axes>"
            ]
          },
          "metadata": {
            "tags": [],
            "needs_background": "light"
          }
        },
        {
          "output_type": "display_data",
          "data": {
            "image/png": "[encoded data removed]",
            "text/plain": [
              "<Figure size 432x288 with 1 Axes>"
            ]
          },
          "metadata": {
            "tags": [],
            "needs_background": "light"
          }
        },
        {
          "output_type": "display_data",
          "data": {
            "image/png": "[encoded data removed]",
            "text/plain": [
              "<Figure size 432x288 with 1 Axes>"
            ]
          },
          "metadata": {
            "tags": [],
            "needs_background": "light"
          }
        }
      ]
    },
    {
      "cell_type": "markdown",
      "metadata": {
        "id": "gdgdrVsKHnuO"
      },
      "source": [
        "Выборка разбита на две группы неравномерно по признакам Х_1 и Х_2, значит эксперемент не совсем рандомизированный. Однако для дальнейшего оценивания ATE будем предполагать, что данные хорошо рандомизированны."
      ]
    },
    {
      "cell_type": "markdown",
      "metadata": {
        "id": "RK-MVVPjSzcR"
      },
      "source": [
        "У нас имеется две группы наблюдений -- контрольная и целевая. для каждой группы имеются результаты до и после проведения A/B теста. Нам нужно понять, прошел ли тест удачно, для этого необходимо сравнить средние значения после проведения теста. Но для того, чтобы результат сравнения был точным необходимо, чтобы средние были равны до проведения теста.\n",
        "Также можно посмотреть равны ли средние по приросту результата(y_1 - y_0)\n"
      ]
    },
    {
      "cell_type": "markdown",
      "metadata": {
        "id": "ds9_sSn_17ER"
      },
      "source": [
        "Для начала проверим гипотезу о равенстве средних в начальный момент времени. Для этого необходимо проверить нормальность распределения и равенство дисперсий."
      ]
    },
    {
      "cell_type": "code",
      "metadata": {
        "colab": {
          "base_uri": "https://localhost:8080/",
          "height": 298
        },
        "id": "6NqpYlGRUSER",
        "outputId": "b69ba54e-3802-46f4-dd00-b923c6b15cf1"
      },
      "source": [
        "is_norm_rasp(test_group_2['y_0'])"
      ],
      "execution_count": 85,
      "outputs": [
        {
          "output_type": "stream",
          "text": [
            "p-value 0.5011960864067078\n",
            "Распределение нормальное\n"
          ],
          "name": "stdout"
        },
        {
          "output_type": "display_data",
          "data": {
            "image/png": "[encoded data removed]",
            "text/plain": [
              "<Figure size 432x288 with 1 Axes>"
            ]
          },
          "metadata": {
            "tags": [],
            "needs_background": "light"
          }
        }
      ]
    },
    {
      "cell_type": "code",
      "metadata": {
        "colab": {
          "base_uri": "https://localhost:8080/",
          "height": 332
        },
        "id": "MoBQgchJUYZP",
        "outputId": "826bfa90-689c-4954-e2a9-29f7b5e88a20"
      },
      "source": [
        "is_norm_rasp(target_group_2['y_0'])"
      ],
      "execution_count": 86,
      "outputs": [
        {
          "output_type": "stream",
          "text": [
            "/usr/local/lib/python3.6/dist-packages/scipy/stats/morestats.py:1676: UserWarning: p-value may not be accurate for N > 5000.\n",
            "  warnings.warn(\"p-value may not be accurate for N > 5000.\")\n"
          ],
          "name": "stderr"
        },
        {
          "output_type": "stream",
          "text": [
            "p-value 0.7005389332771301\n",
            "Распределение нормальное\n"
          ],
          "name": "stdout"
        },
        {
          "output_type": "display_data",
          "data": {
            "image/png": "[encoded data removed]",
            "text/plain": [
              "<Figure size 432x288 with 1 Axes>"
            ]
          },
          "metadata": {
            "tags": [],
            "needs_background": "light"
          }
        }
      ]
    },
    {
      "cell_type": "markdown",
      "metadata": {
        "id": "pTMph0yv3ApY"
      },
      "source": [
        "Тесты показали, что оба распределения нормальные."
      ]
    },
    {
      "cell_type": "code",
      "metadata": {
        "colab": {
          "base_uri": "https://localhost:8080/"
        },
        "id": "Dp-lhAY2U8Zm",
        "outputId": "e41e5d84-d94d-4107-8333-8e1abec74188"
      },
      "source": [
        "is_disps_equals(test_group_2['y_0'], target_group_2['y_0'])"
      ],
      "execution_count": 89,
      "outputs": [
        {
          "output_type": "stream",
          "text": [
            "p-value 0.0011111631081886838\n",
            "Дисперсии не равны\n"
          ],
          "name": "stdout"
        }
      ]
    },
    {
      "cell_type": "markdown",
      "metadata": {
        "id": "IA8NArmX3P04"
      },
      "source": [
        "Тест показал, что дисперсии не равны. Теперь проверим равенство средних с помощью t-критерия с параметром для разных дисперсий."
      ]
    },
    {
      "cell_type": "code",
      "metadata": {
        "colab": {
          "base_uri": "https://localhost:8080/",
          "height": 298
        },
        "id": "QUh1DL9cVO1_",
        "outputId": "50b70caa-d7fd-4c5f-b078-3e6a19eb0762"
      },
      "source": [
        "t_crit(test_group_2['y_0'], target_group_2['y_0'])"
      ],
      "execution_count": 92,
      "outputs": [
        {
          "output_type": "stream",
          "text": [
            "p-value 0.0069160683710655525\n",
            "Средние не равны\n"
          ],
          "name": "stdout"
        },
        {
          "output_type": "display_data",
          "data": {
            "image/png": "[encoded data removed]",
            "text/plain": [
              "<Figure size 432x288 with 1 Axes>"
            ]
          },
          "metadata": {
            "tags": [],
            "needs_background": "light"
          }
        }
      ]
    },
    {
      "cell_type": "markdown",
      "metadata": {
        "id": "cLzYC_bGWEQ-"
      },
      "source": [
        "Тест показал, что средние по двум выборкам в начальный момент различны. Значит, нет смысла сравнивать среднии после воздействия, так как тест будет не показательным. Поэтому сравним средние по приросту результата.\n",
        "Но для начала нужно проверить распределения значений y_1 - y_0 для двух выборок и посмотреть, равны ли их дисперсии."
      ]
    },
    {
      "cell_type": "code",
      "metadata": {
        "colab": {
          "base_uri": "https://localhost:8080/",
          "height": 298
        },
        "id": "3dYEN1JPW472",
        "outputId": "c131e7f5-cc88-4aa0-c54c-407dcfff4a90"
      },
      "source": [
        "is_norm_rasp(test_group_2['y_1']-test_group_2['y_0'])"
      ],
      "execution_count": 94,
      "outputs": [
        {
          "output_type": "stream",
          "text": [
            "p-value 0.17446228861808777\n",
            "Распределение нормальное\n"
          ],
          "name": "stdout"
        },
        {
          "output_type": "display_data",
          "data": {
            "image/png": "[encoded data removed]",
            "text/plain": [
              "<Figure size 432x288 with 1 Axes>"
            ]
          },
          "metadata": {
            "tags": [],
            "needs_background": "light"
          }
        }
      ]
    },
    {
      "cell_type": "code",
      "metadata": {
        "colab": {
          "base_uri": "https://localhost:8080/",
          "height": 332
        },
        "id": "oWR4EQY2W_c5",
        "outputId": "75901b9d-bb8f-49b6-9521-960308641390"
      },
      "source": [
        "is_norm_rasp(target_group_2['y_1']-target_group_2['y_0'])"
      ],
      "execution_count": 95,
      "outputs": [
        {
          "output_type": "stream",
          "text": [
            "/usr/local/lib/python3.6/dist-packages/scipy/stats/morestats.py:1676: UserWarning: p-value may not be accurate for N > 5000.\n",
            "  warnings.warn(\"p-value may not be accurate for N > 5000.\")\n"
          ],
          "name": "stderr"
        },
        {
          "output_type": "stream",
          "text": [
            "p-value 0.38465145230293274\n",
            "Распределение нормальное\n"
          ],
          "name": "stdout"
        },
        {
          "output_type": "display_data",
          "data": {
            "image/png": "[encoded data removed]",
            "text/plain": [
              "<Figure size 432x288 with 1 Axes>"
            ]
          },
          "metadata": {
            "tags": [],
            "needs_background": "light"
          }
        }
      ]
    },
    {
      "cell_type": "code",
      "metadata": {
        "colab": {
          "base_uri": "https://localhost:8080/"
        },
        "id": "87-Miu-vXRwu",
        "outputId": "44c719cc-3ca4-4026-d26c-07b4e5dfe533"
      },
      "source": [
        "is_disps_equals(test_group_2['y_1']-test_group_2['y_0'], target_group_2['y_1']-target_group_2['y_0'])"
      ],
      "execution_count": 96,
      "outputs": [
        {
          "output_type": "stream",
          "text": [
            "p-value 0.9842194800359902\n",
            "Дисперсии равны\n"
          ],
          "name": "stdout"
        }
      ]
    },
    {
      "cell_type": "markdown",
      "metadata": {
        "id": "ZP6TZ4A7XsXw"
      },
      "source": [
        "Тесты показали, что распределения нормальные и дисперсии равны. Можно применять критерий равенства средних(t-тест)."
      ]
    },
    {
      "cell_type": "code",
      "metadata": {
        "colab": {
          "base_uri": "https://localhost:8080/",
          "height": 298
        },
        "id": "-9iH8fEbXb_b",
        "outputId": "bc56666f-bc1c-4209-cdf1-7e015c74e90e"
      },
      "source": [
        "t_crit(test_group_2['y_1']-test_group_2['y_0'], target_group_2['y_1']-target_group_2['y_0'], eq_var=True)"
      ],
      "execution_count": 97,
      "outputs": [
        {
          "output_type": "stream",
          "text": [
            "p-value 9.12276266827303e-20\n",
            "Средние не равны\n"
          ],
          "name": "stdout"
        },
        {
          "output_type": "display_data",
          "data": {
            "image/png": "[encoded data removed]",
            "text/plain": [
              "<Figure size 432x288 with 1 Axes>"
            ]
          },
          "metadata": {
            "tags": [],
            "needs_background": "light"
          }
        }
      ]
    },
    {
      "cell_type": "markdown",
      "metadata": {
        "id": "X3BI1eGIX_as"
      },
      "source": [
        "Тест показал, что средний прирост результата в двух группах различается."
      ]
    },
    {
      "cell_type": "markdown",
      "metadata": {
        "id": "7oE0HIXrZMBa"
      },
      "source": [
        "Теперь нужно оценить ATE. для начала попробуем использовать самый простой способ оценки -- линейную регрессию."
      ]
    },
    {
      "cell_type": "code",
      "metadata": {
        "id": "dldrO9Et8Wgj"
      },
      "source": [
        "def linear_reg(x, y):\n",
        "  x['ones'] = 1.0\n",
        "  model = sm.OLS(y, x)\n",
        "  results = model.fit()\n",
        "\n",
        "  print('treatment effect', results.params[0])"
      ],
      "execution_count": 142,
      "outputs": []
    },
    {
      "cell_type": "code",
      "metadata": {
        "colab": {
          "base_uri": "https://localhost:8080/"
        },
        "id": "wbcAUlBaaW8W",
        "outputId": "f6d68ffd-24a5-4819-913e-0a80d7c591b0"
      },
      "source": [
        "y = df_2['y_1'] - df_2['y_0']\n",
        "x = df_2.drop(['y_0', 'y_1'], axis=1)\n",
        "linear_reg(x, y)\n"
      ],
      "execution_count": 143,
      "outputs": [
        {
          "output_type": "stream",
          "text": [
            "treatment effect 0.5425071531832277\n"
          ],
          "name": "stdout"
        }
      ]
    },
    {
      "cell_type": "markdown",
      "metadata": {
        "id": "xb4cpGavAW6L"
      },
      "source": [
        "Из-за того, что среднее в начальный момент в выборках смещено, то линейная регресиия дала смещенную оценку. Так как средние на старте в данных группах различны, то будет логично применить метод Difference in differences."
      ]
    },
    {
      "cell_type": "code",
      "metadata": {
        "id": "RIcLzJ9mAlPZ"
      },
      "source": [
        "def did(df):\n",
        "  y_0 = df['y_0']\n",
        "  y_1 = df['y_1']\n",
        "  y = np.hstack((y_0, y_1)).reshape(-1, 1)\n",
        "  alpha = np.ones(y.shape)\n",
        "  T_0 = np.zeros(y_0.shape)\n",
        "  T_1 = np.ones(y_1.shape)\n",
        "  T = np.hstack((T_0, T_1)).reshape(-1, 1)\n",
        "  W_1 = df['W']\n",
        "  W = np.hstack((W_1, W_1)).reshape(-1, 1)\n",
        "  TW = np.hstack((T_0, W_1)).reshape(-1, 1)\n",
        "  x_arr = np.hstack((alpha, T, W, TW))\n",
        "\n",
        "  model = sm.OLS(y, x_arr)\n",
        "  results = model.fit()\n",
        "\n",
        "  DID_ATE = results.params[3]\n",
        "  print('treatment effect', results.params[3])\n",
        "\n",
        "  plt.figure(num=None, figsize=(4, 3), dpi=80, facecolor='w', edgecolor='k')\n",
        "  fig, ax = plt.subplots()\n",
        "  diff_target = (df[df['W'] == 1.0]['y_1'].mean() + (df[df['W'] == 0.0]['y_0'].mean() - df[df['W'] == 1.0]['y_0'].mean()))\n",
        "  lineNJ, = ax.plot(['0', '1'], [df[df['W'] == 0.0]['y_0'].mean(), df[df['W'] == 0.0]['y_1'].mean()],color='blue',label='test_group before and after')\n",
        "  linePA, = ax.plot(['0', '1'], [df[df['W'] == 1.0]['y_0'].mean(), df[df['W'] == 1.0]['y_1'].mean()],color = 'red',label = 'target_group before and after')\n",
        "  lineNJ0, = ax.plot(['0', '1'], [df[df['W'] == 0.0]['y_0'].mean(), diff_target],color = 'red',linestyle='dashed',label='difference terget')\n",
        "  ax.legend()\n",
        "  plt.ylim(0, 3)  \n",
        "  plt.title(\"Difference-in-differences: Before and After\", fontsize=\"14\")\n"
      ],
      "execution_count": 144,
      "outputs": []
    },
    {
      "cell_type": "code",
      "metadata": {
        "colab": {
          "base_uri": "https://localhost:8080/",
          "height": 316
        },
        "id": "32Rd3eVCpJ76",
        "outputId": "a3f601d2-170b-45fb-b95a-f28ca7ebba24"
      },
      "source": [
        "did(df_2)"
      ],
      "execution_count": 145,
      "outputs": [
        {
          "output_type": "stream",
          "text": [
            "treatment effect 0.5549047702971174\n"
          ],
          "name": "stdout"
        },
        {
          "output_type": "display_data",
          "data": {
            "text/plain": [
              "<Figure size 320x240 with 0 Axes>"
            ]
          },
          "metadata": {
            "tags": []
          }
        },
        {
          "output_type": "display_data",
          "data": {
            "image/png": "[encoded data removed]",
            "text/plain": [
              "<Figure size 432x288 with 1 Axes>"
            ]
          },
          "metadata": {
            "tags": [],
            "needs_background": "light"
          }
        }
      ]
    },
    {
      "cell_type": "markdown",
      "metadata": {
        "id": "DqH8uQ9pSRhv"
      },
      "source": [
        "Можно заметить, что результаты оценки ATE получились немного смещенными.\n"
      ]
    },
    {
      "cell_type": "markdown",
      "metadata": {
        "id": "-oZV4cggPKxT"
      },
      "source": [
        "Cuped"
      ]
    },
    {
      "cell_type": "code",
      "metadata": {
        "id": "5jq5BfpnPKBR"
      },
      "source": [
        "def cuped(df):\n",
        "  cov = ((df['y_1'] - df['y_1'].mean()) * (df['y_0'] - df['y_0'].mean())).sum() / df.shape[0]\n",
        "  tetta = cov / np.var(df['y_0'])\n",
        "  y_cuped = df['y_1'] - (df['y_0'] - df['y_0'].mean()) * tetta\n",
        "  print(y_cuped.mean())\n",
        "  print(df['y_1'].mean())\n",
        "  print(np.var(y_cuped))\n",
        "  print(np.var(df['y_1']))"
      ],
      "execution_count": 147,
      "outputs": []
    },
    {
      "cell_type": "code",
      "metadata": {
        "colab": {
          "base_uri": "https://localhost:8080/"
        },
        "id": "p3ivSJrv3oQ-",
        "outputId": "906d30a4-c189-45a4-86fa-cffa5a02a299"
      },
      "source": [
        "cuped(df_2)"
      ],
      "execution_count": 148,
      "outputs": [
        {
          "output_type": "stream",
          "text": [
            "2.104517421073833\n",
            "2.1045174210738353\n",
            "4.3034106593815915\n",
            "4.306339749101811\n"
          ],
          "name": "stdout"
        }
      ]
    },
    {
      "cell_type": "markdown",
      "metadata": {
        "id": "v5FquKuUYYUF"
      },
      "source": [
        "Применив метод увеличения мощности CUPED мы получили, что дисперсия уменьшилась незначительно(так как она и в начале была небольшой), поэтому искать ATE по y_cuped не имеет смысла."
      ]
    },
    {
      "cell_type": "markdown",
      "metadata": {
        "id": "vlLQYJ-mZQWD"
      },
      "source": [
        "ANCOVA"
      ]
    },
    {
      "cell_type": "code",
      "metadata": {
        "colab": {
          "base_uri": "https://localhost:8080/"
        },
        "id": "AWx_H6ZDFaX0",
        "outputId": "1dde58d8-c405-4c15-dac3-85c64539e647"
      },
      "source": [
        "x = df_2[['W', 'y_0']]\n",
        "y = df_2['y_1']\n",
        "ancova(x, y)"
      ],
      "execution_count": 76,
      "outputs": [
        {
          "output_type": "stream",
          "text": [
            "treatment effect 0.43448638144565055\n"
          ],
          "name": "stdout"
        },
        {
          "output_type": "stream",
          "text": [
            "/usr/local/lib/python3.6/dist-packages/ipykernel_launcher.py:2: SettingWithCopyWarning: \n",
            "A value is trying to be set on a copy of a slice from a DataFrame.\n",
            "Try using .loc[row_indexer,col_indexer] = value instead\n",
            "\n",
            "See the caveats in the documentation: https://pandas.pydata.org/pandas-docs/stable/user_guide/indexing.html#returning-a-view-versus-a-copy\n",
            "  \n"
          ],
          "name": "stderr"
        }
      ]
    },
    {
      "cell_type": "markdown",
      "metadata": {
        "id": "d68x6QoKdbCs"
      },
      "source": [
        "Так как при данной модификации ANCOVA не учитываются признаки объектов, то не учитываются поправки на неравномерность распределения эффекта и значение ATE получается не точным."
      ]
    },
    {
      "cell_type": "code",
      "metadata": {
        "colab": {
          "base_uri": "https://localhost:8080/"
        },
        "id": "h6AHk8RjJVnI",
        "outputId": "f4c42d1e-186e-4103-b657-abec740f6243"
      },
      "source": [
        "x = df_2.drop(columns=['y_0', 'y_1'], axis=1)\n",
        "y = df_2['y_1']\n",
        "ancova(x, y)"
      ],
      "execution_count": 77,
      "outputs": [
        {
          "output_type": "stream",
          "text": [
            "treatment effect 0.54819353431793\n"
          ],
          "name": "stdout"
        }
      ]
    },
    {
      "cell_type": "markdown",
      "metadata": {
        "id": "9T-phrv2xF16"
      },
      "source": [
        "В данной вариации метода учитываются признаки модели, поэтому результат получился похожим на результат, полученный с помощью линейной регрессии и метода Difference in differences."
      ]
    },
    {
      "cell_type": "markdown",
      "metadata": {
        "id": "_-GzXtZSykYa"
      },
      "source": [
        "Таким образом, все три модели оценки ATE показали примерно одинаковый результат(кроме метода ANCOVA без учета Х, так как еще в самом начале мы выяснили, что выборка разбита на две группы неравномерно по признакам Х_1 и Х_2). "
      ]
    },
    {
      "cell_type": "markdown",
      "metadata": {
        "id": "8WydeF2wNlM1"
      },
      "source": [
        "### 3. Построение uplift модели по результатам AB теста."
      ]
    },
    {
      "cell_type": "markdown",
      "metadata": {
        "id": "ViH_CFM2NlM1"
      },
      "source": [
        "Вам даны результаты AB теста для модели конверсии клиента в продукте (conversion). Конверсия может принимать значения 1 или 0, что значит - клиент подключил услугу, либо не подключил соответственно.\n",
        "\n",
        "\n",
        "\n",
        "\n",
        "\n",
        "\n",
        "Задача:\n",
        "1. Оцените ATE по данным.\n",
        "2. Оцените CATE для каждого наблюдения.\n",
        "3. Проставьте рекомендации к воздействию на каждый объект.\n",
        "4. Какая ожидаемая конверсия при оптимальном воздействии?\n",
        "5. Все выводы, предпосылки и методы представляйте в явном виде в ноутбуке.\n",
        "\n",
        "Визуализация результатов также будет приветствоваться.\n",
        "\n",
        "dataset_part3_students.csv"
      ]
    },
    {
      "cell_type": "code",
      "metadata": {
        "colab": {
          "base_uri": "https://localhost:8080/",
          "height": 249
        },
        "id": "uRWFKenCAIAt",
        "outputId": "96ac7fe0-cd5e-4e2b-f557-9deac5084952"
      },
      "source": [
        "df_3 = pd.read_csv('dataset_part3_students.csv', sep=\"\\\\t\")\n",
        "df_3.head(5)"
      ],
      "execution_count": 164,
      "outputs": [
        {
          "output_type": "stream",
          "text": [
            "/usr/local/lib/python3.6/dist-packages/ipykernel_launcher.py:1: ParserWarning: Falling back to the 'python' engine because the 'c' engine does not support regex separators (separators > 1 char and different from '\\s+' are interpreted as regex); you can avoid this warning by specifying engine='python'.\n",
            "  \"\"\"Entry point for launching an IPython kernel.\n"
          ],
          "name": "stderr"
        },
        {
          "output_type": "execute_result",
          "data": {
            "text/html": [
              "<div>\n",
              "<style scoped>\n",
              "    .dataframe tbody tr th:only-of-type {\n",
              "        vertical-align: middle;\n",
              "    }\n",
              "\n",
              "    .dataframe tbody tr th {\n",
              "        vertical-align: top;\n",
              "    }\n",
              "\n",
              "    .dataframe thead th {\n",
              "        text-align: right;\n",
              "    }\n",
              "</style>\n",
              "<table border=\"1\" class=\"dataframe\">\n",
              "  <thead>\n",
              "    <tr style=\"text-align: right;\">\n",
              "      <th></th>\n",
              "      <th>treatment</th>\n",
              "      <th>X_1</th>\n",
              "      <th>X_2</th>\n",
              "      <th>X_3</th>\n",
              "      <th>X_4</th>\n",
              "      <th>X_5</th>\n",
              "      <th>X_6</th>\n",
              "      <th>X_7</th>\n",
              "      <th>X_8</th>\n",
              "      <th>X_9</th>\n",
              "      <th>X_10</th>\n",
              "      <th>X_11</th>\n",
              "      <th>X_12</th>\n",
              "      <th>X_13</th>\n",
              "      <th>X_14</th>\n",
              "      <th>X_15</th>\n",
              "      <th>X_16</th>\n",
              "      <th>X_17</th>\n",
              "      <th>X_18</th>\n",
              "      <th>X_19</th>\n",
              "      <th>X_20</th>\n",
              "      <th>X_21</th>\n",
              "      <th>X_22</th>\n",
              "      <th>conversion</th>\n",
              "    </tr>\n",
              "  </thead>\n",
              "  <tbody>\n",
              "    <tr>\n",
              "      <th>0</th>\n",
              "      <td>control</td>\n",
              "      <td>0.034351</td>\n",
              "      <td>0.550725</td>\n",
              "      <td>-1.348524</td>\n",
              "      <td>-0.029591</td>\n",
              "      <td>0.499535</td>\n",
              "      <td>-0.412464</td>\n",
              "      <td>0.933588</td>\n",
              "      <td>-0.522954</td>\n",
              "      <td>-0.029591</td>\n",
              "      <td>-0.807218</td>\n",
              "      <td>1.318646</td>\n",
              "      <td>-0.065262</td>\n",
              "      <td>-0.956947</td>\n",
              "      <td>-0.314573</td>\n",
              "      <td>-0.879456</td>\n",
              "      <td>0.640264</td>\n",
              "      <td>1.165722</td>\n",
              "      <td>0.570495</td>\n",
              "      <td>0.529443</td>\n",
              "      <td>0.227962</td>\n",
              "      <td>1.929914</td>\n",
              "      <td>0.798664</td>\n",
              "      <td>0</td>\n",
              "    </tr>\n",
              "    <tr>\n",
              "      <th>1</th>\n",
              "      <td>control</td>\n",
              "      <td>-1.059404</td>\n",
              "      <td>0.299404</td>\n",
              "      <td>0.220273</td>\n",
              "      <td>-1.569660</td>\n",
              "      <td>1.084204</td>\n",
              "      <td>-2.167118</td>\n",
              "      <td>1.216469</td>\n",
              "      <td>-0.744547</td>\n",
              "      <td>-1.569660</td>\n",
              "      <td>-0.460971</td>\n",
              "      <td>-1.396720</td>\n",
              "      <td>0.600044</td>\n",
              "      <td>1.000000</td>\n",
              "      <td>0.303664</td>\n",
              "      <td>1.080643</td>\n",
              "      <td>2.646483</td>\n",
              "      <td>-0.329690</td>\n",
              "      <td>1.725636</td>\n",
              "      <td>1.434649</td>\n",
              "      <td>-2.064893</td>\n",
              "      <td>0.188000</td>\n",
              "      <td>-1.134651</td>\n",
              "      <td>0</td>\n",
              "    </tr>\n",
              "    <tr>\n",
              "      <th>2</th>\n",
              "      <td>control</td>\n",
              "      <td>0.051934</td>\n",
              "      <td>2.338729</td>\n",
              "      <td>-0.341017</td>\n",
              "      <td>-1.099362</td>\n",
              "      <td>0.693090</td>\n",
              "      <td>-2.424267</td>\n",
              "      <td>1.572066</td>\n",
              "      <td>-0.212798</td>\n",
              "      <td>-1.099362</td>\n",
              "      <td>-1.430502</td>\n",
              "      <td>0.469694</td>\n",
              "      <td>1.251940</td>\n",
              "      <td>0.943003</td>\n",
              "      <td>-0.083721</td>\n",
              "      <td>-1.981712</td>\n",
              "      <td>0.224777</td>\n",
              "      <td>2.038004</td>\n",
              "      <td>2.516398</td>\n",
              "      <td>2.324280</td>\n",
              "      <td>-3.182196</td>\n",
              "      <td>-0.888490</td>\n",
              "      <td>-1.402561</td>\n",
              "      <td>0</td>\n",
              "    </tr>\n",
              "    <tr>\n",
              "      <th>3</th>\n",
              "      <td>treatment</td>\n",
              "      <td>0.667770</td>\n",
              "      <td>0.539316</td>\n",
              "      <td>0.468719</td>\n",
              "      <td>-0.840885</td>\n",
              "      <td>-0.708331</td>\n",
              "      <td>0.126634</td>\n",
              "      <td>1.275854</td>\n",
              "      <td>-0.954919</td>\n",
              "      <td>-0.840885</td>\n",
              "      <td>0.408691</td>\n",
              "      <td>-0.422736</td>\n",
              "      <td>-1.593407</td>\n",
              "      <td>0.247038</td>\n",
              "      <td>-0.752011</td>\n",
              "      <td>-0.347319</td>\n",
              "      <td>-1.659402</td>\n",
              "      <td>-0.871980</td>\n",
              "      <td>-0.893513</td>\n",
              "      <td>-0.658078</td>\n",
              "      <td>-2.704997</td>\n",
              "      <td>-0.390745</td>\n",
              "      <td>-1.578004</td>\n",
              "      <td>1</td>\n",
              "    </tr>\n",
              "    <tr>\n",
              "      <th>4</th>\n",
              "      <td>control</td>\n",
              "      <td>-1.416158</td>\n",
              "      <td>2.486628</td>\n",
              "      <td>0.496402</td>\n",
              "      <td>-1.174618</td>\n",
              "      <td>2.738267</td>\n",
              "      <td>-4.756755</td>\n",
              "      <td>-0.180918</td>\n",
              "      <td>-1.281432</td>\n",
              "      <td>-1.174618</td>\n",
              "      <td>-0.243256</td>\n",
              "      <td>0.598662</td>\n",
              "      <td>0.750706</td>\n",
              "      <td>0.554053</td>\n",
              "      <td>-1.198151</td>\n",
              "      <td>-0.232961</td>\n",
              "      <td>0.948875</td>\n",
              "      <td>1.210523</td>\n",
              "      <td>1.536723</td>\n",
              "      <td>1.548610</td>\n",
              "      <td>-0.926435</td>\n",
              "      <td>0.972459</td>\n",
              "      <td>-0.711251</td>\n",
              "      <td>0</td>\n",
              "    </tr>\n",
              "  </tbody>\n",
              "</table>\n",
              "</div>"
            ],
            "text/plain": [
              "   treatment       X_1       X_2  ...      X_21      X_22  conversion\n",
              "0    control  0.034351  0.550725  ...  1.929914  0.798664           0\n",
              "1    control -1.059404  0.299404  ...  0.188000 -1.134651           0\n",
              "2    control  0.051934  2.338729  ... -0.888490 -1.402561           0\n",
              "3  treatment  0.667770  0.539316  ... -0.390745 -1.578004           1\n",
              "4    control -1.416158  2.486628  ...  0.972459 -0.711251           0\n",
              "\n",
              "[5 rows x 24 columns]"
            ]
          },
          "metadata": {
            "tags": []
          },
          "execution_count": 164
        }
      ]
    },
    {
      "cell_type": "code",
      "metadata": {
        "colab": {
          "base_uri": "https://localhost:8080/"
        },
        "id": "WqM6odj9AJks",
        "outputId": "fac23825-48a8-440e-ee25-cd62ab7e18d4"
      },
      "source": [
        "df_3['conversion'].value_counts()"
      ],
      "execution_count": 175,
      "outputs": [
        {
          "output_type": "execute_result",
          "data": {
            "text/plain": [
              "0    169413\n",
              "1     30587\n",
              "Name: conversion, dtype: int64"
            ]
          },
          "metadata": {
            "tags": []
          },
          "execution_count": 175
        }
      ]
    },
    {
      "cell_type": "code",
      "metadata": {
        "colab": {
          "base_uri": "https://localhost:8080/",
          "height": 304
        },
        "id": "Ic-ngJSnNlM1",
        "outputId": "25b91e86-ed86-45d1-f4b9-14055f059f46"
      },
      "source": [
        "df_3.describe()"
      ],
      "execution_count": 165,
      "outputs": [
        {
          "output_type": "execute_result",
          "data": {
            "text/html": [
              "<div>\n",
              "<style scoped>\n",
              "    .dataframe tbody tr th:only-of-type {\n",
              "        vertical-align: middle;\n",
              "    }\n",
              "\n",
              "    .dataframe tbody tr th {\n",
              "        vertical-align: top;\n",
              "    }\n",
              "\n",
              "    .dataframe thead th {\n",
              "        text-align: right;\n",
              "    }\n",
              "</style>\n",
              "<table border=\"1\" class=\"dataframe\">\n",
              "  <thead>\n",
              "    <tr style=\"text-align: right;\">\n",
              "      <th></th>\n",
              "      <th>X_1</th>\n",
              "      <th>X_2</th>\n",
              "      <th>X_3</th>\n",
              "      <th>X_4</th>\n",
              "      <th>X_5</th>\n",
              "      <th>X_6</th>\n",
              "      <th>X_7</th>\n",
              "      <th>X_8</th>\n",
              "      <th>X_9</th>\n",
              "      <th>X_10</th>\n",
              "      <th>X_11</th>\n",
              "      <th>X_12</th>\n",
              "      <th>X_13</th>\n",
              "      <th>X_14</th>\n",
              "      <th>X_15</th>\n",
              "      <th>X_16</th>\n",
              "      <th>X_17</th>\n",
              "      <th>X_18</th>\n",
              "      <th>X_19</th>\n",
              "      <th>X_20</th>\n",
              "      <th>X_21</th>\n",
              "      <th>X_22</th>\n",
              "      <th>conversion</th>\n",
              "    </tr>\n",
              "  </thead>\n",
              "  <tbody>\n",
              "    <tr>\n",
              "      <th>count</th>\n",
              "      <td>200000.000000</td>\n",
              "      <td>200000.000000</td>\n",
              "      <td>200000.000000</td>\n",
              "      <td>200000.000000</td>\n",
              "      <td>200000.000000</td>\n",
              "      <td>200000.000000</td>\n",
              "      <td>200000.000000</td>\n",
              "      <td>200000.000000</td>\n",
              "      <td>200000.000000</td>\n",
              "      <td>200000.000000</td>\n",
              "      <td>200000.000000</td>\n",
              "      <td>200000.000000</td>\n",
              "      <td>200000.000000</td>\n",
              "      <td>200000.000000</td>\n",
              "      <td>200000.000000</td>\n",
              "      <td>200000.000000</td>\n",
              "      <td>200000.000000</td>\n",
              "      <td>200000.000000</td>\n",
              "      <td>200000.000000</td>\n",
              "      <td>200000.000000</td>\n",
              "      <td>200000.000000</td>\n",
              "      <td>200000.000000</td>\n",
              "      <td>200000.000000</td>\n",
              "    </tr>\n",
              "    <tr>\n",
              "      <th>mean</th>\n",
              "      <td>-0.366881</td>\n",
              "      <td>1.000991</td>\n",
              "      <td>0.001935</td>\n",
              "      <td>-0.756540</td>\n",
              "      <td>1.000084</td>\n",
              "      <td>-1.667107</td>\n",
              "      <td>1.000705</td>\n",
              "      <td>-0.000710</td>\n",
              "      <td>-0.756540</td>\n",
              "      <td>0.005147</td>\n",
              "      <td>-0.001179</td>\n",
              "      <td>0.001210</td>\n",
              "      <td>0.000445</td>\n",
              "      <td>0.000694</td>\n",
              "      <td>-0.001166</td>\n",
              "      <td>0.730801</td>\n",
              "      <td>0.724893</td>\n",
              "      <td>0.729323</td>\n",
              "      <td>0.713093</td>\n",
              "      <td>-0.454716</td>\n",
              "      <td>0.454133</td>\n",
              "      <td>-0.226181</td>\n",
              "      <td>0.152935</td>\n",
              "    </tr>\n",
              "    <tr>\n",
              "      <th>std</th>\n",
              "      <td>0.747049</td>\n",
              "      <td>1.260868</td>\n",
              "      <td>1.004051</td>\n",
              "      <td>1.374899</td>\n",
              "      <td>1.244811</td>\n",
              "      <td>2.063263</td>\n",
              "      <td>1.040636</td>\n",
              "      <td>0.999507</td>\n",
              "      <td>1.374899</td>\n",
              "      <td>1.001864</td>\n",
              "      <td>1.001020</td>\n",
              "      <td>1.002052</td>\n",
              "      <td>1.000733</td>\n",
              "      <td>0.997000</td>\n",
              "      <td>0.999781</td>\n",
              "      <td>1.295677</td>\n",
              "      <td>1.156846</td>\n",
              "      <td>1.376184</td>\n",
              "      <td>1.125988</td>\n",
              "      <td>1.454906</td>\n",
              "      <td>1.343870</td>\n",
              "      <td>0.882719</td>\n",
              "      <td>0.359926</td>\n",
              "    </tr>\n",
              "    <tr>\n",
              "      <th>min</th>\n",
              "      <td>-4.260103</td>\n",
              "      <td>-4.369495</td>\n",
              "      <td>-4.670829</td>\n",
              "      <td>-5.754862</td>\n",
              "      <td>-5.983915</td>\n",
              "      <td>-10.220168</td>\n",
              "      <td>-4.166615</td>\n",
              "      <td>-4.227920</td>\n",
              "      <td>-5.754862</td>\n",
              "      <td>-4.777980</td>\n",
              "      <td>-4.546409</td>\n",
              "      <td>-4.445577</td>\n",
              "      <td>-4.550388</td>\n",
              "      <td>-4.528661</td>\n",
              "      <td>-4.401616</td>\n",
              "      <td>-5.578769</td>\n",
              "      <td>-5.638730</td>\n",
              "      <td>-4.638177</td>\n",
              "      <td>-3.808153</td>\n",
              "      <td>-6.811223</td>\n",
              "      <td>-4.291047</td>\n",
              "      <td>-4.069459</td>\n",
              "      <td>0.000000</td>\n",
              "    </tr>\n",
              "    <tr>\n",
              "      <th>25%</th>\n",
              "      <td>-0.862987</td>\n",
              "      <td>0.149688</td>\n",
              "      <td>-0.672525</td>\n",
              "      <td>-1.661703</td>\n",
              "      <td>0.167853</td>\n",
              "      <td>-3.060503</td>\n",
              "      <td>0.315748</td>\n",
              "      <td>-0.675240</td>\n",
              "      <td>-1.661703</td>\n",
              "      <td>-0.672295</td>\n",
              "      <td>-0.675308</td>\n",
              "      <td>-0.676829</td>\n",
              "      <td>-0.672417</td>\n",
              "      <td>-0.669325</td>\n",
              "      <td>-0.678250</td>\n",
              "      <td>-0.098053</td>\n",
              "      <td>0.104129</td>\n",
              "      <td>-0.228769</td>\n",
              "      <td>-0.067630</td>\n",
              "      <td>-1.525196</td>\n",
              "      <td>-0.547735</td>\n",
              "      <td>-0.837005</td>\n",
              "      <td>0.000000</td>\n",
              "    </tr>\n",
              "    <tr>\n",
              "      <th>50%</th>\n",
              "      <td>-0.373147</td>\n",
              "      <td>0.999645</td>\n",
              "      <td>0.005157</td>\n",
              "      <td>-0.864479</td>\n",
              "      <td>1.001572</td>\n",
              "      <td>-1.686846</td>\n",
              "      <td>0.999920</td>\n",
              "      <td>-0.001920</td>\n",
              "      <td>-0.864479</td>\n",
              "      <td>0.007714</td>\n",
              "      <td>0.000699</td>\n",
              "      <td>0.001778</td>\n",
              "      <td>0.001085</td>\n",
              "      <td>-0.002532</td>\n",
              "      <td>-0.000079</td>\n",
              "      <td>0.800327</td>\n",
              "      <td>0.839588</td>\n",
              "      <td>0.764489</td>\n",
              "      <td>0.740424</td>\n",
              "      <td>-0.372879</td>\n",
              "      <td>0.506115</td>\n",
              "      <td>-0.193615</td>\n",
              "      <td>0.000000</td>\n",
              "    </tr>\n",
              "    <tr>\n",
              "      <th>75%</th>\n",
              "      <td>0.120436</td>\n",
              "      <td>1.851332</td>\n",
              "      <td>0.680293</td>\n",
              "      <td>-0.012428</td>\n",
              "      <td>1.832482</td>\n",
              "      <td>-0.296865</td>\n",
              "      <td>1.682196</td>\n",
              "      <td>0.671658</td>\n",
              "      <td>-0.012428</td>\n",
              "      <td>0.678861</td>\n",
              "      <td>0.675092</td>\n",
              "      <td>0.677818</td>\n",
              "      <td>0.676277</td>\n",
              "      <td>0.671813</td>\n",
              "      <td>0.670672</td>\n",
              "      <td>1.620866</td>\n",
              "      <td>1.500485</td>\n",
              "      <td>1.686777</td>\n",
              "      <td>1.495407</td>\n",
              "      <td>0.747596</td>\n",
              "      <td>1.431963</td>\n",
              "      <td>0.411282</td>\n",
              "      <td>0.000000</td>\n",
              "    </tr>\n",
              "    <tr>\n",
              "      <th>max</th>\n",
              "      <td>4.121888</td>\n",
              "      <td>6.726024</td>\n",
              "      <td>4.976332</td>\n",
              "      <td>9.593777</td>\n",
              "      <td>6.820825</td>\n",
              "      <td>9.094394</td>\n",
              "      <td>7.081333</td>\n",
              "      <td>5.439752</td>\n",
              "      <td>9.593777</td>\n",
              "      <td>4.325225</td>\n",
              "      <td>4.957473</td>\n",
              "      <td>4.247420</td>\n",
              "      <td>4.873599</td>\n",
              "      <td>4.482854</td>\n",
              "      <td>5.125249</td>\n",
              "      <td>5.660769</td>\n",
              "      <td>4.982925</td>\n",
              "      <td>6.418469</td>\n",
              "      <td>5.431105</td>\n",
              "      <td>5.147421</td>\n",
              "      <td>6.085848</td>\n",
              "      <td>3.196679</td>\n",
              "      <td>1.000000</td>\n",
              "    </tr>\n",
              "  </tbody>\n",
              "</table>\n",
              "</div>"
            ],
            "text/plain": [
              "                 X_1            X_2  ...           X_22     conversion\n",
              "count  200000.000000  200000.000000  ...  200000.000000  200000.000000\n",
              "mean       -0.366881       1.000991  ...      -0.226181       0.152935\n",
              "std         0.747049       1.260868  ...       0.882719       0.359926\n",
              "min        -4.260103      -4.369495  ...      -4.069459       0.000000\n",
              "25%        -0.862987       0.149688  ...      -0.837005       0.000000\n",
              "50%        -0.373147       0.999645  ...      -0.193615       0.000000\n",
              "75%         0.120436       1.851332  ...       0.411282       0.000000\n",
              "max         4.121888       6.726024  ...       3.196679       1.000000\n",
              "\n",
              "[8 rows x 23 columns]"
            ]
          },
          "metadata": {
            "tags": []
          },
          "execution_count": 165
        }
      ]
    },
    {
      "cell_type": "code",
      "metadata": {
        "colab": {
          "base_uri": "https://localhost:8080/"
        },
        "id": "jAfpqXl1_RZw",
        "outputId": "79eb9a10-69e9-42b9-8819-f4f6fa50db1d"
      },
      "source": [
        "test_group_3 = df_3[df_3['treatment'] == 'control']\n",
        "target_group_3 = df_3[df_3['treatment'] == 'treatment']\n",
        "print(test_group_3.head(5))\n",
        "print(target_group_3.head(5))\n"
      ],
      "execution_count": 168,
      "outputs": [
        {
          "output_type": "stream",
          "text": [
            "  treatment       X_1       X_2  ...      X_21      X_22  conversion\n",
            "0   control  0.034351  0.550725  ...  1.929914  0.798664           0\n",
            "1   control -1.059404  0.299404  ...  0.188000 -1.134651           0\n",
            "2   control  0.051934  2.338729  ... -0.888490 -1.402561           0\n",
            "4   control -1.416158  2.486628  ...  0.972459 -0.711251           0\n",
            "7   control -2.410102  2.830583  ... -1.446302  0.899446           1\n",
            "\n",
            "[5 rows x 24 columns]\n",
            "    treatment       X_1       X_2  ...      X_21      X_22  conversion\n",
            "3   treatment  0.667770  0.539316  ... -0.390745 -1.578004           1\n",
            "5   treatment -1.793243  2.198746  ...  1.974227  1.612162           0\n",
            "6   treatment -0.837370  2.013852  ... -1.317740  0.786878           0\n",
            "9   treatment -0.216465  0.905275  ...  0.177017 -1.838169           0\n",
            "10  treatment -1.027473  2.389843  ... -0.011218 -1.080762           0\n",
            "\n",
            "[5 rows x 24 columns]\n"
          ],
          "name": "stdout"
        }
      ]
    },
    {
      "cell_type": "code",
      "metadata": {
        "colab": {
          "base_uri": "https://localhost:8080/"
        },
        "id": "H9y0uT9A_crt",
        "outputId": "0cfe254a-4a58-4712-8eda-3e903143eca2"
      },
      "source": [
        "df_3['treatment'].value_counts()"
      ],
      "execution_count": 177,
      "outputs": [
        {
          "output_type": "execute_result",
          "data": {
            "text/plain": [
              "treatment    100000\n",
              "control      100000\n",
              "Name: treatment, dtype: int64"
            ]
          },
          "metadata": {
            "tags": []
          },
          "execution_count": 177
        }
      ]
    },
    {
      "cell_type": "markdown",
      "metadata": {
        "id": "GOR21BEM3-dp"
      },
      "source": [
        "Данная выборка также разбита на равные группы, значит MDE оптимальный."
      ]
    },
    {
      "cell_type": "code",
      "metadata": {
        "colab": {
          "base_uri": "https://localhost:8080/",
          "height": 1000
        },
        "id": "MNuUnbtA_TWe",
        "outputId": "c12489ff-fd8d-4b10-c2c4-12ba8abdeeb6"
      },
      "source": [
        "plot_variables_hists(test_group_3, target_group_3)"
      ],
      "execution_count": 170,
      "outputs": [
        {
          "output_type": "display_data",
          "data": {
            "image/png": "[encoded data removed]",
            "text/plain": [
              "<Figure size 432x288 with 1 Axes>"
            ]
          },
          "metadata": {
            "tags": [],
            "needs_background": "light"
          }
        },
        {
          "output_type": "display_data",
          "data": {
            "image/png": "[encoded data removed]",
            "text/plain": [
              "<Figure size 432x288 with 1 Axes>"
            ]
          },
          "metadata": {
            "tags": [],
            "needs_background": "light"
          }
        },
        {
          "output_type": "display_data",
          "data": {
            "image/png": "[encoded data removed]",
            "text/plain": [
              "<Figure size 432x288 with 1 Axes>"
            ]
          },
          "metadata": {
            "tags": [],
            "needs_background": "light"
          }
        },
        {
          "output_type": "display_data",
          "data": {
            "image/png": "[encoded data removed]",
            "text/plain": [
              "<Figure size 432x288 with 1 Axes>"
            ]
          },
          "metadata": {
            "tags": [],
            "needs_background": "light"
          }
        },
        {
          "output_type": "display_data",
          "data": {
            "image/png": "[encoded data removed]",
            "text/plain": [
              "<Figure size 432x288 with 1 Axes>"
            ]
          },
          "metadata": {
            "tags": [],
            "needs_background": "light"
          }
        },
        {
          "output_type": "display_data",
          "data": {
            "image/png": "[encoded data removed]",
            "text/plain": [
              "<Figure size 432x288 with 1 Axes>"
            ]
          },
          "metadata": {
            "tags": [],
            "needs_background": "light"
          }
        },
        {
          "output_type": "display_data",
          "data": {
            "image/png": "[encoded data removed]",
            "text/plain": [
              "<Figure size 432x288 with 1 Axes>"
            ]
          },
          "metadata": {
            "tags": [],
            "needs_background": "light"
          }
        },
        {
          "output_type": "display_data",
          "data": {
            "image/png": "[encoded data removed]",
            "text/plain": [
              "<Figure size 432x288 with 1 Axes>"
            ]
          },
          "metadata": {
            "tags": [],
            "needs_background": "light"
          }
        },
        {
          "output_type": "display_data",
          "data": {
            "image/png": "[encoded data removed]",
            "text/plain": [
              "<Figure size 432x288 with 1 Axes>"
            ]
          },
          "metadata": {
            "tags": [],
            "needs_background": "light"
          }
        },
        {
          "output_type": "display_data",
          "data": {
            "image/png": "[encoded data removed]",
            "text/plain": [
              "<Figure size 432x288 with 1 Axes>"
            ]
          },
          "metadata": {
            "tags": [],
            "needs_background": "light"
          }
        },
        {
          "output_type": "display_data",
          "data": {
            "image/png": "[encoded data removed]",
            "text/plain": [
              "<Figure size 432x288 with 1 Axes>"
            ]
          },
          "metadata": {
            "tags": [],
            "needs_background": "light"
          }
        },
        {
          "output_type": "display_data",
          "data": {
            "image/png": "[encoded data removed]",
            "text/plain": [
              "<Figure size 432x288 with 1 Axes>"
            ]
          },
          "metadata": {
            "tags": [],
            "needs_background": "light"
          }
        },
        {
          "output_type": "display_data",
          "data": {
            "image/png": "[encoded data removed]",
            "text/plain": [
              "<Figure size 432x288 with 1 Axes>"
            ]
          },
          "metadata": {
            "tags": [],
            "needs_background": "light"
          }
        },
        {
          "output_type": "display_data",
          "data": {
            "image/png": "[encoded data removed]",
            "text/plain": [
              "<Figure size 432x288 with 1 Axes>"
            ]
          },
          "metadata": {
            "tags": [],
            "needs_background": "light"
          }
        },
        {
          "output_type": "display_data",
          "data": {
            "image/png": "[encoded data removed]",
            "text/plain": [
              "<Figure size 432x288 with 1 Axes>"
            ]
          },
          "metadata": {
            "tags": [],
            "needs_background": "light"
          }
        },
        {
          "output_type": "display_data",
          "data": {
            "image/png": "[encoded data removed]",
            "text/plain": [
              "<Figure size 432x288 with 1 Axes>"
            ]
          },
          "metadata": {
            "tags": [],
            "needs_background": "light"
          }
        },
        {
          "output_type": "display_data",
          "data": {
            "image/png": "[encoded data removed]",
            "text/plain": [
              "<Figure size 432x288 with 1 Axes>"
            ]
          },
          "metadata": {
            "tags": [],
            "needs_background": "light"
          }
        },
        {
          "output_type": "display_data",
          "data": {
            "image/png": "[encoded data removed]",
            "text/plain": [
              "<Figure size 432x288 with 1 Axes>"
            ]
          },
          "metadata": {
            "tags": [],
            "needs_background": "light"
          }
        },
        {
          "output_type": "display_data",
          "data": {
            "image/png": "[encoded data removed]",
            "text/plain": [
              "<Figure size 432x288 with 1 Axes>"
            ]
          },
          "metadata": {
            "tags": [],
            "needs_background": "light"
          }
        },
        {
          "output_type": "display_data",
          "data": {
            "image/png": "[encoded data removed]",
            "text/plain": [
              "<Figure size 432x288 with 1 Axes>"
            ]
          },
          "metadata": {
            "tags": [],
            "needs_background": "light"
          }
        },
        {
          "output_type": "display_data",
          "data": {
            "image/png": "[encoded data removed]",
            "text/plain": [
              "<Figure size 432x288 with 1 Axes>"
            ]
          },
          "metadata": {
            "tags": [],
            "needs_background": "light"
          }
        },
        {
          "output_type": "display_data",
          "data": {
            "image/png": "[encoded data removed]",
            "text/plain": [
              "<Figure size 432x288 with 1 Axes>"
            ]
          },
          "metadata": {
            "tags": [],
            "needs_background": "light"
          }
        }
      ]
    },
    {
      "cell_type": "markdown",
      "metadata": {
        "id": "3fTnr4Xz_krq"
      },
      "source": [
        "Из графиков видно, что распределение по группам не зависит от признаков. Можно сделать вывод, что эксперимент хорошо рандомизирован."
      ]
    },
    {
      "cell_type": "markdown",
      "metadata": {
        "id": "codzQ-4HHM0k"
      },
      "source": [
        "Оценка ATE"
      ]
    },
    {
      "cell_type": "markdown",
      "metadata": {
        "id": "5hLdOo7gM1Y_"
      },
      "source": [
        "Исходя из особенностей данных не получится использовать подходы, которые использовались раньше, так как неизвестны начальные и конечные результаты, имеется только разница между ними. Поэтому используем метод из библиотеки causalml."
      ]
    },
    {
      "cell_type": "code",
      "metadata": {
        "id": "vimDl6etBofK"
      },
      "source": [
        "!pip install causalml"
      ],
      "execution_count": null,
      "outputs": []
    },
    {
      "cell_type": "code",
      "metadata": {
        "colab": {
          "base_uri": "https://localhost:8080/"
        },
        "id": "KrNo3IpEBPFn",
        "outputId": "41608d42-4f9b-443a-952b-9c5487bb342f"
      },
      "source": [
        "from sklearn.model_selection import train_test_split\n",
        "from causalml.inference.tree import UpliftRandomForestClassifier\n",
        "from causalml.inference.meta import LRSRegressor"
      ],
      "execution_count": 184,
      "outputs": [
        {
          "output_type": "stream",
          "text": [
            "/usr/local/lib/python3.6/dist-packages/sklearn/utils/deprecation.py:144: FutureWarning: The sklearn.utils.testing module is  deprecated in version 0.22 and will be removed in version 0.24. The corresponding classes / functions should instead be imported from sklearn.utils. Anything that cannot be imported from sklearn.utils is now part of the private API.\n",
            "  warnings.warn(message, FutureWarning)\n"
          ],
          "name": "stderr"
        }
      ]
    },
    {
      "cell_type": "code",
      "metadata": {
        "colab": {
          "base_uri": "https://localhost:8080/"
        },
        "id": "072U00_oDS4c",
        "outputId": "50c5d115-e543-4660-bdde-4bc01019e347"
      },
      "source": [
        "regressor = LRSRegressor(control_name='control')\n",
        "ate, lower_ate, upper_ate = regressor.estimate_ate(df_3.drop(['conversion', 'treatment'], axis=1).values,\n",
        "                                          df_3['treatment'].values, df_3['conversion'].values)\n",
        "print(\"ATE {} lower bound {} upper bound {}\".format(ate, lower_ate, upper_ate))"
      ],
      "execution_count": 188,
      "outputs": [
        {
          "output_type": "stream",
          "text": [
            "ATE [0.06024252] lower bound [0.05763117] upper bound [0.06285388]\n"
          ],
          "name": "stdout"
        }
      ]
    },
    {
      "cell_type": "markdown",
      "metadata": {
        "id": "NC5NMKevL645"
      },
      "source": [
        "Оценка ATE получена с помощью LRSRegressor из библиотеки causalml. Для ATE сразу рассчитываются верхняя и нижняя граница."
      ]
    },
    {
      "cell_type": "markdown",
      "metadata": {
        "id": "c1EmluDUBNmL"
      },
      "source": [
        "CATE"
      ]
    },
    {
      "cell_type": "code",
      "metadata": {
        "id": "t7WoqdYxCDzC"
      },
      "source": [
        "df_train, _ = train_test_split(df_3, test_size=0.25, random_state=42)"
      ],
      "execution_count": 189,
      "outputs": []
    },
    {
      "cell_type": "code",
      "metadata": {
        "id": "poCZQ-hXCEER"
      },
      "source": [
        "uplift_model = UpliftRandomForestClassifier(control_name='control', n_estimators=10, n_jobs=1)"
      ],
      "execution_count": 194,
      "outputs": []
    },
    {
      "cell_type": "code",
      "metadata": {
        "id": "LXUy84YPDGiB"
      },
      "source": [
        "uplift_model.fit(df_train.drop(['conversion', 'treatment'], axis=1).values,\n",
        "                 treatment=df_train['treatment'].values,\n",
        "                 y = df_train['conversion'].values)"
      ],
      "execution_count": 195,
      "outputs": []
    },
    {
      "cell_type": "code",
      "metadata": {
        "id": "nahh7SRTF06C"
      },
      "source": [
        "scores = uplift_model.predict(df_3.drop(['conversion', 'treatment'], axis=1).values, full_output=True)"
      ],
      "execution_count": 196,
      "outputs": []
    },
    {
      "cell_type": "code",
      "metadata": {
        "colab": {
          "base_uri": "https://localhost:8080/",
          "height": 195
        },
        "id": "tUVH115CJ-MI",
        "outputId": "b917971b-1d7e-49c8-88ec-1a0fa09df9bb"
      },
      "source": [
        "scores.head()"
      ],
      "execution_count": 197,
      "outputs": [
        {
          "output_type": "execute_result",
          "data": {
            "text/html": [
              "<div>\n",
              "<style scoped>\n",
              "    .dataframe tbody tr th:only-of-type {\n",
              "        vertical-align: middle;\n",
              "    }\n",
              "\n",
              "    .dataframe tbody tr th {\n",
              "        vertical-align: top;\n",
              "    }\n",
              "\n",
              "    .dataframe thead th {\n",
              "        text-align: right;\n",
              "    }\n",
              "</style>\n",
              "<table border=\"1\" class=\"dataframe\">\n",
              "  <thead>\n",
              "    <tr style=\"text-align: right;\">\n",
              "      <th></th>\n",
              "      <th>treatment</th>\n",
              "      <th>control</th>\n",
              "      <th>recommended_treatment</th>\n",
              "      <th>delta_treatment</th>\n",
              "      <th>max_delta</th>\n",
              "    </tr>\n",
              "  </thead>\n",
              "  <tbody>\n",
              "    <tr>\n",
              "      <th>0</th>\n",
              "      <td>0.185137</td>\n",
              "      <td>0.095598</td>\n",
              "      <td>0</td>\n",
              "      <td>0.089539</td>\n",
              "      <td>0.089539</td>\n",
              "    </tr>\n",
              "    <tr>\n",
              "      <th>1</th>\n",
              "      <td>0.128807</td>\n",
              "      <td>0.110889</td>\n",
              "      <td>0</td>\n",
              "      <td>0.017918</td>\n",
              "      <td>0.017918</td>\n",
              "    </tr>\n",
              "    <tr>\n",
              "      <th>2</th>\n",
              "      <td>0.124571</td>\n",
              "      <td>0.119979</td>\n",
              "      <td>0</td>\n",
              "      <td>0.004592</td>\n",
              "      <td>0.004592</td>\n",
              "    </tr>\n",
              "    <tr>\n",
              "      <th>3</th>\n",
              "      <td>0.404646</td>\n",
              "      <td>0.103024</td>\n",
              "      <td>0</td>\n",
              "      <td>0.301622</td>\n",
              "      <td>0.301622</td>\n",
              "    </tr>\n",
              "    <tr>\n",
              "      <th>4</th>\n",
              "      <td>0.103417</td>\n",
              "      <td>0.095712</td>\n",
              "      <td>0</td>\n",
              "      <td>0.007705</td>\n",
              "      <td>0.007705</td>\n",
              "    </tr>\n",
              "  </tbody>\n",
              "</table>\n",
              "</div>"
            ],
            "text/plain": [
              "   treatment   control  recommended_treatment  delta_treatment  max_delta\n",
              "0   0.185137  0.095598                      0         0.089539   0.089539\n",
              "1   0.128807  0.110889                      0         0.017918   0.017918\n",
              "2   0.124571  0.119979                      0         0.004592   0.004592\n",
              "3   0.404646  0.103024                      0         0.301622   0.301622\n",
              "4   0.103417  0.095712                      0         0.007705   0.007705"
            ]
          },
          "metadata": {
            "tags": []
          },
          "execution_count": 197
        }
      ]
    },
    {
      "cell_type": "markdown",
      "metadata": {
        "id": "cQwhK65UKqNi"
      },
      "source": [
        "В данной таблице представлены рекомендации к воздействию на каждый объект(recommended_treatment).Также в колонке delta_treatment представлены оценки CATE."
      ]
    },
    {
      "cell_type": "markdown",
      "metadata": {
        "id": "XKPWnomKLqiO"
      },
      "source": [
        "Рассчитаем ожидаемую конверсию при оптимальном воздействии:"
      ]
    },
    {
      "cell_type": "code",
      "metadata": {
        "colab": {
          "base_uri": "https://localhost:8080/"
        },
        "id": "PXhAGUIYE19O",
        "outputId": "fa2ee23a-6d14-46a2-cfac-c1e3fa48a83d"
      },
      "source": [
        "summary = uplift_model.predict(df_3.drop(['conversion', 'treatment'], axis=1).values).sum()\n",
        "print(\"Суммарная конверсия при оптимальном воздействии: {}\".format(summary))"
      ],
      "execution_count": 198,
      "outputs": [
        {
          "output_type": "stream",
          "text": [
            "Суммарная конверсия при оптимальном воздействии: 11715.312273600002\n"
          ],
          "name": "stdout"
        }
      ]
    }
  ]
}